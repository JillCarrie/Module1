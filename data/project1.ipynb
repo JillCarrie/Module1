{
 "cells": [
  {
   "cell_type": "code",
   "execution_count": 193,
   "metadata": {},
   "outputs": [],
   "source": [
    "import pandas as pd\n",
    "import numpy as np\n",
    "import matplotlib.pyplot as plt\n",
    "import seaborn as sns\n",
    "import missingno as msno\n",
    "import datetime as dt\n",
    "%matplotlib inline"
   ]
  },
  {
   "cell_type": "code",
   "execution_count": 2,
   "metadata": {},
   "outputs": [
    {
     "data": {
      "text/html": [
       "<div>\n",
       "<style scoped>\n",
       "    .dataframe tbody tr th:only-of-type {\n",
       "        vertical-align: middle;\n",
       "    }\n",
       "\n",
       "    .dataframe tbody tr th {\n",
       "        vertical-align: top;\n",
       "    }\n",
       "\n",
       "    .dataframe thead th {\n",
       "        text-align: right;\n",
       "    }\n",
       "</style>\n",
       "<table border=\"1\" class=\"dataframe\">\n",
       "  <thead>\n",
       "    <tr style=\"text-align: right;\">\n",
       "      <th></th>\n",
       "      <th>title</th>\n",
       "      <th>studio</th>\n",
       "      <th>domestic_gross</th>\n",
       "      <th>foreign_gross</th>\n",
       "      <th>year</th>\n",
       "    </tr>\n",
       "  </thead>\n",
       "  <tbody>\n",
       "    <tr>\n",
       "      <td>0</td>\n",
       "      <td>Toy Story 3</td>\n",
       "      <td>BV</td>\n",
       "      <td>415000000.0</td>\n",
       "      <td>652000000</td>\n",
       "      <td>2010</td>\n",
       "    </tr>\n",
       "    <tr>\n",
       "      <td>1</td>\n",
       "      <td>Alice in Wonderland (2010)</td>\n",
       "      <td>BV</td>\n",
       "      <td>334200000.0</td>\n",
       "      <td>691300000</td>\n",
       "      <td>2010</td>\n",
       "    </tr>\n",
       "    <tr>\n",
       "      <td>2</td>\n",
       "      <td>Harry Potter and the Deathly Hallows Part 1</td>\n",
       "      <td>WB</td>\n",
       "      <td>296000000.0</td>\n",
       "      <td>664300000</td>\n",
       "      <td>2010</td>\n",
       "    </tr>\n",
       "    <tr>\n",
       "      <td>3</td>\n",
       "      <td>Inception</td>\n",
       "      <td>WB</td>\n",
       "      <td>292600000.0</td>\n",
       "      <td>535700000</td>\n",
       "      <td>2010</td>\n",
       "    </tr>\n",
       "    <tr>\n",
       "      <td>4</td>\n",
       "      <td>Shrek Forever After</td>\n",
       "      <td>P/DW</td>\n",
       "      <td>238700000.0</td>\n",
       "      <td>513900000</td>\n",
       "      <td>2010</td>\n",
       "    </tr>\n",
       "  </tbody>\n",
       "</table>\n",
       "</div>"
      ],
      "text/plain": [
       "                                         title studio  domestic_gross  \\\n",
       "0                                  Toy Story 3     BV     415000000.0   \n",
       "1                   Alice in Wonderland (2010)     BV     334200000.0   \n",
       "2  Harry Potter and the Deathly Hallows Part 1     WB     296000000.0   \n",
       "3                                    Inception     WB     292600000.0   \n",
       "4                          Shrek Forever After   P/DW     238700000.0   \n",
       "\n",
       "  foreign_gross  year  \n",
       "0     652000000  2010  \n",
       "1     691300000  2010  \n",
       "2     664300000  2010  \n",
       "3     535700000  2010  \n",
       "4     513900000  2010  "
      ]
     },
     "execution_count": 2,
     "metadata": {},
     "output_type": "execute_result"
    }
   ],
   "source": [
    "df_bom = pd.read_csv('bom.movie_gross.csv')\n",
    "df_bom.head()"
   ]
  },
  {
   "cell_type": "code",
   "execution_count": 3,
   "metadata": {},
   "outputs": [
    {
     "name": "stdout",
     "output_type": "stream",
     "text": [
      "<class 'pandas.core.frame.DataFrame'>\n",
      "RangeIndex: 3387 entries, 0 to 3386\n",
      "Data columns (total 5 columns):\n",
      "title             3387 non-null object\n",
      "studio            3382 non-null object\n",
      "domestic_gross    3359 non-null float64\n",
      "foreign_gross     2037 non-null object\n",
      "year              3387 non-null int64\n",
      "dtypes: float64(1), int64(1), object(3)\n",
      "memory usage: 132.4+ KB\n"
     ]
    }
   ],
   "source": [
    "df_bom.info()"
   ]
  },
  {
   "cell_type": "code",
   "execution_count": 4,
   "metadata": {},
   "outputs": [
    {
     "data": {
      "text/plain": [
       "<seaborn.axisgrid.FacetGrid at 0x1cca6bbf160>"
      ]
     },
     "execution_count": 4,
     "metadata": {},
     "output_type": "execute_result"
    },
    {
     "data": {
      "image/png": "[encoded data removed]",
      "text/plain": [
       "<Figure size 360x360 with 1 Axes>"
      ]
     },
     "metadata": {
      "needs_background": "light"
     },
     "output_type": "display_data"
    }
   ],
   "source": [
    "sns.relplot(x='year', y='domestic_gross', data=df_bom, kind='scatter')"
   ]
  },
  {
   "cell_type": "code",
   "execution_count": 5,
   "metadata": {},
   "outputs": [
    {
     "name": "stdout",
     "output_type": "stream",
     "text": [
      "<class 'pandas.core.frame.DataFrame'>\n",
      "RangeIndex: 3387 entries, 0 to 3386\n",
      "Data columns (total 5 columns):\n",
      "title             3387 non-null object\n",
      "studio            3382 non-null object\n",
      "domestic_gross    3359 non-null float64\n",
      "foreign_gross     2037 non-null object\n",
      "year              3387 non-null int64\n",
      "dtypes: float64(1), int64(1), object(3)\n",
      "memory usage: 132.4+ KB\n"
     ]
    }
   ],
   "source": [
    "df_bom.info()"
   ]
  },
  {
   "cell_type": "code",
   "execution_count": 6,
   "metadata": {},
   "outputs": [
    {
     "data": {
      "text/html": [
       "<div>\n",
       "<style scoped>\n",
       "    .dataframe tbody tr th:only-of-type {\n",
       "        vertical-align: middle;\n",
       "    }\n",
       "\n",
       "    .dataframe tbody tr th {\n",
       "        vertical-align: top;\n",
       "    }\n",
       "\n",
       "    .dataframe thead th {\n",
       "        text-align: right;\n",
       "    }\n",
       "</style>\n",
       "<table border=\"1\" class=\"dataframe\">\n",
       "  <thead>\n",
       "    <tr style=\"text-align: right;\">\n",
       "      <th></th>\n",
       "      <th>Unnamed: 0</th>\n",
       "      <th>genre_ids</th>\n",
       "      <th>id</th>\n",
       "      <th>original_language</th>\n",
       "      <th>original_title</th>\n",
       "      <th>popularity</th>\n",
       "      <th>release_date</th>\n",
       "      <th>title</th>\n",
       "      <th>vote_average</th>\n",
       "      <th>vote_count</th>\n",
       "    </tr>\n",
       "  </thead>\n",
       "  <tbody>\n",
       "    <tr>\n",
       "      <td>0</td>\n",
       "      <td>0</td>\n",
       "      <td>[12, 14, 10751]</td>\n",
       "      <td>12444</td>\n",
       "      <td>en</td>\n",
       "      <td>Harry Potter and the Deathly Hallows: Part 1</td>\n",
       "      <td>33.533</td>\n",
       "      <td>2010-11-19</td>\n",
       "      <td>Harry Potter and the Deathly Hallows: Part 1</td>\n",
       "      <td>7.7</td>\n",
       "      <td>10788</td>\n",
       "    </tr>\n",
       "    <tr>\n",
       "      <td>1</td>\n",
       "      <td>1</td>\n",
       "      <td>[14, 12, 16, 10751]</td>\n",
       "      <td>10191</td>\n",
       "      <td>en</td>\n",
       "      <td>How to Train Your Dragon</td>\n",
       "      <td>28.734</td>\n",
       "      <td>2010-03-26</td>\n",
       "      <td>How to Train Your Dragon</td>\n",
       "      <td>7.7</td>\n",
       "      <td>7610</td>\n",
       "    </tr>\n",
       "    <tr>\n",
       "      <td>2</td>\n",
       "      <td>2</td>\n",
       "      <td>[12, 28, 878]</td>\n",
       "      <td>10138</td>\n",
       "      <td>en</td>\n",
       "      <td>Iron Man 2</td>\n",
       "      <td>28.515</td>\n",
       "      <td>2010-05-07</td>\n",
       "      <td>Iron Man 2</td>\n",
       "      <td>6.8</td>\n",
       "      <td>12368</td>\n",
       "    </tr>\n",
       "    <tr>\n",
       "      <td>3</td>\n",
       "      <td>3</td>\n",
       "      <td>[16, 35, 10751]</td>\n",
       "      <td>862</td>\n",
       "      <td>en</td>\n",
       "      <td>Toy Story</td>\n",
       "      <td>28.005</td>\n",
       "      <td>1995-11-22</td>\n",
       "      <td>Toy Story</td>\n",
       "      <td>7.9</td>\n",
       "      <td>10174</td>\n",
       "    </tr>\n",
       "    <tr>\n",
       "      <td>4</td>\n",
       "      <td>4</td>\n",
       "      <td>[28, 878, 12]</td>\n",
       "      <td>27205</td>\n",
       "      <td>en</td>\n",
       "      <td>Inception</td>\n",
       "      <td>27.920</td>\n",
       "      <td>2010-07-16</td>\n",
       "      <td>Inception</td>\n",
       "      <td>8.3</td>\n",
       "      <td>22186</td>\n",
       "    </tr>\n",
       "  </tbody>\n",
       "</table>\n",
       "</div>"
      ],
      "text/plain": [
       "   Unnamed: 0            genre_ids     id original_language  \\\n",
       "0           0      [12, 14, 10751]  12444                en   \n",
       "1           1  [14, 12, 16, 10751]  10191                en   \n",
       "2           2        [12, 28, 878]  10138                en   \n",
       "3           3      [16, 35, 10751]    862                en   \n",
       "4           4        [28, 878, 12]  27205                en   \n",
       "\n",
       "                                 original_title  popularity release_date  \\\n",
       "0  Harry Potter and the Deathly Hallows: Part 1      33.533   2010-11-19   \n",
       "1                      How to Train Your Dragon      28.734   2010-03-26   \n",
       "2                                    Iron Man 2      28.515   2010-05-07   \n",
       "3                                     Toy Story      28.005   1995-11-22   \n",
       "4                                     Inception      27.920   2010-07-16   \n",
       "\n",
       "                                          title  vote_average  vote_count  \n",
       "0  Harry Potter and the Deathly Hallows: Part 1           7.7       10788  \n",
       "1                      How to Train Your Dragon           7.7        7610  \n",
       "2                                    Iron Man 2           6.8       12368  \n",
       "3                                     Toy Story           7.9       10174  \n",
       "4                                     Inception           8.3       22186  "
      ]
     },
     "execution_count": 6,
     "metadata": {},
     "output_type": "execute_result"
    }
   ],
   "source": [
    "tmbd = pd.read_csv('tmdb.movies.csv')\n",
    "tmbd.columns = [x.strip() for x in tmbd.columns]\n",
    "tmbd.head()"
   ]
  },
  {
   "cell_type": "code",
   "execution_count": 7,
   "metadata": {},
   "outputs": [
    {
     "name": "stdout",
     "output_type": "stream",
     "text": [
      "<class 'pandas.core.frame.DataFrame'>\n",
      "RangeIndex: 26517 entries, 0 to 26516\n",
      "Data columns (total 10 columns):\n",
      "Unnamed: 0           26517 non-null int64\n",
      "genre_ids            26517 non-null object\n",
      "id                   26517 non-null int64\n",
      "original_language    26517 non-null object\n",
      "original_title       26517 non-null object\n",
      "popularity           26517 non-null float64\n",
      "release_date         26517 non-null object\n",
      "title                26517 non-null object\n",
      "vote_average         26517 non-null float64\n",
      "vote_count           26517 non-null int64\n",
      "dtypes: float64(2), int64(3), object(5)\n",
      "memory usage: 2.0+ MB\n"
     ]
    }
   ],
   "source": [
    "tmbd.info()"
   ]
  },
  {
   "cell_type": "code",
   "execution_count": 8,
   "metadata": {},
   "outputs": [
    {
     "data": {
      "text/html": [
       "<div>\n",
       "<style scoped>\n",
       "    .dataframe tbody tr th:only-of-type {\n",
       "        vertical-align: middle;\n",
       "    }\n",
       "\n",
       "    .dataframe tbody tr th {\n",
       "        vertical-align: top;\n",
       "    }\n",
       "\n",
       "    .dataframe thead th {\n",
       "        text-align: right;\n",
       "    }\n",
       "</style>\n",
       "<table border=\"1\" class=\"dataframe\">\n",
       "  <thead>\n",
       "    <tr style=\"text-align: right;\">\n",
       "      <th></th>\n",
       "      <th>nconst</th>\n",
       "      <th>primary_name</th>\n",
       "      <th>birth_year</th>\n",
       "      <th>death_year</th>\n",
       "      <th>primary_profession</th>\n",
       "      <th>known_for_titles</th>\n",
       "    </tr>\n",
       "  </thead>\n",
       "  <tbody>\n",
       "    <tr>\n",
       "      <td>0</td>\n",
       "      <td>nm0061671</td>\n",
       "      <td>Mary Ellen Bauder</td>\n",
       "      <td>NaN</td>\n",
       "      <td>NaN</td>\n",
       "      <td>miscellaneous,production_manager,producer</td>\n",
       "      <td>tt0837562,tt2398241,tt0844471,tt0118553</td>\n",
       "    </tr>\n",
       "    <tr>\n",
       "      <td>1</td>\n",
       "      <td>nm0061865</td>\n",
       "      <td>Joseph Bauer</td>\n",
       "      <td>NaN</td>\n",
       "      <td>NaN</td>\n",
       "      <td>composer,music_department,sound_department</td>\n",
       "      <td>tt0896534,tt6791238,tt0287072,tt1682940</td>\n",
       "    </tr>\n",
       "    <tr>\n",
       "      <td>2</td>\n",
       "      <td>nm0062070</td>\n",
       "      <td>Bruce Baum</td>\n",
       "      <td>NaN</td>\n",
       "      <td>NaN</td>\n",
       "      <td>miscellaneous,actor,writer</td>\n",
       "      <td>tt1470654,tt0363631,tt0104030,tt0102898</td>\n",
       "    </tr>\n",
       "    <tr>\n",
       "      <td>3</td>\n",
       "      <td>nm0062195</td>\n",
       "      <td>Axel Baumann</td>\n",
       "      <td>NaN</td>\n",
       "      <td>NaN</td>\n",
       "      <td>camera_department,cinematographer,art_department</td>\n",
       "      <td>tt0114371,tt2004304,tt1618448,tt1224387</td>\n",
       "    </tr>\n",
       "    <tr>\n",
       "      <td>4</td>\n",
       "      <td>nm0062798</td>\n",
       "      <td>Pete Baxter</td>\n",
       "      <td>NaN</td>\n",
       "      <td>NaN</td>\n",
       "      <td>production_designer,art_department,set_decorator</td>\n",
       "      <td>tt0452644,tt0452692,tt3458030,tt2178256</td>\n",
       "    </tr>\n",
       "  </tbody>\n",
       "</table>\n",
       "</div>"
      ],
      "text/plain": [
       "      nconst       primary_name  birth_year  death_year  \\\n",
       "0  nm0061671  Mary Ellen Bauder         NaN         NaN   \n",
       "1  nm0061865       Joseph Bauer         NaN         NaN   \n",
       "2  nm0062070         Bruce Baum         NaN         NaN   \n",
       "3  nm0062195       Axel Baumann         NaN         NaN   \n",
       "4  nm0062798        Pete Baxter         NaN         NaN   \n",
       "\n",
       "                                 primary_profession  \\\n",
       "0         miscellaneous,production_manager,producer   \n",
       "1        composer,music_department,sound_department   \n",
       "2                        miscellaneous,actor,writer   \n",
       "3  camera_department,cinematographer,art_department   \n",
       "4  production_designer,art_department,set_decorator   \n",
       "\n",
       "                          known_for_titles  \n",
       "0  tt0837562,tt2398241,tt0844471,tt0118553  \n",
       "1  tt0896534,tt6791238,tt0287072,tt1682940  \n",
       "2  tt1470654,tt0363631,tt0104030,tt0102898  \n",
       "3  tt0114371,tt2004304,tt1618448,tt1224387  \n",
       "4  tt0452644,tt0452692,tt3458030,tt2178256  "
      ]
     },
     "execution_count": 8,
     "metadata": {},
     "output_type": "execute_result"
    }
   ],
   "source": [
    "df_imdb = pd.read_csv('imdb.name.basics.csv')\n",
    "df_imdb.head()"
   ]
  },
  {
   "cell_type": "code",
   "execution_count": 9,
   "metadata": {},
   "outputs": [],
   "source": [
    "alive = df_imdb['death_year'].isna()"
   ]
  },
  {
   "cell_type": "code",
   "execution_count": 10,
   "metadata": {
    "scrolled": true
   },
   "outputs": [
    {
     "name": "stdout",
     "output_type": "stream",
     "text": [
      "<class 'pandas.core.frame.DataFrame'>\n",
      "Int64Index: 599865 entries, 0 to 606647\n",
      "Data columns (total 6 columns):\n",
      "nconst                599865 non-null object\n",
      "primary_name          599865 non-null object\n",
      "birth_year            76464 non-null float64\n",
      "death_year            0 non-null float64\n",
      "primary_profession    549317 non-null object\n",
      "known_for_titles      569766 non-null object\n",
      "dtypes: float64(2), object(4)\n",
      "memory usage: 32.0+ MB\n"
     ]
    },
    {
     "data": {
      "text/plain": [
       "None"
      ]
     },
     "metadata": {},
     "output_type": "display_data"
    },
    {
     "data": {
      "text/html": [
       "<div>\n",
       "<style scoped>\n",
       "    .dataframe tbody tr th:only-of-type {\n",
       "        vertical-align: middle;\n",
       "    }\n",
       "\n",
       "    .dataframe tbody tr th {\n",
       "        vertical-align: top;\n",
       "    }\n",
       "\n",
       "    .dataframe thead th {\n",
       "        text-align: right;\n",
       "    }\n",
       "</style>\n",
       "<table border=\"1\" class=\"dataframe\">\n",
       "  <thead>\n",
       "    <tr style=\"text-align: right;\">\n",
       "      <th></th>\n",
       "      <th>nconst</th>\n",
       "      <th>primary_name</th>\n",
       "      <th>birth_year</th>\n",
       "      <th>death_year</th>\n",
       "      <th>primary_profession</th>\n",
       "      <th>known_for_titles</th>\n",
       "    </tr>\n",
       "  </thead>\n",
       "  <tbody>\n",
       "    <tr>\n",
       "      <td>0</td>\n",
       "      <td>nm0061671</td>\n",
       "      <td>Mary Ellen Bauder</td>\n",
       "      <td>NaN</td>\n",
       "      <td>NaN</td>\n",
       "      <td>miscellaneous,production_manager,producer</td>\n",
       "      <td>tt0837562,tt2398241,tt0844471,tt0118553</td>\n",
       "    </tr>\n",
       "    <tr>\n",
       "      <td>1</td>\n",
       "      <td>nm0061865</td>\n",
       "      <td>Joseph Bauer</td>\n",
       "      <td>NaN</td>\n",
       "      <td>NaN</td>\n",
       "      <td>composer,music_department,sound_department</td>\n",
       "      <td>tt0896534,tt6791238,tt0287072,tt1682940</td>\n",
       "    </tr>\n",
       "    <tr>\n",
       "      <td>2</td>\n",
       "      <td>nm0062070</td>\n",
       "      <td>Bruce Baum</td>\n",
       "      <td>NaN</td>\n",
       "      <td>NaN</td>\n",
       "      <td>miscellaneous,actor,writer</td>\n",
       "      <td>tt1470654,tt0363631,tt0104030,tt0102898</td>\n",
       "    </tr>\n",
       "    <tr>\n",
       "      <td>3</td>\n",
       "      <td>nm0062195</td>\n",
       "      <td>Axel Baumann</td>\n",
       "      <td>NaN</td>\n",
       "      <td>NaN</td>\n",
       "      <td>camera_department,cinematographer,art_department</td>\n",
       "      <td>tt0114371,tt2004304,tt1618448,tt1224387</td>\n",
       "    </tr>\n",
       "    <tr>\n",
       "      <td>4</td>\n",
       "      <td>nm0062798</td>\n",
       "      <td>Pete Baxter</td>\n",
       "      <td>NaN</td>\n",
       "      <td>NaN</td>\n",
       "      <td>production_designer,art_department,set_decorator</td>\n",
       "      <td>tt0452644,tt0452692,tt3458030,tt2178256</td>\n",
       "    </tr>\n",
       "  </tbody>\n",
       "</table>\n",
       "</div>"
      ],
      "text/plain": [
       "      nconst       primary_name  birth_year  death_year  \\\n",
       "0  nm0061671  Mary Ellen Bauder         NaN         NaN   \n",
       "1  nm0061865       Joseph Bauer         NaN         NaN   \n",
       "2  nm0062070         Bruce Baum         NaN         NaN   \n",
       "3  nm0062195       Axel Baumann         NaN         NaN   \n",
       "4  nm0062798        Pete Baxter         NaN         NaN   \n",
       "\n",
       "                                 primary_profession  \\\n",
       "0         miscellaneous,production_manager,producer   \n",
       "1        composer,music_department,sound_department   \n",
       "2                        miscellaneous,actor,writer   \n",
       "3  camera_department,cinematographer,art_department   \n",
       "4  production_designer,art_department,set_decorator   \n",
       "\n",
       "                          known_for_titles  \n",
       "0  tt0837562,tt2398241,tt0844471,tt0118553  \n",
       "1  tt0896534,tt6791238,tt0287072,tt1682940  \n",
       "2  tt1470654,tt0363631,tt0104030,tt0102898  \n",
       "3  tt0114371,tt2004304,tt1618448,tt1224387  \n",
       "4  tt0452644,tt0452692,tt3458030,tt2178256  "
      ]
     },
     "execution_count": 10,
     "metadata": {},
     "output_type": "execute_result"
    }
   ],
   "source": [
    "imdb_alive = df_imdb[alive]\n",
    "display(imdb_alive.info())\n",
    "imdb_alive.head()"
   ]
  },
  {
   "cell_type": "code",
   "execution_count": 11,
   "metadata": {},
   "outputs": [],
   "source": [
    "def split(x):    \n",
    "    return x.split(\",\")\n"
   ]
  },
  {
   "cell_type": "code",
   "execution_count": 12,
   "metadata": {},
   "outputs": [
    {
     "ename": "AttributeError",
     "evalue": "'float' object has no attribute 'split'",
     "output_type": "error",
     "traceback": [
      "\u001b[1;31m---------------------------------------------------------------------------\u001b[0m",
      "\u001b[1;31mAttributeError\u001b[0m                            Traceback (most recent call last)",
      "\u001b[1;32m<ipython-input-12-12be4c67ba40>\u001b[0m in \u001b[0;36m<module>\u001b[1;34m\u001b[0m\n\u001b[1;32m----> 1\u001b[1;33m \u001b[0mimdb_alive\u001b[0m\u001b[1;33m[\u001b[0m\u001b[1;34m'primary_profession'\u001b[0m\u001b[1;33m]\u001b[0m \u001b[1;33m=\u001b[0m \u001b[0mimdb_alive\u001b[0m\u001b[1;33m.\u001b[0m\u001b[0mprimary_profession\u001b[0m\u001b[1;33m.\u001b[0m\u001b[0mapply\u001b[0m\u001b[1;33m(\u001b[0m\u001b[1;32mlambda\u001b[0m \u001b[0mx\u001b[0m\u001b[1;33m:\u001b[0m \u001b[0msplit\u001b[0m\u001b[1;33m(\u001b[0m\u001b[0mx\u001b[0m\u001b[1;33m)\u001b[0m\u001b[1;33m)\u001b[0m\u001b[1;33m\u001b[0m\u001b[1;33m\u001b[0m\u001b[0m\n\u001b[0m",
      "\u001b[1;32m~\\Anaconda3\\envs\\learn-env\\lib\\site-packages\\pandas\\core\\series.py\u001b[0m in \u001b[0;36mapply\u001b[1;34m(self, func, convert_dtype, args, **kwds)\u001b[0m\n\u001b[0;32m   4040\u001b[0m             \u001b[1;32melse\u001b[0m\u001b[1;33m:\u001b[0m\u001b[1;33m\u001b[0m\u001b[1;33m\u001b[0m\u001b[0m\n\u001b[0;32m   4041\u001b[0m                 \u001b[0mvalues\u001b[0m \u001b[1;33m=\u001b[0m \u001b[0mself\u001b[0m\u001b[1;33m.\u001b[0m\u001b[0mastype\u001b[0m\u001b[1;33m(\u001b[0m\u001b[0mobject\u001b[0m\u001b[1;33m)\u001b[0m\u001b[1;33m.\u001b[0m\u001b[0mvalues\u001b[0m\u001b[1;33m\u001b[0m\u001b[1;33m\u001b[0m\u001b[0m\n\u001b[1;32m-> 4042\u001b[1;33m                 \u001b[0mmapped\u001b[0m \u001b[1;33m=\u001b[0m \u001b[0mlib\u001b[0m\u001b[1;33m.\u001b[0m\u001b[0mmap_infer\u001b[0m\u001b[1;33m(\u001b[0m\u001b[0mvalues\u001b[0m\u001b[1;33m,\u001b[0m \u001b[0mf\u001b[0m\u001b[1;33m,\u001b[0m \u001b[0mconvert\u001b[0m\u001b[1;33m=\u001b[0m\u001b[0mconvert_dtype\u001b[0m\u001b[1;33m)\u001b[0m\u001b[1;33m\u001b[0m\u001b[1;33m\u001b[0m\u001b[0m\n\u001b[0m\u001b[0;32m   4043\u001b[0m \u001b[1;33m\u001b[0m\u001b[0m\n\u001b[0;32m   4044\u001b[0m         \u001b[1;32mif\u001b[0m \u001b[0mlen\u001b[0m\u001b[1;33m(\u001b[0m\u001b[0mmapped\u001b[0m\u001b[1;33m)\u001b[0m \u001b[1;32mand\u001b[0m \u001b[0misinstance\u001b[0m\u001b[1;33m(\u001b[0m\u001b[0mmapped\u001b[0m\u001b[1;33m[\u001b[0m\u001b[1;36m0\u001b[0m\u001b[1;33m]\u001b[0m\u001b[1;33m,\u001b[0m \u001b[0mSeries\u001b[0m\u001b[1;33m)\u001b[0m\u001b[1;33m:\u001b[0m\u001b[1;33m\u001b[0m\u001b[1;33m\u001b[0m\u001b[0m\n",
      "\u001b[1;32mpandas\\_libs\\lib.pyx\u001b[0m in \u001b[0;36mpandas._libs.lib.map_infer\u001b[1;34m()\u001b[0m\n",
      "\u001b[1;32m<ipython-input-12-12be4c67ba40>\u001b[0m in \u001b[0;36m<lambda>\u001b[1;34m(x)\u001b[0m\n\u001b[1;32m----> 1\u001b[1;33m \u001b[0mimdb_alive\u001b[0m\u001b[1;33m[\u001b[0m\u001b[1;34m'primary_profession'\u001b[0m\u001b[1;33m]\u001b[0m \u001b[1;33m=\u001b[0m \u001b[0mimdb_alive\u001b[0m\u001b[1;33m.\u001b[0m\u001b[0mprimary_profession\u001b[0m\u001b[1;33m.\u001b[0m\u001b[0mapply\u001b[0m\u001b[1;33m(\u001b[0m\u001b[1;32mlambda\u001b[0m \u001b[0mx\u001b[0m\u001b[1;33m:\u001b[0m \u001b[0msplit\u001b[0m\u001b[1;33m(\u001b[0m\u001b[0mx\u001b[0m\u001b[1;33m)\u001b[0m\u001b[1;33m)\u001b[0m\u001b[1;33m\u001b[0m\u001b[1;33m\u001b[0m\u001b[0m\n\u001b[0m",
      "\u001b[1;32m<ipython-input-11-b22ce36a14e2>\u001b[0m in \u001b[0;36msplit\u001b[1;34m(x)\u001b[0m\n\u001b[0;32m      1\u001b[0m \u001b[1;32mdef\u001b[0m \u001b[0msplit\u001b[0m\u001b[1;33m(\u001b[0m\u001b[0mx\u001b[0m\u001b[1;33m)\u001b[0m\u001b[1;33m:\u001b[0m\u001b[1;33m\u001b[0m\u001b[1;33m\u001b[0m\u001b[0m\n\u001b[1;32m----> 2\u001b[1;33m     \u001b[1;32mreturn\u001b[0m \u001b[0mx\u001b[0m\u001b[1;33m.\u001b[0m\u001b[0msplit\u001b[0m\u001b[1;33m(\u001b[0m\u001b[1;34m\",\"\u001b[0m\u001b[1;33m)\u001b[0m\u001b[1;33m\u001b[0m\u001b[1;33m\u001b[0m\u001b[0m\n\u001b[0m",
      "\u001b[1;31mAttributeError\u001b[0m: 'float' object has no attribute 'split'"
     ]
    }
   ],
   "source": [
    "imdb_alive['primary_profession'] = imdb_alive.primary_profession.apply(lambda x: split(x))"
   ]
  },
  {
   "cell_type": "code",
   "execution_count": null,
   "metadata": {},
   "outputs": [],
   "source": []
  },
  {
   "cell_type": "code",
   "execution_count": 14,
   "metadata": {},
   "outputs": [
    {
     "data": {
      "text/html": [
       "<div>\n",
       "<style scoped>\n",
       "    .dataframe tbody tr th:only-of-type {\n",
       "        vertical-align: middle;\n",
       "    }\n",
       "\n",
       "    .dataframe tbody tr th {\n",
       "        vertical-align: top;\n",
       "    }\n",
       "\n",
       "    .dataframe thead th {\n",
       "        text-align: right;\n",
       "    }\n",
       "</style>\n",
       "<table border=\"1\" class=\"dataframe\">\n",
       "  <thead>\n",
       "    <tr style=\"text-align: right;\">\n",
       "      <th></th>\n",
       "      <th>title_id</th>\n",
       "      <th>ordering</th>\n",
       "      <th>title</th>\n",
       "      <th>region</th>\n",
       "      <th>language</th>\n",
       "      <th>types</th>\n",
       "      <th>attributes</th>\n",
       "      <th>is_original_title</th>\n",
       "    </tr>\n",
       "  </thead>\n",
       "  <tbody>\n",
       "    <tr>\n",
       "      <td>108150</td>\n",
       "      <td>tt0063540</td>\n",
       "      <td>1</td>\n",
       "      <td>Sangharsh</td>\n",
       "      <td>IN</td>\n",
       "      <td>hi</td>\n",
       "      <td>NaN</td>\n",
       "      <td>alternative transliteration</td>\n",
       "      <td>0.0</td>\n",
       "    </tr>\n",
       "    <tr>\n",
       "      <td>108151</td>\n",
       "      <td>tt0063540</td>\n",
       "      <td>2</td>\n",
       "      <td>Sunghursh</td>\n",
       "      <td>NaN</td>\n",
       "      <td>NaN</td>\n",
       "      <td>original</td>\n",
       "      <td>NaN</td>\n",
       "      <td>1.0</td>\n",
       "    </tr>\n",
       "    <tr>\n",
       "      <td>108152</td>\n",
       "      <td>tt0063540</td>\n",
       "      <td>3</td>\n",
       "      <td>Sunghursh</td>\n",
       "      <td>IN</td>\n",
       "      <td>NaN</td>\n",
       "      <td>NaN</td>\n",
       "      <td>NaN</td>\n",
       "      <td>0.0</td>\n",
       "    </tr>\n",
       "    <tr>\n",
       "      <td>108153</td>\n",
       "      <td>tt0063540</td>\n",
       "      <td>4</td>\n",
       "      <td>Sunghursh</td>\n",
       "      <td>IN</td>\n",
       "      <td>hi</td>\n",
       "      <td>NaN</td>\n",
       "      <td>alternative transliteration</td>\n",
       "      <td>0.0</td>\n",
       "    </tr>\n",
       "    <tr>\n",
       "      <td>108154</td>\n",
       "      <td>tt0063540</td>\n",
       "      <td>5</td>\n",
       "      <td>Sungharsh</td>\n",
       "      <td>IN</td>\n",
       "      <td>hi</td>\n",
       "      <td>NaN</td>\n",
       "      <td>alternative spelling</td>\n",
       "      <td>0.0</td>\n",
       "    </tr>\n",
       "  </tbody>\n",
       "</table>\n",
       "</div>"
      ],
      "text/plain": [
       "         title_id  ordering      title region language     types  \\\n",
       "108150  tt0063540         1  Sangharsh     IN       hi       NaN   \n",
       "108151  tt0063540         2  Sunghursh    NaN      NaN  original   \n",
       "108152  tt0063540         3  Sunghursh     IN      NaN       NaN   \n",
       "108153  tt0063540         4  Sunghursh     IN       hi       NaN   \n",
       "108154  tt0063540         5  Sungharsh     IN       hi       NaN   \n",
       "\n",
       "                         attributes  is_original_title  \n",
       "108150  alternative transliteration                0.0  \n",
       "108151                          NaN                1.0  \n",
       "108152                          NaN                0.0  \n",
       "108153  alternative transliteration                0.0  \n",
       "108154         alternative spelling                0.0  "
      ]
     },
     "execution_count": 14,
     "metadata": {},
     "output_type": "execute_result"
    }
   ],
   "source": [
    "df_imdb2 = pd.read_csv('imdb.title.akas.csv')\n",
    "df_imdb2.columns = [x.strip() for x in df_imdb2.columns]\n",
    "df_imdb2.sort_values(['title_id','ordering']).head(5)"
   ]
  },
  {
   "cell_type": "code",
   "execution_count": 15,
   "metadata": {},
   "outputs": [
    {
     "data": {
      "text/html": [
       "<div>\n",
       "<style scoped>\n",
       "    .dataframe tbody tr th:only-of-type {\n",
       "        vertical-align: middle;\n",
       "    }\n",
       "\n",
       "    .dataframe tbody tr th {\n",
       "        vertical-align: top;\n",
       "    }\n",
       "\n",
       "    .dataframe thead th {\n",
       "        text-align: right;\n",
       "    }\n",
       "</style>\n",
       "<table border=\"1\" class=\"dataframe\">\n",
       "  <thead>\n",
       "    <tr style=\"text-align: right;\">\n",
       "      <th></th>\n",
       "      <th>title_id</th>\n",
       "      <th>ordering</th>\n",
       "      <th>title</th>\n",
       "      <th>region</th>\n",
       "      <th>language</th>\n",
       "      <th>types</th>\n",
       "      <th>attributes</th>\n",
       "      <th>is_original_title</th>\n",
       "    </tr>\n",
       "  </thead>\n",
       "  <tbody>\n",
       "    <tr>\n",
       "      <td>12</td>\n",
       "      <td>tt0369610</td>\n",
       "      <td>21</td>\n",
       "      <td>Jurassic World 3D</td>\n",
       "      <td>US</td>\n",
       "      <td>NaN</td>\n",
       "      <td>NaN</td>\n",
       "      <td>3-D version</td>\n",
       "      <td>0.0</td>\n",
       "    </tr>\n",
       "    <tr>\n",
       "      <td>20</td>\n",
       "      <td>tt0369610</td>\n",
       "      <td>29</td>\n",
       "      <td>Jurassic World</td>\n",
       "      <td>US</td>\n",
       "      <td>NaN</td>\n",
       "      <td>NaN</td>\n",
       "      <td>NaN</td>\n",
       "      <td>0.0</td>\n",
       "    </tr>\n",
       "    <tr>\n",
       "      <td>21</td>\n",
       "      <td>tt0369610</td>\n",
       "      <td>2</td>\n",
       "      <td>Ebb Tide</td>\n",
       "      <td>US</td>\n",
       "      <td>NaN</td>\n",
       "      <td>NaN</td>\n",
       "      <td>fake working title</td>\n",
       "      <td>0.0</td>\n",
       "    </tr>\n",
       "    <tr>\n",
       "      <td>28</td>\n",
       "      <td>tt0369610</td>\n",
       "      <td>36</td>\n",
       "      <td>Jurassic Park IV</td>\n",
       "      <td>US</td>\n",
       "      <td>NaN</td>\n",
       "      <td>working</td>\n",
       "      <td>NaN</td>\n",
       "      <td>0.0</td>\n",
       "    </tr>\n",
       "    <tr>\n",
       "      <td>37</td>\n",
       "      <td>tt0369610</td>\n",
       "      <td>44</td>\n",
       "      <td>Jurassic Park 4</td>\n",
       "      <td>US</td>\n",
       "      <td>NaN</td>\n",
       "      <td>NaN</td>\n",
       "      <td>informal alternative title</td>\n",
       "      <td>0.0</td>\n",
       "    </tr>\n",
       "  </tbody>\n",
       "</table>\n",
       "</div>"
      ],
      "text/plain": [
       "     title_id  ordering              title region language    types  \\\n",
       "12  tt0369610        21  Jurassic World 3D     US      NaN      NaN   \n",
       "20  tt0369610        29     Jurassic World     US      NaN      NaN   \n",
       "21  tt0369610         2           Ebb Tide     US      NaN      NaN   \n",
       "28  tt0369610        36   Jurassic Park IV     US      NaN  working   \n",
       "37  tt0369610        44    Jurassic Park 4     US      NaN      NaN   \n",
       "\n",
       "                    attributes  is_original_title  \n",
       "12                 3-D version                0.0  \n",
       "20                         NaN                0.0  \n",
       "21          fake working title                0.0  \n",
       "28                         NaN                0.0  \n",
       "37  informal alternative title                0.0  "
      ]
     },
     "execution_count": 15,
     "metadata": {},
     "output_type": "execute_result"
    }
   ],
   "source": [
    "US = df_imdb2[df_imdb2['region'] == 'US']\n",
    "US.head()"
   ]
  },
  {
   "cell_type": "code",
   "execution_count": 16,
   "metadata": {},
   "outputs": [
    {
     "data": {
      "text/html": [
       "<div>\n",
       "<style scoped>\n",
       "    .dataframe tbody tr th:only-of-type {\n",
       "        vertical-align: middle;\n",
       "    }\n",
       "\n",
       "    .dataframe tbody tr th {\n",
       "        vertical-align: top;\n",
       "    }\n",
       "\n",
       "    .dataframe thead th {\n",
       "        text-align: right;\n",
       "    }\n",
       "</style>\n",
       "<table border=\"1\" class=\"dataframe\">\n",
       "  <thead>\n",
       "    <tr style=\"text-align: right;\">\n",
       "      <th></th>\n",
       "      <th>tconst</th>\n",
       "      <th>primary_title</th>\n",
       "      <th>original_title</th>\n",
       "      <th>start_year</th>\n",
       "      <th>runtime_minutes</th>\n",
       "      <th>genres</th>\n",
       "    </tr>\n",
       "  </thead>\n",
       "  <tbody>\n",
       "    <tr>\n",
       "      <td>0</td>\n",
       "      <td>tt0063540</td>\n",
       "      <td>Sunghursh</td>\n",
       "      <td>Sunghursh</td>\n",
       "      <td>2013</td>\n",
       "      <td>175.0</td>\n",
       "      <td>Action,Crime,Drama</td>\n",
       "    </tr>\n",
       "    <tr>\n",
       "      <td>1</td>\n",
       "      <td>tt0066787</td>\n",
       "      <td>One Day Before the Rainy Season</td>\n",
       "      <td>Ashad Ka Ek Din</td>\n",
       "      <td>2019</td>\n",
       "      <td>114.0</td>\n",
       "      <td>Biography,Drama</td>\n",
       "    </tr>\n",
       "    <tr>\n",
       "      <td>2</td>\n",
       "      <td>tt0069049</td>\n",
       "      <td>The Other Side of the Wind</td>\n",
       "      <td>The Other Side of the Wind</td>\n",
       "      <td>2018</td>\n",
       "      <td>122.0</td>\n",
       "      <td>Drama</td>\n",
       "    </tr>\n",
       "    <tr>\n",
       "      <td>3</td>\n",
       "      <td>tt0069204</td>\n",
       "      <td>Sabse Bada Sukh</td>\n",
       "      <td>Sabse Bada Sukh</td>\n",
       "      <td>2018</td>\n",
       "      <td>NaN</td>\n",
       "      <td>Comedy,Drama</td>\n",
       "    </tr>\n",
       "    <tr>\n",
       "      <td>4</td>\n",
       "      <td>tt0100275</td>\n",
       "      <td>The Wandering Soap Opera</td>\n",
       "      <td>La Telenovela Errante</td>\n",
       "      <td>2017</td>\n",
       "      <td>80.0</td>\n",
       "      <td>Comedy,Drama,Fantasy</td>\n",
       "    </tr>\n",
       "  </tbody>\n",
       "</table>\n",
       "</div>"
      ],
      "text/plain": [
       "      tconst                    primary_title              original_title  \\\n",
       "0  tt0063540                        Sunghursh                   Sunghursh   \n",
       "1  tt0066787  One Day Before the Rainy Season             Ashad Ka Ek Din   \n",
       "2  tt0069049       The Other Side of the Wind  The Other Side of the Wind   \n",
       "3  tt0069204                  Sabse Bada Sukh             Sabse Bada Sukh   \n",
       "4  tt0100275         The Wandering Soap Opera       La Telenovela Errante   \n",
       "\n",
       "   start_year  runtime_minutes                genres  \n",
       "0        2013            175.0    Action,Crime,Drama  \n",
       "1        2019            114.0       Biography,Drama  \n",
       "2        2018            122.0                 Drama  \n",
       "3        2018              NaN          Comedy,Drama  \n",
       "4        2017             80.0  Comedy,Drama,Fantasy  "
      ]
     },
     "execution_count": 16,
     "metadata": {},
     "output_type": "execute_result"
    }
   ],
   "source": [
    "df_imdb3 = pd.read_csv('imdb.title.basics.csv')\n",
    "df_imdb3.columns = [x.strip() for x in df_imdb3.columns]\n",
    "df_imdb3.head()"
   ]
  },
  {
   "cell_type": "code",
   "execution_count": 17,
   "metadata": {},
   "outputs": [
    {
     "data": {
      "text/html": [
       "<div>\n",
       "<style scoped>\n",
       "    .dataframe tbody tr th:only-of-type {\n",
       "        vertical-align: middle;\n",
       "    }\n",
       "\n",
       "    .dataframe tbody tr th {\n",
       "        vertical-align: top;\n",
       "    }\n",
       "\n",
       "    .dataframe thead th {\n",
       "        text-align: right;\n",
       "    }\n",
       "</style>\n",
       "<table border=\"1\" class=\"dataframe\">\n",
       "  <thead>\n",
       "    <tr style=\"text-align: right;\">\n",
       "      <th></th>\n",
       "      <th>tconst</th>\n",
       "      <th>directors</th>\n",
       "      <th>writers</th>\n",
       "    </tr>\n",
       "  </thead>\n",
       "  <tbody>\n",
       "    <tr>\n",
       "      <td>0</td>\n",
       "      <td>tt0285252</td>\n",
       "      <td>nm0899854</td>\n",
       "      <td>nm0899854</td>\n",
       "    </tr>\n",
       "    <tr>\n",
       "      <td>1</td>\n",
       "      <td>tt0438973</td>\n",
       "      <td>NaN</td>\n",
       "      <td>nm0175726,nm1802864</td>\n",
       "    </tr>\n",
       "    <tr>\n",
       "      <td>2</td>\n",
       "      <td>tt0462036</td>\n",
       "      <td>nm1940585</td>\n",
       "      <td>nm1940585</td>\n",
       "    </tr>\n",
       "    <tr>\n",
       "      <td>3</td>\n",
       "      <td>tt0835418</td>\n",
       "      <td>nm0151540</td>\n",
       "      <td>nm0310087,nm0841532</td>\n",
       "    </tr>\n",
       "    <tr>\n",
       "      <td>4</td>\n",
       "      <td>tt0878654</td>\n",
       "      <td>nm0089502,nm2291498,nm2292011</td>\n",
       "      <td>nm0284943</td>\n",
       "    </tr>\n",
       "  </tbody>\n",
       "</table>\n",
       "</div>"
      ],
      "text/plain": [
       "      tconst                      directors              writers\n",
       "0  tt0285252                      nm0899854            nm0899854\n",
       "1  tt0438973                            NaN  nm0175726,nm1802864\n",
       "2  tt0462036                      nm1940585            nm1940585\n",
       "3  tt0835418                      nm0151540  nm0310087,nm0841532\n",
       "4  tt0878654  nm0089502,nm2291498,nm2292011            nm0284943"
      ]
     },
     "execution_count": 17,
     "metadata": {},
     "output_type": "execute_result"
    }
   ],
   "source": [
    "df_imdb4 = pd.read_csv('imdb.title.crew.csv')\n",
    "df_imdb4.head()"
   ]
  },
  {
   "cell_type": "code",
   "execution_count": 18,
   "metadata": {},
   "outputs": [
    {
     "name": "stdout",
     "output_type": "stream",
     "text": [
      "<class 'pandas.core.frame.DataFrame'>\n",
      "RangeIndex: 146144 entries, 0 to 146143\n",
      "Data columns (total 3 columns):\n",
      "tconst       146144 non-null object\n",
      "directors    140417 non-null object\n",
      "writers      110261 non-null object\n",
      "dtypes: object(3)\n",
      "memory usage: 3.3+ MB\n"
     ]
    }
   ],
   "source": [
    "df_imdb4.columns = [x.strip() for x in df_imdb4.columns]\n",
    "df_imdb4.info()"
   ]
  },
  {
   "cell_type": "code",
   "execution_count": 19,
   "metadata": {},
   "outputs": [
    {
     "data": {
      "text/plain": [
       "Index(['tconst', 'directors', 'writers', 'title_id'], dtype='object')"
      ]
     },
     "execution_count": 19,
     "metadata": {},
     "output_type": "execute_result"
    }
   ],
   "source": [
    "df_imdb4['title_id'] = df_imdb4['tconst']\n",
    "df_imdb4.columns"
   ]
  },
  {
   "cell_type": "code",
   "execution_count": 20,
   "metadata": {},
   "outputs": [
    {
     "data": {
      "text/html": [
       "<div>\n",
       "<style scoped>\n",
       "    .dataframe tbody tr th:only-of-type {\n",
       "        vertical-align: middle;\n",
       "    }\n",
       "\n",
       "    .dataframe tbody tr th {\n",
       "        vertical-align: top;\n",
       "    }\n",
       "\n",
       "    .dataframe thead th {\n",
       "        text-align: right;\n",
       "    }\n",
       "</style>\n",
       "<table border=\"1\" class=\"dataframe\">\n",
       "  <thead>\n",
       "    <tr style=\"text-align: right;\">\n",
       "      <th></th>\n",
       "      <th>tconst</th>\n",
       "      <th>ordering</th>\n",
       "      <th>nconst</th>\n",
       "      <th>category</th>\n",
       "      <th>job</th>\n",
       "      <th>characters</th>\n",
       "    </tr>\n",
       "  </thead>\n",
       "  <tbody>\n",
       "    <tr>\n",
       "      <td>0</td>\n",
       "      <td>tt0111414</td>\n",
       "      <td>1</td>\n",
       "      <td>nm0246005</td>\n",
       "      <td>actor</td>\n",
       "      <td>NaN</td>\n",
       "      <td>[\"The Man\"]</td>\n",
       "    </tr>\n",
       "    <tr>\n",
       "      <td>1</td>\n",
       "      <td>tt0111414</td>\n",
       "      <td>2</td>\n",
       "      <td>nm0398271</td>\n",
       "      <td>director</td>\n",
       "      <td>NaN</td>\n",
       "      <td>NaN</td>\n",
       "    </tr>\n",
       "    <tr>\n",
       "      <td>2</td>\n",
       "      <td>tt0111414</td>\n",
       "      <td>3</td>\n",
       "      <td>nm3739909</td>\n",
       "      <td>producer</td>\n",
       "      <td>producer</td>\n",
       "      <td>NaN</td>\n",
       "    </tr>\n",
       "    <tr>\n",
       "      <td>3</td>\n",
       "      <td>tt0323808</td>\n",
       "      <td>10</td>\n",
       "      <td>nm0059247</td>\n",
       "      <td>editor</td>\n",
       "      <td>NaN</td>\n",
       "      <td>NaN</td>\n",
       "    </tr>\n",
       "    <tr>\n",
       "      <td>4</td>\n",
       "      <td>tt0323808</td>\n",
       "      <td>1</td>\n",
       "      <td>nm3579312</td>\n",
       "      <td>actress</td>\n",
       "      <td>NaN</td>\n",
       "      <td>[\"Beth Boothby\"]</td>\n",
       "    </tr>\n",
       "  </tbody>\n",
       "</table>\n",
       "</div>"
      ],
      "text/plain": [
       "      tconst  ordering     nconst  category       job        characters\n",
       "0  tt0111414         1  nm0246005     actor       NaN       [\"The Man\"]\n",
       "1  tt0111414         2  nm0398271  director       NaN               NaN\n",
       "2  tt0111414         3  nm3739909  producer  producer               NaN\n",
       "3  tt0323808        10  nm0059247    editor       NaN               NaN\n",
       "4  tt0323808         1  nm3579312   actress       NaN  [\"Beth Boothby\"]"
      ]
     },
     "execution_count": 20,
     "metadata": {},
     "output_type": "execute_result"
    }
   ],
   "source": [
    "df_imbd5 = pd.read_csv('imdb.title.principals.csv')\n",
    "df_imbd5.head()"
   ]
  },
  {
   "cell_type": "code",
   "execution_count": 21,
   "metadata": {},
   "outputs": [
    {
     "name": "stdout",
     "output_type": "stream",
     "text": [
      "<class 'pandas.core.frame.DataFrame'>\n",
      "RangeIndex: 1028186 entries, 0 to 1028185\n",
      "Data columns (total 6 columns):\n",
      "tconst        1028186 non-null object\n",
      "ordering      1028186 non-null int64\n",
      "nconst        1028186 non-null object\n",
      "category      1028186 non-null object\n",
      "job           177684 non-null object\n",
      "characters    393360 non-null object\n",
      "dtypes: int64(1), object(5)\n",
      "memory usage: 47.1+ MB\n"
     ]
    }
   ],
   "source": [
    "df_imbd5.info()"
   ]
  },
  {
   "cell_type": "code",
   "execution_count": 22,
   "metadata": {},
   "outputs": [
    {
     "data": {
      "text/html": [
       "<div>\n",
       "<style scoped>\n",
       "    .dataframe tbody tr th:only-of-type {\n",
       "        vertical-align: middle;\n",
       "    }\n",
       "\n",
       "    .dataframe tbody tr th {\n",
       "        vertical-align: top;\n",
       "    }\n",
       "\n",
       "    .dataframe thead th {\n",
       "        text-align: right;\n",
       "    }\n",
       "</style>\n",
       "<table border=\"1\" class=\"dataframe\">\n",
       "  <thead>\n",
       "    <tr style=\"text-align: right;\">\n",
       "      <th></th>\n",
       "      <th>tconst</th>\n",
       "      <th>averagerating</th>\n",
       "      <th>numvotes</th>\n",
       "    </tr>\n",
       "  </thead>\n",
       "  <tbody>\n",
       "    <tr>\n",
       "      <td>0</td>\n",
       "      <td>tt10356526</td>\n",
       "      <td>8.3</td>\n",
       "      <td>31</td>\n",
       "    </tr>\n",
       "    <tr>\n",
       "      <td>1</td>\n",
       "      <td>tt10384606</td>\n",
       "      <td>8.9</td>\n",
       "      <td>559</td>\n",
       "    </tr>\n",
       "    <tr>\n",
       "      <td>2</td>\n",
       "      <td>tt1042974</td>\n",
       "      <td>6.4</td>\n",
       "      <td>20</td>\n",
       "    </tr>\n",
       "    <tr>\n",
       "      <td>3</td>\n",
       "      <td>tt1043726</td>\n",
       "      <td>4.2</td>\n",
       "      <td>50352</td>\n",
       "    </tr>\n",
       "    <tr>\n",
       "      <td>4</td>\n",
       "      <td>tt1060240</td>\n",
       "      <td>6.5</td>\n",
       "      <td>21</td>\n",
       "    </tr>\n",
       "  </tbody>\n",
       "</table>\n",
       "</div>"
      ],
      "text/plain": [
       "       tconst  averagerating  numvotes\n",
       "0  tt10356526            8.3        31\n",
       "1  tt10384606            8.9       559\n",
       "2   tt1042974            6.4        20\n",
       "3   tt1043726            4.2     50352\n",
       "4   tt1060240            6.5        21"
      ]
     },
     "execution_count": 22,
     "metadata": {},
     "output_type": "execute_result"
    }
   ],
   "source": [
    "df_imbd6 = pd.read_csv('imdb.title.ratings.csv')\n",
    "df_imbd6.head()"
   ]
  },
  {
   "cell_type": "code",
   "execution_count": 23,
   "metadata": {},
   "outputs": [
    {
     "name": "stdout",
     "output_type": "stream",
     "text": [
      "<class 'pandas.core.frame.DataFrame'>\n",
      "RangeIndex: 73856 entries, 0 to 73855\n",
      "Data columns (total 3 columns):\n",
      "tconst           73856 non-null object\n",
      "averagerating    73856 non-null float64\n",
      "numvotes         73856 non-null int64\n",
      "dtypes: float64(1), int64(1), object(1)\n",
      "memory usage: 1.7+ MB\n"
     ]
    }
   ],
   "source": [
    "df_imbd6.info()"
   ]
  },
  {
   "cell_type": "code",
   "execution_count": null,
   "metadata": {},
   "outputs": [],
   "source": []
  },
  {
   "cell_type": "code",
   "execution_count": null,
   "metadata": {},
   "outputs": [],
   "source": []
  },
  {
   "cell_type": "code",
   "execution_count": 24,
   "metadata": {},
   "outputs": [],
   "source": [
    "df_rt= pd.read_csv('rt.movie_info.tsv', '\\t')"
   ]
  },
  {
   "cell_type": "code",
   "execution_count": 25,
   "metadata": {},
   "outputs": [
    {
     "data": {
      "text/html": [
       "<div>\n",
       "<style scoped>\n",
       "    .dataframe tbody tr th:only-of-type {\n",
       "        vertical-align: middle;\n",
       "    }\n",
       "\n",
       "    .dataframe tbody tr th {\n",
       "        vertical-align: top;\n",
       "    }\n",
       "\n",
       "    .dataframe thead th {\n",
       "        text-align: right;\n",
       "    }\n",
       "</style>\n",
       "<table border=\"1\" class=\"dataframe\">\n",
       "  <thead>\n",
       "    <tr style=\"text-align: right;\">\n",
       "      <th></th>\n",
       "      <th>id</th>\n",
       "      <th>synopsis</th>\n",
       "      <th>rating</th>\n",
       "      <th>genre</th>\n",
       "      <th>director</th>\n",
       "      <th>writer</th>\n",
       "      <th>theater_date</th>\n",
       "      <th>dvd_date</th>\n",
       "      <th>currency</th>\n",
       "      <th>box_office</th>\n",
       "      <th>runtime</th>\n",
       "      <th>studio</th>\n",
       "    </tr>\n",
       "  </thead>\n",
       "  <tbody>\n",
       "    <tr>\n",
       "      <td>86</td>\n",
       "      <td>108</td>\n",
       "      <td>A picture-perfect family moves into an upscale...</td>\n",
       "      <td>R</td>\n",
       "      <td>Comedy|Drama|Kids and Family</td>\n",
       "      <td>Derrick Borte</td>\n",
       "      <td>Derrick Borte</td>\n",
       "      <td>Apr 16, 2010</td>\n",
       "      <td>Aug 10, 2010</td>\n",
       "      <td>$</td>\n",
       "      <td>1,000,000</td>\n",
       "      <td>93 minutes</td>\n",
       "      <td>Roadside Attractions</td>\n",
       "    </tr>\n",
       "    <tr>\n",
       "      <td>15</td>\n",
       "      <td>22</td>\n",
       "      <td>Two-time Academy Award Winner Kevin Spacey giv...</td>\n",
       "      <td>R</td>\n",
       "      <td>Comedy|Drama|Mystery and Suspense</td>\n",
       "      <td>George Hickenlooper</td>\n",
       "      <td>Norman Snider</td>\n",
       "      <td>Dec 17, 2010</td>\n",
       "      <td>Apr 5, 2011</td>\n",
       "      <td>$</td>\n",
       "      <td>1,039,869</td>\n",
       "      <td>108 minutes</td>\n",
       "      <td>ATO Pictures</td>\n",
       "    </tr>\n",
       "    <tr>\n",
       "      <td>809</td>\n",
       "      <td>1046</td>\n",
       "      <td>Writer/director Rodrigo Garca (Nine Lives) tea...</td>\n",
       "      <td>R</td>\n",
       "      <td>Drama</td>\n",
       "      <td>NaN</td>\n",
       "      <td>NaN</td>\n",
       "      <td>May 7, 2010</td>\n",
       "      <td>Dec 14, 2010</td>\n",
       "      <td>$</td>\n",
       "      <td>1,110,286</td>\n",
       "      <td>126 minutes</td>\n",
       "      <td>Sony Pictures Classics</td>\n",
       "    </tr>\n",
       "    <tr>\n",
       "      <td>1087</td>\n",
       "      <td>1398</td>\n",
       "      <td>A heartfelt tale of inspiration, hope and rede...</td>\n",
       "      <td>PG</td>\n",
       "      <td>Drama|Kids and Family|Faith and Spirituality</td>\n",
       "      <td>David Nixon|Patrick Doughtie</td>\n",
       "      <td>NaN</td>\n",
       "      <td>Apr 9, 2010</td>\n",
       "      <td>Aug 10, 2010</td>\n",
       "      <td>$</td>\n",
       "      <td>1,121,000</td>\n",
       "      <td>110 minutes</td>\n",
       "      <td>Vivendi Entertainment</td>\n",
       "    </tr>\n",
       "    <tr>\n",
       "      <td>1213</td>\n",
       "      <td>1564</td>\n",
       "      <td>Real-life sweethearts Michael Cera and Charlyn...</td>\n",
       "      <td>PG-13</td>\n",
       "      <td>Comedy</td>\n",
       "      <td>Nicholas Jasenovec</td>\n",
       "      <td>Nicholas Jasenovec|Charlyne Yi</td>\n",
       "      <td>Aug 14, 2009</td>\n",
       "      <td>Dec 1, 2009</td>\n",
       "      <td>$</td>\n",
       "      <td>1,149,350</td>\n",
       "      <td>89 minutes</td>\n",
       "      <td>Overture Films</td>\n",
       "    </tr>\n",
       "  </tbody>\n",
       "</table>\n",
       "</div>"
      ],
      "text/plain": [
       "        id                                           synopsis rating  \\\n",
       "86     108  A picture-perfect family moves into an upscale...      R   \n",
       "15      22  Two-time Academy Award Winner Kevin Spacey giv...      R   \n",
       "809   1046  Writer/director Rodrigo Garca (Nine Lives) tea...      R   \n",
       "1087  1398  A heartfelt tale of inspiration, hope and rede...     PG   \n",
       "1213  1564  Real-life sweethearts Michael Cera and Charlyn...  PG-13   \n",
       "\n",
       "                                             genre  \\\n",
       "86                    Comedy|Drama|Kids and Family   \n",
       "15               Comedy|Drama|Mystery and Suspense   \n",
       "809                                          Drama   \n",
       "1087  Drama|Kids and Family|Faith and Spirituality   \n",
       "1213                                        Comedy   \n",
       "\n",
       "                          director                          writer  \\\n",
       "86                   Derrick Borte                   Derrick Borte   \n",
       "15             George Hickenlooper                   Norman Snider   \n",
       "809                            NaN                             NaN   \n",
       "1087  David Nixon|Patrick Doughtie                             NaN   \n",
       "1213            Nicholas Jasenovec  Nicholas Jasenovec|Charlyne Yi   \n",
       "\n",
       "      theater_date      dvd_date currency box_office      runtime  \\\n",
       "86    Apr 16, 2010  Aug 10, 2010        $  1,000,000   93 minutes   \n",
       "15    Dec 17, 2010   Apr 5, 2011        $  1,039,869  108 minutes   \n",
       "809    May 7, 2010  Dec 14, 2010        $  1,110,286  126 minutes   \n",
       "1087   Apr 9, 2010  Aug 10, 2010        $  1,121,000  110 minutes   \n",
       "1213  Aug 14, 2009   Dec 1, 2009        $  1,149,350   89 minutes   \n",
       "\n",
       "                      studio  \n",
       "86      Roadside Attractions  \n",
       "15              ATO Pictures  \n",
       "809   Sony Pictures Classics  \n",
       "1087   Vivendi Entertainment  \n",
       "1213          Overture Films  "
      ]
     },
     "execution_count": 25,
     "metadata": {},
     "output_type": "execute_result"
    }
   ],
   "source": [
    "df_rt.sort_values('box_office').head()"
   ]
  },
  {
   "cell_type": "code",
   "execution_count": 26,
   "metadata": {},
   "outputs": [
    {
     "data": {
      "text/html": [
       "<div>\n",
       "<style scoped>\n",
       "    .dataframe tbody tr th:only-of-type {\n",
       "        vertical-align: middle;\n",
       "    }\n",
       "\n",
       "    .dataframe tbody tr th {\n",
       "        vertical-align: top;\n",
       "    }\n",
       "\n",
       "    .dataframe thead th {\n",
       "        text-align: right;\n",
       "    }\n",
       "</style>\n",
       "<table border=\"1\" class=\"dataframe\">\n",
       "  <thead>\n",
       "    <tr style=\"text-align: right;\">\n",
       "      <th></th>\n",
       "      <th>id</th>\n",
       "      <th>release_date</th>\n",
       "      <th>movie</th>\n",
       "      <th>production_budget</th>\n",
       "      <th>domestic_gross</th>\n",
       "      <th>worldwide_gross</th>\n",
       "    </tr>\n",
       "  </thead>\n",
       "  <tbody>\n",
       "    <tr>\n",
       "      <td>0</td>\n",
       "      <td>1</td>\n",
       "      <td>Dec 18, 2009</td>\n",
       "      <td>Avatar</td>\n",
       "      <td>$425,000,000</td>\n",
       "      <td>$760,507,625</td>\n",
       "      <td>$2,776,345,279</td>\n",
       "    </tr>\n",
       "    <tr>\n",
       "      <td>1</td>\n",
       "      <td>2</td>\n",
       "      <td>May 20, 2011</td>\n",
       "      <td>Pirates of the Caribbean: On Stranger Tides</td>\n",
       "      <td>$410,600,000</td>\n",
       "      <td>$241,063,875</td>\n",
       "      <td>$1,045,663,875</td>\n",
       "    </tr>\n",
       "    <tr>\n",
       "      <td>2</td>\n",
       "      <td>3</td>\n",
       "      <td>Jun 7, 2019</td>\n",
       "      <td>Dark Phoenix</td>\n",
       "      <td>$350,000,000</td>\n",
       "      <td>$42,762,350</td>\n",
       "      <td>$149,762,350</td>\n",
       "    </tr>\n",
       "    <tr>\n",
       "      <td>3</td>\n",
       "      <td>4</td>\n",
       "      <td>May 1, 2015</td>\n",
       "      <td>Avengers: Age of Ultron</td>\n",
       "      <td>$330,600,000</td>\n",
       "      <td>$459,005,868</td>\n",
       "      <td>$1,403,013,963</td>\n",
       "    </tr>\n",
       "    <tr>\n",
       "      <td>4</td>\n",
       "      <td>5</td>\n",
       "      <td>Dec 15, 2017</td>\n",
       "      <td>Star Wars Ep. VIII: The Last Jedi</td>\n",
       "      <td>$317,000,000</td>\n",
       "      <td>$620,181,382</td>\n",
       "      <td>$1,316,721,747</td>\n",
       "    </tr>\n",
       "  </tbody>\n",
       "</table>\n",
       "</div>"
      ],
      "text/plain": [
       "   id  release_date                                        movie  \\\n",
       "0   1  Dec 18, 2009                                       Avatar   \n",
       "1   2  May 20, 2011  Pirates of the Caribbean: On Stranger Tides   \n",
       "2   3   Jun 7, 2019                                 Dark Phoenix   \n",
       "3   4   May 1, 2015                      Avengers: Age of Ultron   \n",
       "4   5  Dec 15, 2017            Star Wars Ep. VIII: The Last Jedi   \n",
       "\n",
       "  production_budget domestic_gross worldwide_gross  \n",
       "0      $425,000,000   $760,507,625  $2,776,345,279  \n",
       "1      $410,600,000   $241,063,875  $1,045,663,875  \n",
       "2      $350,000,000    $42,762,350    $149,762,350  \n",
       "3      $330,600,000   $459,005,868  $1,403,013,963  \n",
       "4      $317,000,000   $620,181,382  $1,316,721,747  "
      ]
     },
     "execution_count": 26,
     "metadata": {},
     "output_type": "execute_result"
    }
   ],
   "source": [
    "budgets = pd.read_csv('tn.movie_budgets.csv')\n",
    "budgets.head()"
   ]
  },
  {
   "cell_type": "code",
   "execution_count": 27,
   "metadata": {},
   "outputs": [
    {
     "data": {
      "text/plain": [
       "False    5698\n",
       "True       84\n",
       "dtype: int64"
      ]
     },
     "execution_count": 27,
     "metadata": {},
     "output_type": "execute_result"
    }
   ],
   "source": [
    "budgets.duplicated(subset='movie').value_counts()"
   ]
  },
  {
   "cell_type": "code",
   "execution_count": 28,
   "metadata": {},
   "outputs": [],
   "source": [
    "budgets.loc[:,'production_budget'] = [x.replace('$',\"\") for x in budgets.loc[:,'production_budget']]\n",
    "budgets.loc[:,'domestic_gross'] = [x.replace('$',\"\") for x in budgets.loc[:,'domestic_gross']]\n",
    "budgets.loc[:,'worldwide_gross'] = [x.replace('$',\"\") for x in budgets.loc[:,'worldwide_gross']]"
   ]
  },
  {
   "cell_type": "code",
   "execution_count": 29,
   "metadata": {},
   "outputs": [],
   "source": [
    "budgets.loc[:,'production_budget'] = [x.replace(',',\"\") for x in budgets.loc[:,'production_budget']]\n",
    "budgets.loc[:,'domestic_gross'] = [x.replace(',',\"\") for x in budgets.loc[:,'domestic_gross']]\n",
    "budgets.loc[:,'worldwide_gross'] = [x.replace(',',\"\") for x in budgets.loc[:,'worldwide_gross']]"
   ]
  },
  {
   "cell_type": "code",
   "execution_count": 30,
   "metadata": {},
   "outputs": [],
   "source": [
    "budgets['production_budget'] = pd.to_numeric(budgets['production_budget'])\n",
    "budgets['domestic_gross'] = pd.to_numeric(budgets['domestic_gross'])\n",
    "budgets['worldwide_gross'] = pd.to_numeric(budgets['worldwide_gross'])"
   ]
  },
  {
   "cell_type": "code",
   "execution_count": 31,
   "metadata": {},
   "outputs": [
    {
     "name": "stdout",
     "output_type": "stream",
     "text": [
      "<class 'pandas.core.frame.DataFrame'>\n",
      "RangeIndex: 5782 entries, 0 to 5781\n",
      "Data columns (total 6 columns):\n",
      "id                   5782 non-null int64\n",
      "release_date         5782 non-null object\n",
      "movie                5782 non-null object\n",
      "production_budget    5782 non-null int64\n",
      "domestic_gross       5782 non-null int64\n",
      "worldwide_gross      5782 non-null int64\n",
      "dtypes: int64(4), object(2)\n",
      "memory usage: 271.2+ KB\n"
     ]
    }
   ],
   "source": [
    "budgets.info()"
   ]
  },
  {
   "cell_type": "code",
   "execution_count": 32,
   "metadata": {},
   "outputs": [
    {
     "data": {
      "text/plain": [
       "<seaborn.axisgrid.FacetGrid at 0x1ccbc833860>"
      ]
     },
     "execution_count": 32,
     "metadata": {},
     "output_type": "execute_result"
    },
    {
     "data": {
      "image/png": "[encoded data removed]",
      "text/plain": [
       "<Figure size 360x360 with 1 Axes>"
      ]
     },
     "metadata": {
      "needs_background": "light"
     },
     "output_type": "display_data"
    }
   ],
   "source": [
    "sns.relplot(x='production_budget', y='domestic_gross', data=budgets)"
   ]
  },
  {
   "cell_type": "code",
   "execution_count": 33,
   "metadata": {},
   "outputs": [],
   "source": [
    "budgets['release_date'] = pd.to_datetime(budgets['release_date'])\n",
    "budgets['title'] = budgets['movie']"
   ]
  },
  {
   "cell_type": "code",
   "execution_count": 34,
   "metadata": {},
   "outputs": [],
   "source": [
    "merge = pd.merge(df_imdb2, budgets, how='right', on='title',indicator=True)"
   ]
  },
  {
   "cell_type": "code",
   "execution_count": 35,
   "metadata": {},
   "outputs": [
    {
     "data": {
      "text/html": [
       "<div>\n",
       "<style scoped>\n",
       "    .dataframe tbody tr th:only-of-type {\n",
       "        vertical-align: middle;\n",
       "    }\n",
       "\n",
       "    .dataframe tbody tr th {\n",
       "        vertical-align: top;\n",
       "    }\n",
       "\n",
       "    .dataframe thead th {\n",
       "        text-align: right;\n",
       "    }\n",
       "</style>\n",
       "<table border=\"1\" class=\"dataframe\">\n",
       "  <thead>\n",
       "    <tr style=\"text-align: right;\">\n",
       "      <th></th>\n",
       "      <th>title_id</th>\n",
       "      <th>ordering</th>\n",
       "      <th>title</th>\n",
       "      <th>region</th>\n",
       "      <th>language</th>\n",
       "      <th>types</th>\n",
       "      <th>attributes</th>\n",
       "      <th>is_original_title</th>\n",
       "      <th>id</th>\n",
       "      <th>release_date</th>\n",
       "      <th>movie</th>\n",
       "      <th>production_budget</th>\n",
       "      <th>domestic_gross</th>\n",
       "      <th>worldwide_gross</th>\n",
       "      <th>_merge</th>\n",
       "    </tr>\n",
       "  </thead>\n",
       "  <tbody>\n",
       "    <tr>\n",
       "      <td>0</td>\n",
       "      <td>tt0369610</td>\n",
       "      <td>14.0</td>\n",
       "      <td>Jurassic World</td>\n",
       "      <td>FR</td>\n",
       "      <td>NaN</td>\n",
       "      <td>imdbDisplay</td>\n",
       "      <td>NaN</td>\n",
       "      <td>0.0</td>\n",
       "      <td>34</td>\n",
       "      <td>2015-06-12</td>\n",
       "      <td>Jurassic World</td>\n",
       "      <td>215000000</td>\n",
       "      <td>652270625</td>\n",
       "      <td>1648854864</td>\n",
       "      <td>both</td>\n",
       "    </tr>\n",
       "    <tr>\n",
       "      <td>1</td>\n",
       "      <td>tt0369610</td>\n",
       "      <td>15.0</td>\n",
       "      <td>Jurassic World</td>\n",
       "      <td>GR</td>\n",
       "      <td>NaN</td>\n",
       "      <td>imdbDisplay</td>\n",
       "      <td>NaN</td>\n",
       "      <td>0.0</td>\n",
       "      <td>34</td>\n",
       "      <td>2015-06-12</td>\n",
       "      <td>Jurassic World</td>\n",
       "      <td>215000000</td>\n",
       "      <td>652270625</td>\n",
       "      <td>1648854864</td>\n",
       "      <td>both</td>\n",
       "    </tr>\n",
       "    <tr>\n",
       "      <td>2</td>\n",
       "      <td>tt0369610</td>\n",
       "      <td>16.0</td>\n",
       "      <td>Jurassic World</td>\n",
       "      <td>IT</td>\n",
       "      <td>NaN</td>\n",
       "      <td>imdbDisplay</td>\n",
       "      <td>NaN</td>\n",
       "      <td>0.0</td>\n",
       "      <td>34</td>\n",
       "      <td>2015-06-12</td>\n",
       "      <td>Jurassic World</td>\n",
       "      <td>215000000</td>\n",
       "      <td>652270625</td>\n",
       "      <td>1648854864</td>\n",
       "      <td>both</td>\n",
       "    </tr>\n",
       "    <tr>\n",
       "      <td>3</td>\n",
       "      <td>tt0369610</td>\n",
       "      <td>20.0</td>\n",
       "      <td>Jurassic World</td>\n",
       "      <td>SE</td>\n",
       "      <td>NaN</td>\n",
       "      <td>imdbDisplay</td>\n",
       "      <td>NaN</td>\n",
       "      <td>0.0</td>\n",
       "      <td>34</td>\n",
       "      <td>2015-06-12</td>\n",
       "      <td>Jurassic World</td>\n",
       "      <td>215000000</td>\n",
       "      <td>652270625</td>\n",
       "      <td>1648854864</td>\n",
       "      <td>both</td>\n",
       "    </tr>\n",
       "    <tr>\n",
       "      <td>4</td>\n",
       "      <td>tt0369610</td>\n",
       "      <td>29.0</td>\n",
       "      <td>Jurassic World</td>\n",
       "      <td>US</td>\n",
       "      <td>NaN</td>\n",
       "      <td>NaN</td>\n",
       "      <td>NaN</td>\n",
       "      <td>0.0</td>\n",
       "      <td>34</td>\n",
       "      <td>2015-06-12</td>\n",
       "      <td>Jurassic World</td>\n",
       "      <td>215000000</td>\n",
       "      <td>652270625</td>\n",
       "      <td>1648854864</td>\n",
       "      <td>both</td>\n",
       "    </tr>\n",
       "  </tbody>\n",
       "</table>\n",
       "</div>"
      ],
      "text/plain": [
       "    title_id  ordering           title region language        types  \\\n",
       "0  tt0369610      14.0  Jurassic World     FR      NaN  imdbDisplay   \n",
       "1  tt0369610      15.0  Jurassic World     GR      NaN  imdbDisplay   \n",
       "2  tt0369610      16.0  Jurassic World     IT      NaN  imdbDisplay   \n",
       "3  tt0369610      20.0  Jurassic World     SE      NaN  imdbDisplay   \n",
       "4  tt0369610      29.0  Jurassic World     US      NaN          NaN   \n",
       "\n",
       "  attributes  is_original_title  id release_date           movie  \\\n",
       "0        NaN                0.0  34   2015-06-12  Jurassic World   \n",
       "1        NaN                0.0  34   2015-06-12  Jurassic World   \n",
       "2        NaN                0.0  34   2015-06-12  Jurassic World   \n",
       "3        NaN                0.0  34   2015-06-12  Jurassic World   \n",
       "4        NaN                0.0  34   2015-06-12  Jurassic World   \n",
       "\n",
       "   production_budget  domestic_gross  worldwide_gross _merge  \n",
       "0          215000000       652270625       1648854864   both  \n",
       "1          215000000       652270625       1648854864   both  \n",
       "2          215000000       652270625       1648854864   both  \n",
       "3          215000000       652270625       1648854864   both  \n",
       "4          215000000       652270625       1648854864   both  "
      ]
     },
     "execution_count": 35,
     "metadata": {},
     "output_type": "execute_result"
    }
   ],
   "source": [
    "merge.head()"
   ]
  },
  {
   "cell_type": "code",
   "execution_count": 36,
   "metadata": {},
   "outputs": [],
   "source": [
    "dups = merge.duplicated(subset='movie')"
   ]
  },
  {
   "cell_type": "code",
   "execution_count": 37,
   "metadata": {},
   "outputs": [
    {
     "data": {
      "text/plain": [
       "True     8190\n",
       "False    5698\n",
       "dtype: int64"
      ]
     },
     "execution_count": 37,
     "metadata": {},
     "output_type": "execute_result"
    }
   ],
   "source": [
    "dups.value_counts()"
   ]
  },
  {
   "cell_type": "code",
   "execution_count": 38,
   "metadata": {},
   "outputs": [],
   "source": [
    "merge_unique = merge.drop_duplicates(subset='movie')"
   ]
  },
  {
   "cell_type": "code",
   "execution_count": 39,
   "metadata": {},
   "outputs": [
    {
     "name": "stdout",
     "output_type": "stream",
     "text": [
      "<class 'pandas.core.frame.DataFrame'>\n",
      "Int64Index: 5698 entries, 0 to 13887\n",
      "Data columns (total 15 columns):\n",
      "title_id             2440 non-null object\n",
      "ordering             2440 non-null float64\n",
      "title                5698 non-null object\n",
      "region               1752 non-null object\n",
      "language             260 non-null object\n",
      "types                1487 non-null object\n",
      "attributes           81 non-null object\n",
      "is_original_title    2440 non-null float64\n",
      "id                   5698 non-null int64\n",
      "release_date         5698 non-null datetime64[ns]\n",
      "movie                5698 non-null object\n",
      "production_budget    5698 non-null int64\n",
      "domestic_gross       5698 non-null int64\n",
      "worldwide_gross      5698 non-null int64\n",
      "_merge               5698 non-null category\n",
      "dtypes: category(1), datetime64[ns](1), float64(2), int64(4), object(7)\n",
      "memory usage: 673.4+ KB\n"
     ]
    }
   ],
   "source": [
    "merge_unique.info()"
   ]
  },
  {
   "cell_type": "code",
   "execution_count": 40,
   "metadata": {},
   "outputs": [
    {
     "data": {
      "text/html": [
       "<div>\n",
       "<style scoped>\n",
       "    .dataframe tbody tr th:only-of-type {\n",
       "        vertical-align: middle;\n",
       "    }\n",
       "\n",
       "    .dataframe tbody tr th {\n",
       "        vertical-align: top;\n",
       "    }\n",
       "\n",
       "    .dataframe thead th {\n",
       "        text-align: right;\n",
       "    }\n",
       "</style>\n",
       "<table border=\"1\" class=\"dataframe\">\n",
       "  <thead>\n",
       "    <tr style=\"text-align: right;\">\n",
       "      <th></th>\n",
       "      <th>title_id</th>\n",
       "      <th>ordering</th>\n",
       "      <th>title</th>\n",
       "      <th>region</th>\n",
       "      <th>language</th>\n",
       "      <th>types</th>\n",
       "      <th>attributes</th>\n",
       "      <th>is_original_title</th>\n",
       "      <th>id</th>\n",
       "      <th>release_date</th>\n",
       "      <th>movie</th>\n",
       "      <th>production_budget</th>\n",
       "      <th>domestic_gross</th>\n",
       "      <th>worldwide_gross</th>\n",
       "      <th>_merge</th>\n",
       "    </tr>\n",
       "  </thead>\n",
       "  <tbody>\n",
       "    <tr>\n",
       "      <td>10608</td>\n",
       "      <td>NaN</td>\n",
       "      <td>NaN</td>\n",
       "      <td>Star Wars Ep. VIII: The Last Jedi</td>\n",
       "      <td>NaN</td>\n",
       "      <td>NaN</td>\n",
       "      <td>NaN</td>\n",
       "      <td>NaN</td>\n",
       "      <td>NaN</td>\n",
       "      <td>5</td>\n",
       "      <td>2017-12-15</td>\n",
       "      <td>Star Wars Ep. VIII: The Last Jedi</td>\n",
       "      <td>317000000</td>\n",
       "      <td>620181382</td>\n",
       "      <td>1316721747</td>\n",
       "      <td>right_only</td>\n",
       "    </tr>\n",
       "    <tr>\n",
       "      <td>10609</td>\n",
       "      <td>NaN</td>\n",
       "      <td>NaN</td>\n",
       "      <td>Star Wars Ep. VII: The Force Awakens</td>\n",
       "      <td>NaN</td>\n",
       "      <td>NaN</td>\n",
       "      <td>NaN</td>\n",
       "      <td>NaN</td>\n",
       "      <td>NaN</td>\n",
       "      <td>6</td>\n",
       "      <td>2015-12-18</td>\n",
       "      <td>Star Wars Ep. VII: The Force Awakens</td>\n",
       "      <td>306000000</td>\n",
       "      <td>936662225</td>\n",
       "      <td>2053311220</td>\n",
       "      <td>right_only</td>\n",
       "    </tr>\n",
       "    <tr>\n",
       "      <td>10610</td>\n",
       "      <td>NaN</td>\n",
       "      <td>NaN</td>\n",
       "      <td>Pirates of the Caribbean: At Worldâs End</td>\n",
       "      <td>NaN</td>\n",
       "      <td>NaN</td>\n",
       "      <td>NaN</td>\n",
       "      <td>NaN</td>\n",
       "      <td>NaN</td>\n",
       "      <td>8</td>\n",
       "      <td>2007-05-24</td>\n",
       "      <td>Pirates of the Caribbean: At Worldâs End</td>\n",
       "      <td>300000000</td>\n",
       "      <td>309420425</td>\n",
       "      <td>963420425</td>\n",
       "      <td>right_only</td>\n",
       "    </tr>\n",
       "    <tr>\n",
       "      <td>10611</td>\n",
       "      <td>NaN</td>\n",
       "      <td>NaN</td>\n",
       "      <td>Spider-Man 3</td>\n",
       "      <td>NaN</td>\n",
       "      <td>NaN</td>\n",
       "      <td>NaN</td>\n",
       "      <td>NaN</td>\n",
       "      <td>NaN</td>\n",
       "      <td>16</td>\n",
       "      <td>2007-05-04</td>\n",
       "      <td>Spider-Man 3</td>\n",
       "      <td>258000000</td>\n",
       "      <td>336530303</td>\n",
       "      <td>894860230</td>\n",
       "      <td>right_only</td>\n",
       "    </tr>\n",
       "    <tr>\n",
       "      <td>10612</td>\n",
       "      <td>NaN</td>\n",
       "      <td>NaN</td>\n",
       "      <td>Harry Potter and the Half-Blood Prince</td>\n",
       "      <td>NaN</td>\n",
       "      <td>NaN</td>\n",
       "      <td>NaN</td>\n",
       "      <td>NaN</td>\n",
       "      <td>NaN</td>\n",
       "      <td>20</td>\n",
       "      <td>2009-07-15</td>\n",
       "      <td>Harry Potter and the Half-Blood Prince</td>\n",
       "      <td>250000000</td>\n",
       "      <td>302089278</td>\n",
       "      <td>935213767</td>\n",
       "      <td>right_only</td>\n",
       "    </tr>\n",
       "  </tbody>\n",
       "</table>\n",
       "</div>"
      ],
      "text/plain": [
       "      title_id  ordering                                       title region  \\\n",
       "10608      NaN       NaN           Star Wars Ep. VIII: The Last Jedi    NaN   \n",
       "10609      NaN       NaN        Star Wars Ep. VII: The Force Awakens    NaN   \n",
       "10610      NaN       NaN  Pirates of the Caribbean: At Worldâs End    NaN   \n",
       "10611      NaN       NaN                                Spider-Man 3    NaN   \n",
       "10612      NaN       NaN      Harry Potter and the Half-Blood Prince    NaN   \n",
       "\n",
       "      language types attributes  is_original_title  id release_date  \\\n",
       "10608      NaN   NaN        NaN                NaN   5   2017-12-15   \n",
       "10609      NaN   NaN        NaN                NaN   6   2015-12-18   \n",
       "10610      NaN   NaN        NaN                NaN   8   2007-05-24   \n",
       "10611      NaN   NaN        NaN                NaN  16   2007-05-04   \n",
       "10612      NaN   NaN        NaN                NaN  20   2009-07-15   \n",
       "\n",
       "                                            movie  production_budget  \\\n",
       "10608           Star Wars Ep. VIII: The Last Jedi          317000000   \n",
       "10609        Star Wars Ep. VII: The Force Awakens          306000000   \n",
       "10610  Pirates of the Caribbean: At Worldâs End          300000000   \n",
       "10611                                Spider-Man 3          258000000   \n",
       "10612      Harry Potter and the Half-Blood Prince          250000000   \n",
       "\n",
       "       domestic_gross  worldwide_gross      _merge  \n",
       "10608       620181382       1316721747  right_only  \n",
       "10609       936662225       2053311220  right_only  \n",
       "10610       309420425        963420425  right_only  \n",
       "10611       336530303        894860230  right_only  \n",
       "10612       302089278        935213767  right_only  "
      ]
     },
     "execution_count": 40,
     "metadata": {},
     "output_type": "execute_result"
    }
   ],
   "source": [
    "id_missing = merge_unique.title_id.isna()\n",
    "merge_unique[id_missing].head()"
   ]
  },
  {
   "cell_type": "code",
   "execution_count": 41,
   "metadata": {},
   "outputs": [
    {
     "data": {
      "text/plain": [
       "right_only    3258\n",
       "both          2440\n",
       "left_only        0\n",
       "Name: _merge, dtype: int64"
      ]
     },
     "execution_count": 41,
     "metadata": {},
     "output_type": "execute_result"
    }
   ],
   "source": [
    "merge_unique['_merge'].value_counts()"
   ]
  },
  {
   "cell_type": "code",
   "execution_count": 42,
   "metadata": {},
   "outputs": [],
   "source": [
    "merge2 = pd.merge(df_imdb4, merge_unique, how='right', on='title_id')"
   ]
  },
  {
   "cell_type": "code",
   "execution_count": 43,
   "metadata": {},
   "outputs": [
    {
     "name": "stdout",
     "output_type": "stream",
     "text": [
      "<class 'pandas.core.frame.DataFrame'>\n",
      "Int64Index: 5698 entries, 0 to 5697\n",
      "Data columns (total 18 columns):\n",
      "tconst               2440 non-null object\n",
      "directors            2428 non-null object\n",
      "writers              2332 non-null object\n",
      "title_id             2440 non-null object\n",
      "ordering             2440 non-null float64\n",
      "title                5698 non-null object\n",
      "region               1752 non-null object\n",
      "language             260 non-null object\n",
      "types                1487 non-null object\n",
      "attributes           81 non-null object\n",
      "is_original_title    2440 non-null float64\n",
      "id                   5698 non-null int64\n",
      "release_date         5698 non-null datetime64[ns]\n",
      "movie                5698 non-null object\n",
      "production_budget    5698 non-null int64\n",
      "domestic_gross       5698 non-null int64\n",
      "worldwide_gross      5698 non-null int64\n",
      "_merge               5698 non-null category\n",
      "dtypes: category(1), datetime64[ns](1), float64(2), int64(4), object(10)\n",
      "memory usage: 806.9+ KB\n"
     ]
    }
   ],
   "source": [
    "merge2.info()"
   ]
  },
  {
   "cell_type": "code",
   "execution_count": 44,
   "metadata": {},
   "outputs": [
    {
     "data": {
      "text/plain": [
       "False    5698\n",
       "dtype: int64"
      ]
     },
     "execution_count": 44,
     "metadata": {},
     "output_type": "execute_result"
    }
   ],
   "source": [
    "dups2 = merge2.duplicated(subset='movie')\n",
    "dups2.value_counts()"
   ]
  },
  {
   "cell_type": "code",
   "execution_count": 45,
   "metadata": {},
   "outputs": [],
   "source": [
    "merge3 = pd.merge(tmbd, merge2, how='right', on='title')"
   ]
  },
  {
   "cell_type": "code",
   "execution_count": 46,
   "metadata": {},
   "outputs": [
    {
     "name": "stdout",
     "output_type": "stream",
     "text": [
      "<class 'pandas.core.frame.DataFrame'>\n",
      "Int64Index: 6070 entries, 0 to 6069\n",
      "Data columns (total 27 columns):\n",
      "Unnamed: 0           2296 non-null float64\n",
      "genre_ids            2296 non-null object\n",
      "id_x                 2296 non-null float64\n",
      "original_language    2296 non-null object\n",
      "original_title       2296 non-null object\n",
      "popularity           2296 non-null float64\n",
      "release_date_x       2296 non-null object\n",
      "title                6070 non-null object\n",
      "vote_average         2296 non-null float64\n",
      "vote_count           2296 non-null float64\n",
      "tconst               2803 non-null object\n",
      "directors            2791 non-null object\n",
      "writers              2677 non-null object\n",
      "title_id             2803 non-null object\n",
      "ordering             2803 non-null float64\n",
      "region               2024 non-null object\n",
      "language             319 non-null object\n",
      "types                1709 non-null object\n",
      "attributes           91 non-null object\n",
      "is_original_title    2803 non-null float64\n",
      "id_y                 6070 non-null int64\n",
      "release_date_y       6070 non-null datetime64[ns]\n",
      "movie                6070 non-null object\n",
      "production_budget    6070 non-null int64\n",
      "domestic_gross       6070 non-null int64\n",
      "worldwide_gross      6070 non-null int64\n",
      "_merge               6070 non-null category\n",
      "dtypes: category(1), datetime64[ns](1), float64(7), int64(4), object(14)\n",
      "memory usage: 1.3+ MB\n"
     ]
    }
   ],
   "source": [
    "merge3.info()"
   ]
  },
  {
   "cell_type": "code",
   "execution_count": 47,
   "metadata": {},
   "outputs": [
    {
     "data": {
      "text/plain": [
       "False    5698\n",
       "True      372\n",
       "dtype: int64"
      ]
     },
     "execution_count": 47,
     "metadata": {},
     "output_type": "execute_result"
    }
   ],
   "source": [
    "dups3 = merge3.duplicated(subset='movie')\n",
    "dups3.value_counts()"
   ]
  },
  {
   "cell_type": "code",
   "execution_count": 48,
   "metadata": {},
   "outputs": [
    {
     "name": "stdout",
     "output_type": "stream",
     "text": [
      "<class 'pandas.core.frame.DataFrame'>\n",
      "Int64Index: 5698 entries, 0 to 6069\n",
      "Data columns (total 27 columns):\n",
      "Unnamed: 0           1924 non-null float64\n",
      "genre_ids            1924 non-null object\n",
      "id_x                 1924 non-null float64\n",
      "original_language    1924 non-null object\n",
      "original_title       1924 non-null object\n",
      "popularity           1924 non-null float64\n",
      "release_date_x       1924 non-null object\n",
      "title                5698 non-null object\n",
      "vote_average         1924 non-null float64\n",
      "vote_count           1924 non-null float64\n",
      "tconst               2440 non-null object\n",
      "directors            2428 non-null object\n",
      "writers              2332 non-null object\n",
      "title_id             2440 non-null object\n",
      "ordering             2440 non-null float64\n",
      "region               1752 non-null object\n",
      "language             260 non-null object\n",
      "types                1487 non-null object\n",
      "attributes           81 non-null object\n",
      "is_original_title    2440 non-null float64\n",
      "id_y                 5698 non-null int64\n",
      "release_date_y       5698 non-null datetime64[ns]\n",
      "movie                5698 non-null object\n",
      "production_budget    5698 non-null int64\n",
      "domestic_gross       5698 non-null int64\n",
      "worldwide_gross      5698 non-null int64\n",
      "_merge               5698 non-null category\n",
      "dtypes: category(1), datetime64[ns](1), float64(7), int64(4), object(14)\n",
      "memory usage: 1.2+ MB\n"
     ]
    }
   ],
   "source": [
    "merge3_unique = merge3.drop_duplicates(subset='movie')\n",
    "merge3_unique.info()"
   ]
  },
  {
   "cell_type": "code",
   "execution_count": 49,
   "metadata": {},
   "outputs": [],
   "source": [
    "merge4 = pd.merge(df_imdb3, merge3_unique, how='right', on='tconst')"
   ]
  },
  {
   "cell_type": "code",
   "execution_count": 50,
   "metadata": {},
   "outputs": [
    {
     "name": "stdout",
     "output_type": "stream",
     "text": [
      "<class 'pandas.core.frame.DataFrame'>\n",
      "Int64Index: 5698 entries, 0 to 5697\n",
      "Data columns (total 32 columns):\n",
      "tconst               2440 non-null object\n",
      "primary_title        2440 non-null object\n",
      "original_title_x     2440 non-null object\n",
      "start_year           2440 non-null float64\n",
      "runtime_minutes      2305 non-null float64\n",
      "genres               2431 non-null object\n",
      "Unnamed: 0           1924 non-null float64\n",
      "genre_ids            1924 non-null object\n",
      "id_x                 1924 non-null float64\n",
      "original_language    1924 non-null object\n",
      "original_title_y     1924 non-null object\n",
      "popularity           1924 non-null float64\n",
      "release_date_x       1924 non-null object\n",
      "title                5698 non-null object\n",
      "vote_average         1924 non-null float64\n",
      "vote_count           1924 non-null float64\n",
      "directors            2428 non-null object\n",
      "writers              2332 non-null object\n",
      "title_id             2440 non-null object\n",
      "ordering             2440 non-null float64\n",
      "region               1752 non-null object\n",
      "language             260 non-null object\n",
      "types                1487 non-null object\n",
      "attributes           81 non-null object\n",
      "is_original_title    2440 non-null float64\n",
      "id_y                 5698 non-null int64\n",
      "release_date_y       5698 non-null datetime64[ns]\n",
      "movie                5698 non-null object\n",
      "production_budget    5698 non-null int64\n",
      "domestic_gross       5698 non-null int64\n",
      "worldwide_gross      5698 non-null int64\n",
      "_merge               5698 non-null category\n",
      "dtypes: category(1), datetime64[ns](1), float64(9), int64(4), object(17)\n",
      "memory usage: 1.4+ MB\n"
     ]
    }
   ],
   "source": [
    "merge4.info()"
   ]
  },
  {
   "cell_type": "code",
   "execution_count": 51,
   "metadata": {},
   "outputs": [
    {
     "data": {
      "text/plain": [
       "False    5698\n",
       "dtype: int64"
      ]
     },
     "execution_count": 51,
     "metadata": {},
     "output_type": "execute_result"
    }
   ],
   "source": [
    "dups4 = merge4.duplicated(subset='movie')\n",
    "dups4.value_counts()"
   ]
  },
  {
   "cell_type": "code",
   "execution_count": 52,
   "metadata": {},
   "outputs": [],
   "source": [
    "merge5 = pd.merge(df_imbd5, merge4, how='right', on='tconst')"
   ]
  },
  {
   "cell_type": "code",
   "execution_count": 53,
   "metadata": {},
   "outputs": [
    {
     "name": "stdout",
     "output_type": "stream",
     "text": [
      "<class 'pandas.core.frame.DataFrame'>\n",
      "Int64Index: 26271 entries, 0 to 26270\n",
      "Data columns (total 37 columns):\n",
      "tconst               23013 non-null object\n",
      "ordering_x           23009 non-null float64\n",
      "nconst               23009 non-null object\n",
      "category             23009 non-null object\n",
      "job                  7824 non-null object\n",
      "characters           9272 non-null object\n",
      "primary_title        23013 non-null object\n",
      "original_title_x     23013 non-null object\n",
      "start_year           23013 non-null float64\n",
      "runtime_minutes      21945 non-null float64\n",
      "genres               22959 non-null object\n",
      "Unnamed: 0           17764 non-null float64\n",
      "genre_ids            17764 non-null object\n",
      "id_x                 17764 non-null float64\n",
      "original_language    17764 non-null object\n",
      "original_title_y     17764 non-null object\n",
      "popularity           17764 non-null float64\n",
      "release_date_x       17764 non-null object\n",
      "title                26271 non-null object\n",
      "vote_average         17764 non-null float64\n",
      "vote_count           17764 non-null float64\n",
      "directors            22980 non-null object\n",
      "writers              22325 non-null object\n",
      "title_id             23013 non-null object\n",
      "ordering_y           23013 non-null float64\n",
      "region               16286 non-null object\n",
      "language             2486 non-null object\n",
      "types                14550 non-null object\n",
      "attributes           780 non-null object\n",
      "is_original_title    23013 non-null float64\n",
      "id_y                 26271 non-null int64\n",
      "release_date_y       26271 non-null datetime64[ns]\n",
      "movie                26271 non-null object\n",
      "production_budget    26271 non-null int64\n",
      "domestic_gross       26271 non-null int64\n",
      "worldwide_gross      26271 non-null int64\n",
      "_merge               26271 non-null category\n",
      "dtypes: category(1), datetime64[ns](1), float64(10), int64(4), object(21)\n",
      "memory usage: 7.4+ MB\n"
     ]
    }
   ],
   "source": [
    "merge5.info()"
   ]
  },
  {
   "cell_type": "code",
   "execution_count": 54,
   "metadata": {},
   "outputs": [
    {
     "data": {
      "text/plain": [
       "True     20573\n",
       "False     5698\n",
       "dtype: int64"
      ]
     },
     "execution_count": 54,
     "metadata": {},
     "output_type": "execute_result"
    }
   ],
   "source": [
    "dups5 = merge5.duplicated(subset='movie')\n",
    "dups5.value_counts()"
   ]
  },
  {
   "cell_type": "code",
   "execution_count": 55,
   "metadata": {},
   "outputs": [
    {
     "name": "stdout",
     "output_type": "stream",
     "text": [
      "<class 'pandas.core.frame.DataFrame'>\n",
      "Int64Index: 5698 entries, 0 to 26270\n",
      "Data columns (total 37 columns):\n",
      "tconst               2440 non-null object\n",
      "ordering_x           2436 non-null float64\n",
      "nconst               2436 non-null object\n",
      "category             2436 non-null object\n",
      "job                  1005 non-null object\n",
      "characters           350 non-null object\n",
      "primary_title        2440 non-null object\n",
      "original_title_x     2440 non-null object\n",
      "start_year           2440 non-null float64\n",
      "runtime_minutes      2305 non-null float64\n",
      "genres               2431 non-null object\n",
      "Unnamed: 0           1924 non-null float64\n",
      "genre_ids            1924 non-null object\n",
      "id_x                 1924 non-null float64\n",
      "original_language    1924 non-null object\n",
      "original_title_y     1924 non-null object\n",
      "popularity           1924 non-null float64\n",
      "release_date_x       1924 non-null object\n",
      "title                5698 non-null object\n",
      "vote_average         1924 non-null float64\n",
      "vote_count           1924 non-null float64\n",
      "directors            2428 non-null object\n",
      "writers              2332 non-null object\n",
      "title_id             2440 non-null object\n",
      "ordering_y           2440 non-null float64\n",
      "region               1752 non-null object\n",
      "language             260 non-null object\n",
      "types                1487 non-null object\n",
      "attributes           81 non-null object\n",
      "is_original_title    2440 non-null float64\n",
      "id_y                 5698 non-null int64\n",
      "release_date_y       5698 non-null datetime64[ns]\n",
      "movie                5698 non-null object\n",
      "production_budget    5698 non-null int64\n",
      "domestic_gross       5698 non-null int64\n",
      "worldwide_gross      5698 non-null int64\n",
      "_merge               5698 non-null category\n",
      "dtypes: category(1), datetime64[ns](1), float64(10), int64(4), object(21)\n",
      "memory usage: 1.6+ MB\n"
     ]
    }
   ],
   "source": [
    "merge5_unique = merge5.drop_duplicates(subset='movie')\n",
    "merge5_unique.info()"
   ]
  },
  {
   "cell_type": "code",
   "execution_count": 56,
   "metadata": {},
   "outputs": [],
   "source": [
    "merge6 = pd.merge(imdb_alive, merge5_unique, how='right', on='nconst')"
   ]
  },
  {
   "cell_type": "code",
   "execution_count": 57,
   "metadata": {},
   "outputs": [
    {
     "name": "stdout",
     "output_type": "stream",
     "text": [
      "<class 'pandas.core.frame.DataFrame'>\n",
      "Int64Index: 5698 entries, 0 to 5697\n",
      "Data columns (total 42 columns):\n",
      "nconst                2436 non-null object\n",
      "primary_name          2388 non-null object\n",
      "birth_year            904 non-null float64\n",
      "death_year            0 non-null float64\n",
      "primary_profession    2355 non-null object\n",
      "known_for_titles      2381 non-null object\n",
      "tconst                2440 non-null object\n",
      "ordering_x            2436 non-null float64\n",
      "category              2436 non-null object\n",
      "job                   1005 non-null object\n",
      "characters            350 non-null object\n",
      "primary_title         2440 non-null object\n",
      "original_title_x      2440 non-null object\n",
      "start_year            2440 non-null float64\n",
      "runtime_minutes       2305 non-null float64\n",
      "genres                2431 non-null object\n",
      "Unnamed: 0            1924 non-null float64\n",
      "genre_ids             1924 non-null object\n",
      "id_x                  1924 non-null float64\n",
      "original_language     1924 non-null object\n",
      "original_title_y      1924 non-null object\n",
      "popularity            1924 non-null float64\n",
      "release_date_x        1924 non-null object\n",
      "title                 5698 non-null object\n",
      "vote_average          1924 non-null float64\n",
      "vote_count            1924 non-null float64\n",
      "directors             2428 non-null object\n",
      "writers               2332 non-null object\n",
      "title_id              2440 non-null object\n",
      "ordering_y            2440 non-null float64\n",
      "region                1752 non-null object\n",
      "language              260 non-null object\n",
      "types                 1487 non-null object\n",
      "attributes            81 non-null object\n",
      "is_original_title     2440 non-null float64\n",
      "id_y                  5698 non-null int64\n",
      "release_date_y        5698 non-null datetime64[ns]\n",
      "movie                 5698 non-null object\n",
      "production_budget     5698 non-null int64\n",
      "domestic_gross        5698 non-null int64\n",
      "worldwide_gross       5698 non-null int64\n",
      "_merge                5698 non-null category\n",
      "dtypes: category(1), datetime64[ns](1), float64(12), int64(4), object(24)\n",
      "memory usage: 1.8+ MB\n"
     ]
    }
   ],
   "source": [
    "merge6.info()"
   ]
  },
  {
   "cell_type": "code",
   "execution_count": 58,
   "metadata": {},
   "outputs": [
    {
     "data": {
      "text/plain": [
       "False    5698\n",
       "dtype: int64"
      ]
     },
     "execution_count": 58,
     "metadata": {},
     "output_type": "execute_result"
    }
   ],
   "source": [
    "dups6 = merge6.duplicated(subset='movie')\n",
    "dups6.value_counts()"
   ]
  },
  {
   "cell_type": "code",
   "execution_count": 59,
   "metadata": {},
   "outputs": [],
   "source": [
    "merge7 = pd.merge(df_imbd6, merge6, how='right', on='tconst')"
   ]
  },
  {
   "cell_type": "code",
   "execution_count": 60,
   "metadata": {},
   "outputs": [
    {
     "name": "stdout",
     "output_type": "stream",
     "text": [
      "<class 'pandas.core.frame.DataFrame'>\n",
      "Int64Index: 5698 entries, 0 to 5697\n",
      "Data columns (total 44 columns):\n",
      "tconst                2440 non-null object\n",
      "averagerating         2235 non-null float64\n",
      "numvotes              2235 non-null float64\n",
      "nconst                2436 non-null object\n",
      "primary_name          2388 non-null object\n",
      "birth_year            904 non-null float64\n",
      "death_year            0 non-null float64\n",
      "primary_profession    2355 non-null object\n",
      "known_for_titles      2381 non-null object\n",
      "ordering_x            2436 non-null float64\n",
      "category              2436 non-null object\n",
      "job                   1005 non-null object\n",
      "characters            350 non-null object\n",
      "primary_title         2440 non-null object\n",
      "original_title_x      2440 non-null object\n",
      "start_year            2440 non-null float64\n",
      "runtime_minutes       2305 non-null float64\n",
      "genres                2431 non-null object\n",
      "Unnamed: 0            1924 non-null float64\n",
      "genre_ids             1924 non-null object\n",
      "id_x                  1924 non-null float64\n",
      "original_language     1924 non-null object\n",
      "original_title_y      1924 non-null object\n",
      "popularity            1924 non-null float64\n",
      "release_date_x        1924 non-null object\n",
      "title                 5698 non-null object\n",
      "vote_average          1924 non-null float64\n",
      "vote_count            1924 non-null float64\n",
      "directors             2428 non-null object\n",
      "writers               2332 non-null object\n",
      "title_id              2440 non-null object\n",
      "ordering_y            2440 non-null float64\n",
      "region                1752 non-null object\n",
      "language              260 non-null object\n",
      "types                 1487 non-null object\n",
      "attributes            81 non-null object\n",
      "is_original_title     2440 non-null float64\n",
      "id_y                  5698 non-null int64\n",
      "release_date_y        5698 non-null datetime64[ns]\n",
      "movie                 5698 non-null object\n",
      "production_budget     5698 non-null int64\n",
      "domestic_gross        5698 non-null int64\n",
      "worldwide_gross       5698 non-null int64\n",
      "_merge                5698 non-null category\n",
      "dtypes: category(1), datetime64[ns](1), float64(14), int64(4), object(24)\n",
      "memory usage: 1.9+ MB\n"
     ]
    }
   ],
   "source": [
    "merge7.info()"
   ]
  },
  {
   "cell_type": "code",
   "execution_count": 61,
   "metadata": {},
   "outputs": [
    {
     "data": {
      "text/plain": [
       "False    5698\n",
       "dtype: int64"
      ]
     },
     "execution_count": 61,
     "metadata": {},
     "output_type": "execute_result"
    }
   ],
   "source": [
    "dups7 = merge7.duplicated(subset='movie')\n",
    "dups7.value_counts()"
   ]
  },
  {
   "cell_type": "code",
   "execution_count": 62,
   "metadata": {},
   "outputs": [
    {
     "data": {
      "text/html": [
       "<div>\n",
       "<style scoped>\n",
       "    .dataframe tbody tr th:only-of-type {\n",
       "        vertical-align: middle;\n",
       "    }\n",
       "\n",
       "    .dataframe tbody tr th {\n",
       "        vertical-align: top;\n",
       "    }\n",
       "\n",
       "    .dataframe thead th {\n",
       "        text-align: right;\n",
       "    }\n",
       "</style>\n",
       "<table border=\"1\" class=\"dataframe\">\n",
       "  <thead>\n",
       "    <tr style=\"text-align: right;\">\n",
       "      <th></th>\n",
       "      <th>tconst</th>\n",
       "      <th>averagerating</th>\n",
       "      <th>numvotes</th>\n",
       "      <th>nconst</th>\n",
       "      <th>primary_name</th>\n",
       "      <th>birth_year</th>\n",
       "      <th>death_year</th>\n",
       "      <th>primary_profession</th>\n",
       "      <th>known_for_titles</th>\n",
       "      <th>ordering_x</th>\n",
       "      <th>...</th>\n",
       "      <th>types</th>\n",
       "      <th>attributes</th>\n",
       "      <th>is_original_title</th>\n",
       "      <th>id_y</th>\n",
       "      <th>release_date_y</th>\n",
       "      <th>movie</th>\n",
       "      <th>production_budget</th>\n",
       "      <th>domestic_gross</th>\n",
       "      <th>worldwide_gross</th>\n",
       "      <th>_merge</th>\n",
       "    </tr>\n",
       "  </thead>\n",
       "  <tbody>\n",
       "    <tr>\n",
       "      <td>0</td>\n",
       "      <td>tt1043726</td>\n",
       "      <td>4.2</td>\n",
       "      <td>50352.0</td>\n",
       "      <td>nm0503600</td>\n",
       "      <td>NaN</td>\n",
       "      <td>NaN</td>\n",
       "      <td>NaN</td>\n",
       "      <td>NaN</td>\n",
       "      <td>NaN</td>\n",
       "      <td>10.0</td>\n",
       "      <td>...</td>\n",
       "      <td>original</td>\n",
       "      <td>NaN</td>\n",
       "      <td>1.0</td>\n",
       "      <td>42</td>\n",
       "      <td>2014-01-10</td>\n",
       "      <td>The Legend of Hercules</td>\n",
       "      <td>70000000</td>\n",
       "      <td>18848538</td>\n",
       "      <td>58953319</td>\n",
       "      <td>both</td>\n",
       "    </tr>\n",
       "    <tr>\n",
       "      <td>1</td>\n",
       "      <td>tt1094666</td>\n",
       "      <td>7.0</td>\n",
       "      <td>1613.0</td>\n",
       "      <td>nm1961889</td>\n",
       "      <td>Jacquelyn Karambelas</td>\n",
       "      <td>NaN</td>\n",
       "      <td>NaN</td>\n",
       "      <td>editorial_department,visual_effects,editor</td>\n",
       "      <td>tt0870111,tt0808151,tt5232792,tt3874544</td>\n",
       "      <td>10.0</td>\n",
       "      <td>...</td>\n",
       "      <td>imdbDisplay</td>\n",
       "      <td>NaN</td>\n",
       "      <td>0.0</td>\n",
       "      <td>50</td>\n",
       "      <td>2008-03-21</td>\n",
       "      <td>The Hammer</td>\n",
       "      <td>850000</td>\n",
       "      <td>442638</td>\n",
       "      <td>442638</td>\n",
       "      <td>both</td>\n",
       "    </tr>\n",
       "    <tr>\n",
       "      <td>2</td>\n",
       "      <td>tt1171222</td>\n",
       "      <td>5.1</td>\n",
       "      <td>8296.0</td>\n",
       "      <td>nm0002969</td>\n",
       "      <td>Dina Lipton</td>\n",
       "      <td>NaN</td>\n",
       "      <td>NaN</td>\n",
       "      <td>production_designer,art_department,art_director</td>\n",
       "      <td>tt0113749,tt1333125,tt0206314,tt0124198</td>\n",
       "      <td>10.0</td>\n",
       "      <td>...</td>\n",
       "      <td>original</td>\n",
       "      <td>NaN</td>\n",
       "      <td>1.0</td>\n",
       "      <td>38</td>\n",
       "      <td>2013-09-27</td>\n",
       "      <td>Baggage Claim</td>\n",
       "      <td>8500000</td>\n",
       "      <td>21569509</td>\n",
       "      <td>22885836</td>\n",
       "      <td>both</td>\n",
       "    </tr>\n",
       "    <tr>\n",
       "      <td>3</td>\n",
       "      <td>tt1210166</td>\n",
       "      <td>7.6</td>\n",
       "      <td>326657.0</td>\n",
       "      <td>nm0006894</td>\n",
       "      <td>Michael De Luca</td>\n",
       "      <td>1965.0</td>\n",
       "      <td>NaN</td>\n",
       "      <td>producer,miscellaneous,writer</td>\n",
       "      <td>tt0765010,tt1535109,tt1210166,tt1285016</td>\n",
       "      <td>10.0</td>\n",
       "      <td>...</td>\n",
       "      <td>imdbDisplay</td>\n",
       "      <td>NaN</td>\n",
       "      <td>0.0</td>\n",
       "      <td>15</td>\n",
       "      <td>2011-09-23</td>\n",
       "      <td>Moneyball</td>\n",
       "      <td>50000000</td>\n",
       "      <td>75605492</td>\n",
       "      <td>111300835</td>\n",
       "      <td>both</td>\n",
       "    </tr>\n",
       "    <tr>\n",
       "      <td>4</td>\n",
       "      <td>tt1212419</td>\n",
       "      <td>6.5</td>\n",
       "      <td>87288.0</td>\n",
       "      <td>nm0185088</td>\n",
       "      <td>Joel Cox</td>\n",
       "      <td>1942.0</td>\n",
       "      <td>NaN</td>\n",
       "      <td>editor,editorial_department,music_department</td>\n",
       "      <td>tt2179136,tt0418689,tt0327056,tt0105695</td>\n",
       "      <td>10.0</td>\n",
       "      <td>...</td>\n",
       "      <td>original</td>\n",
       "      <td>NaN</td>\n",
       "      <td>1.0</td>\n",
       "      <td>61</td>\n",
       "      <td>2010-10-15</td>\n",
       "      <td>Hereafter</td>\n",
       "      <td>50000000</td>\n",
       "      <td>32746941</td>\n",
       "      <td>108660270</td>\n",
       "      <td>both</td>\n",
       "    </tr>\n",
       "  </tbody>\n",
       "</table>\n",
       "<p>5 rows × 44 columns</p>\n",
       "</div>"
      ],
      "text/plain": [
       "      tconst  averagerating  numvotes     nconst          primary_name  \\\n",
       "0  tt1043726            4.2   50352.0  nm0503600                   NaN   \n",
       "1  tt1094666            7.0    1613.0  nm1961889  Jacquelyn Karambelas   \n",
       "2  tt1171222            5.1    8296.0  nm0002969           Dina Lipton   \n",
       "3  tt1210166            7.6  326657.0  nm0006894       Michael De Luca   \n",
       "4  tt1212419            6.5   87288.0  nm0185088              Joel Cox   \n",
       "\n",
       "   birth_year  death_year                               primary_profession  \\\n",
       "0         NaN         NaN                                              NaN   \n",
       "1         NaN         NaN       editorial_department,visual_effects,editor   \n",
       "2         NaN         NaN  production_designer,art_department,art_director   \n",
       "3      1965.0         NaN                    producer,miscellaneous,writer   \n",
       "4      1942.0         NaN     editor,editorial_department,music_department   \n",
       "\n",
       "                          known_for_titles  ordering_x  ...        types  \\\n",
       "0                                      NaN        10.0  ...     original   \n",
       "1  tt0870111,tt0808151,tt5232792,tt3874544        10.0  ...  imdbDisplay   \n",
       "2  tt0113749,tt1333125,tt0206314,tt0124198        10.0  ...     original   \n",
       "3  tt0765010,tt1535109,tt1210166,tt1285016        10.0  ...  imdbDisplay   \n",
       "4  tt2179136,tt0418689,tt0327056,tt0105695        10.0  ...     original   \n",
       "\n",
       "  attributes is_original_title id_y release_date_y                   movie  \\\n",
       "0        NaN               1.0   42     2014-01-10  The Legend of Hercules   \n",
       "1        NaN               0.0   50     2008-03-21              The Hammer   \n",
       "2        NaN               1.0   38     2013-09-27           Baggage Claim   \n",
       "3        NaN               0.0   15     2011-09-23               Moneyball   \n",
       "4        NaN               1.0   61     2010-10-15               Hereafter   \n",
       "\n",
       "   production_budget domestic_gross  worldwide_gross _merge  \n",
       "0           70000000       18848538         58953319   both  \n",
       "1             850000         442638           442638   both  \n",
       "2            8500000       21569509         22885836   both  \n",
       "3           50000000       75605492        111300835   both  \n",
       "4           50000000       32746941        108660270   both  \n",
       "\n",
       "[5 rows x 44 columns]"
      ]
     },
     "execution_count": 62,
     "metadata": {},
     "output_type": "execute_result"
    }
   ],
   "source": [
    "merge7.head()"
   ]
  },
  {
   "cell_type": "code",
   "execution_count": 63,
   "metadata": {},
   "outputs": [],
   "source": [
    "df = merge7.copy()"
   ]
  },
  {
   "cell_type": "code",
   "execution_count": 64,
   "metadata": {},
   "outputs": [
    {
     "data": {
      "text/plain": [
       "<matplotlib.axes._subplots.AxesSubplot at 0x1cca812c908>"
      ]
     },
     "execution_count": 64,
     "metadata": {},
     "output_type": "execute_result"
    },
    {
     "data": {
      "image/png": "[encoded data removed]",
      "text/plain": [
       "<Figure size 1800x720 with 2 Axes>"
      ]
     },
     "metadata": {
      "needs_background": "light"
     },
     "output_type": "display_data"
    }
   ],
   "source": [
    "msno.matrix(df)"
   ]
  },
  {
   "cell_type": "code",
   "execution_count": 65,
   "metadata": {},
   "outputs": [],
   "source": [
    "drop_cols = ['birth_year', 'death_year', 'job','characters', \n",
    "             'original_title_x', 'id_x', 'language','attributes', 'is_original_title']"
   ]
  },
  {
   "cell_type": "code",
   "execution_count": 66,
   "metadata": {},
   "outputs": [],
   "source": [
    "df.drop(drop_cols, axis=1, inplace=True)"
   ]
  },
  {
   "cell_type": "code",
   "execution_count": 67,
   "metadata": {},
   "outputs": [
    {
     "data": {
      "text/plain": [
       "<matplotlib.axes._subplots.AxesSubplot at 0x1ccbd77c780>"
      ]
     },
     "execution_count": 67,
     "metadata": {},
     "output_type": "execute_result"
    },
    {
     "data": {
      "image/png": "[encoded data removed]",
      "text/plain": [
       "<Figure size 1800x720 with 2 Axes>"
      ]
     },
     "metadata": {
      "needs_background": "light"
     },
     "output_type": "display_data"
    }
   ],
   "source": [
    "msno.matrix(df)"
   ]
  },
  {
   "cell_type": "code",
   "execution_count": 68,
   "metadata": {},
   "outputs": [
    {
     "data": {
      "text/plain": [
       "<matplotlib.axes._subplots.AxesSubplot at 0x1ccbdafdf60>"
      ]
     },
     "execution_count": 68,
     "metadata": {},
     "output_type": "execute_result"
    },
    {
     "data": {
      "image/png": "[encoded data removed]",
      "text/plain": [
       "<Figure size 1728x720 with 3 Axes>"
      ]
     },
     "metadata": {
      "needs_background": "light"
     },
     "output_type": "display_data"
    }
   ],
   "source": [
    "msno.bar(df) ['category', 'primary_name', 'start_year','genres', 'averagerating','numvotes','runtime_minutes','movie', 'production_budget', 'domestic_gross', 'worldwide_gross']"
   ]
  },
  {
   "cell_type": "code",
   "execution_count": 69,
   "metadata": {},
   "outputs": [],
   "source": [
    "df['domestic_ROI'] = (df['domestic_gross'] - df['production_budget']) / df['production_budget']"
   ]
  },
  {
   "cell_type": "code",
   "execution_count": 70,
   "metadata": {},
   "outputs": [],
   "source": [
    "df['intl_gross'] = (df['worldwide_gross'] - df['domestic_gross'])"
   ]
  },
  {
   "cell_type": "code",
   "execution_count": 71,
   "metadata": {},
   "outputs": [],
   "source": [
    "df['intl_ROI'] = (df['intl_gross'] - df['production_budget']) / df['production_budget']"
   ]
  },
  {
   "cell_type": "code",
   "execution_count": 72,
   "metadata": {},
   "outputs": [
    {
     "data": {
      "text/plain": [
       "<seaborn.axisgrid.FacetGrid at 0x1ccc2b86828>"
      ]
     },
     "execution_count": 72,
     "metadata": {},
     "output_type": "execute_result"
    },
    {
     "data": {
      "image/png": "[encoded data removed]",
      "text/plain": [
       "<Figure size 360x360 with 1 Axes>"
      ]
     },
     "metadata": {
      "needs_background": "light"
     },
     "output_type": "display_data"
    }
   ],
   "source": [
    "sns.relplot(x='production_budget', y='domestic_ROI', data=df, kind='scatter')"
   ]
  },
  {
   "cell_type": "code",
   "execution_count": 74,
   "metadata": {},
   "outputs": [
    {
     "data": {
      "text/html": [
       "<div>\n",
       "<style scoped>\n",
       "    .dataframe tbody tr th:only-of-type {\n",
       "        vertical-align: middle;\n",
       "    }\n",
       "\n",
       "    .dataframe tbody tr th {\n",
       "        vertical-align: top;\n",
       "    }\n",
       "\n",
       "    .dataframe thead th {\n",
       "        text-align: right;\n",
       "    }\n",
       "</style>\n",
       "<table border=\"1\" class=\"dataframe\">\n",
       "  <thead>\n",
       "    <tr style=\"text-align: right;\">\n",
       "      <th></th>\n",
       "      <th>tconst</th>\n",
       "      <th>averagerating</th>\n",
       "      <th>numvotes</th>\n",
       "      <th>nconst</th>\n",
       "      <th>primary_name</th>\n",
       "      <th>primary_profession</th>\n",
       "      <th>known_for_titles</th>\n",
       "      <th>ordering_x</th>\n",
       "      <th>category</th>\n",
       "      <th>primary_title</th>\n",
       "      <th>...</th>\n",
       "      <th>id_y</th>\n",
       "      <th>release_date_y</th>\n",
       "      <th>movie</th>\n",
       "      <th>production_budget</th>\n",
       "      <th>domestic_gross</th>\n",
       "      <th>worldwide_gross</th>\n",
       "      <th>_merge</th>\n",
       "      <th>domestic_ROI</th>\n",
       "      <th>intl_gross</th>\n",
       "      <th>intl_ROI</th>\n",
       "    </tr>\n",
       "  </thead>\n",
       "  <tbody>\n",
       "    <tr>\n",
       "      <td>5677</td>\n",
       "      <td>NaN</td>\n",
       "      <td>NaN</td>\n",
       "      <td>NaN</td>\n",
       "      <td>NaN</td>\n",
       "      <td>NaN</td>\n",
       "      <td>NaN</td>\n",
       "      <td>NaN</td>\n",
       "      <td>NaN</td>\n",
       "      <td>NaN</td>\n",
       "      <td>NaN</td>\n",
       "      <td>...</td>\n",
       "      <td>46</td>\n",
       "      <td>1972-06-30</td>\n",
       "      <td>Deep Throat</td>\n",
       "      <td>25000</td>\n",
       "      <td>45000000</td>\n",
       "      <td>45000000</td>\n",
       "      <td>right_only</td>\n",
       "      <td>1799.000000</td>\n",
       "      <td>0</td>\n",
       "      <td>-1.000000</td>\n",
       "    </tr>\n",
       "    <tr>\n",
       "      <td>5691</td>\n",
       "      <td>NaN</td>\n",
       "      <td>NaN</td>\n",
       "      <td>NaN</td>\n",
       "      <td>NaN</td>\n",
       "      <td>NaN</td>\n",
       "      <td>NaN</td>\n",
       "      <td>NaN</td>\n",
       "      <td>NaN</td>\n",
       "      <td>NaN</td>\n",
       "      <td>NaN</td>\n",
       "      <td>...</td>\n",
       "      <td>74</td>\n",
       "      <td>1993-02-26</td>\n",
       "      <td>El Mariachi</td>\n",
       "      <td>7000</td>\n",
       "      <td>2040920</td>\n",
       "      <td>2041928</td>\n",
       "      <td>right_only</td>\n",
       "      <td>290.560000</td>\n",
       "      <td>1008</td>\n",
       "      <td>-0.856000</td>\n",
       "    </tr>\n",
       "    <tr>\n",
       "      <td>5546</td>\n",
       "      <td>NaN</td>\n",
       "      <td>NaN</td>\n",
       "      <td>NaN</td>\n",
       "      <td>NaN</td>\n",
       "      <td>NaN</td>\n",
       "      <td>NaN</td>\n",
       "      <td>NaN</td>\n",
       "      <td>NaN</td>\n",
       "      <td>NaN</td>\n",
       "      <td>NaN</td>\n",
       "      <td>...</td>\n",
       "      <td>93</td>\n",
       "      <td>2009-09-25</td>\n",
       "      <td>Paranormal Activity</td>\n",
       "      <td>450000</td>\n",
       "      <td>107918810</td>\n",
       "      <td>194183034</td>\n",
       "      <td>right_only</td>\n",
       "      <td>238.819578</td>\n",
       "      <td>86264224</td>\n",
       "      <td>190.698276</td>\n",
       "    </tr>\n",
       "    <tr>\n",
       "      <td>5509</td>\n",
       "      <td>NaN</td>\n",
       "      <td>NaN</td>\n",
       "      <td>NaN</td>\n",
       "      <td>NaN</td>\n",
       "      <td>NaN</td>\n",
       "      <td>NaN</td>\n",
       "      <td>NaN</td>\n",
       "      <td>NaN</td>\n",
       "      <td>NaN</td>\n",
       "      <td>NaN</td>\n",
       "      <td>...</td>\n",
       "      <td>7</td>\n",
       "      <td>1999-07-14</td>\n",
       "      <td>The Blair Witch Project</td>\n",
       "      <td>600000</td>\n",
       "      <td>140539099</td>\n",
       "      <td>248300000</td>\n",
       "      <td>right_only</td>\n",
       "      <td>233.231832</td>\n",
       "      <td>107760901</td>\n",
       "      <td>178.601502</td>\n",
       "    </tr>\n",
       "    <tr>\n",
       "      <td>1540</td>\n",
       "      <td>tt2309260</td>\n",
       "      <td>4.2</td>\n",
       "      <td>17763.0</td>\n",
       "      <td>nm2146601</td>\n",
       "      <td>Dean Schnider</td>\n",
       "      <td>miscellaneous,producer,manager</td>\n",
       "      <td>tt1028532,tt0944947,tt1535438,tt2309260</td>\n",
       "      <td>10.0</td>\n",
       "      <td>producer</td>\n",
       "      <td>The Gallows</td>\n",
       "      <td>...</td>\n",
       "      <td>80</td>\n",
       "      <td>2015-07-10</td>\n",
       "      <td>The Gallows</td>\n",
       "      <td>100000</td>\n",
       "      <td>22764410</td>\n",
       "      <td>41656474</td>\n",
       "      <td>both</td>\n",
       "      <td>226.644100</td>\n",
       "      <td>18892064</td>\n",
       "      <td>187.920640</td>\n",
       "    </tr>\n",
       "  </tbody>\n",
       "</table>\n",
       "<p>5 rows × 38 columns</p>\n",
       "</div>"
      ],
      "text/plain": [
       "         tconst  averagerating  numvotes     nconst   primary_name  \\\n",
       "5677        NaN            NaN       NaN        NaN            NaN   \n",
       "5691        NaN            NaN       NaN        NaN            NaN   \n",
       "5546        NaN            NaN       NaN        NaN            NaN   \n",
       "5509        NaN            NaN       NaN        NaN            NaN   \n",
       "1540  tt2309260            4.2   17763.0  nm2146601  Dean Schnider   \n",
       "\n",
       "                  primary_profession                         known_for_titles  \\\n",
       "5677                             NaN                                      NaN   \n",
       "5691                             NaN                                      NaN   \n",
       "5546                             NaN                                      NaN   \n",
       "5509                             NaN                                      NaN   \n",
       "1540  miscellaneous,producer,manager  tt1028532,tt0944947,tt1535438,tt2309260   \n",
       "\n",
       "      ordering_x  category primary_title  ...  id_y  release_date_y  \\\n",
       "5677         NaN       NaN           NaN  ...    46      1972-06-30   \n",
       "5691         NaN       NaN           NaN  ...    74      1993-02-26   \n",
       "5546         NaN       NaN           NaN  ...    93      2009-09-25   \n",
       "5509         NaN       NaN           NaN  ...     7      1999-07-14   \n",
       "1540        10.0  producer   The Gallows  ...    80      2015-07-10   \n",
       "\n",
       "                        movie  production_budget domestic_gross  \\\n",
       "5677              Deep Throat              25000       45000000   \n",
       "5691              El Mariachi               7000        2040920   \n",
       "5546      Paranormal Activity             450000      107918810   \n",
       "5509  The Blair Witch Project             600000      140539099   \n",
       "1540              The Gallows             100000       22764410   \n",
       "\n",
       "     worldwide_gross      _merge  domestic_ROI intl_gross    intl_ROI  \n",
       "5677        45000000  right_only   1799.000000          0   -1.000000  \n",
       "5691         2041928  right_only    290.560000       1008   -0.856000  \n",
       "5546       194183034  right_only    238.819578   86264224  190.698276  \n",
       "5509       248300000  right_only    233.231832  107760901  178.601502  \n",
       "1540        41656474        both    226.644100   18892064  187.920640  \n",
       "\n",
       "[5 rows x 38 columns]"
      ]
     },
     "execution_count": 74,
     "metadata": {},
     "output_type": "execute_result"
    }
   ],
   "source": [
    "df.sort_values('domestic_ROI', ascending=False).head()"
   ]
  },
  {
   "cell_type": "code",
   "execution_count": 86,
   "metadata": {},
   "outputs": [],
   "source": [
    "df_ROI = df.loc[:, ['genres','movie','production_budget','domestic_ROI', 'intl_ROI']]"
   ]
  },
  {
   "cell_type": "code",
   "execution_count": 87,
   "metadata": {},
   "outputs": [
    {
     "data": {
      "text/html": [
       "<div>\n",
       "<style scoped>\n",
       "    .dataframe tbody tr th:only-of-type {\n",
       "        vertical-align: middle;\n",
       "    }\n",
       "\n",
       "    .dataframe tbody tr th {\n",
       "        vertical-align: top;\n",
       "    }\n",
       "\n",
       "    .dataframe thead th {\n",
       "        text-align: right;\n",
       "    }\n",
       "</style>\n",
       "<table border=\"1\" class=\"dataframe\">\n",
       "  <thead>\n",
       "    <tr style=\"text-align: right;\">\n",
       "      <th></th>\n",
       "      <th>genres</th>\n",
       "      <th>movie</th>\n",
       "      <th>production_budget</th>\n",
       "      <th>domestic_ROI</th>\n",
       "      <th>intl_ROI</th>\n",
       "    </tr>\n",
       "  </thead>\n",
       "  <tbody>\n",
       "    <tr>\n",
       "      <td>5677</td>\n",
       "      <td>NaN</td>\n",
       "      <td>Deep Throat</td>\n",
       "      <td>25000</td>\n",
       "      <td>1799.000000</td>\n",
       "      <td>-1.000000</td>\n",
       "    </tr>\n",
       "    <tr>\n",
       "      <td>5691</td>\n",
       "      <td>NaN</td>\n",
       "      <td>El Mariachi</td>\n",
       "      <td>7000</td>\n",
       "      <td>290.560000</td>\n",
       "      <td>-0.856000</td>\n",
       "    </tr>\n",
       "    <tr>\n",
       "      <td>5546</td>\n",
       "      <td>NaN</td>\n",
       "      <td>Paranormal Activity</td>\n",
       "      <td>450000</td>\n",
       "      <td>238.819578</td>\n",
       "      <td>190.698276</td>\n",
       "    </tr>\n",
       "    <tr>\n",
       "      <td>5509</td>\n",
       "      <td>NaN</td>\n",
       "      <td>The Blair Witch Project</td>\n",
       "      <td>600000</td>\n",
       "      <td>233.231832</td>\n",
       "      <td>178.601502</td>\n",
       "    </tr>\n",
       "    <tr>\n",
       "      <td>1540</td>\n",
       "      <td>Horror,Mystery,Thriller</td>\n",
       "      <td>The Gallows</td>\n",
       "      <td>100000</td>\n",
       "      <td>226.644100</td>\n",
       "      <td>187.920640</td>\n",
       "    </tr>\n",
       "  </tbody>\n",
       "</table>\n",
       "</div>"
      ],
      "text/plain": [
       "                       genres                    movie  production_budget  \\\n",
       "5677                      NaN              Deep Throat              25000   \n",
       "5691                      NaN              El Mariachi               7000   \n",
       "5546                      NaN      Paranormal Activity             450000   \n",
       "5509                      NaN  The Blair Witch Project             600000   \n",
       "1540  Horror,Mystery,Thriller              The Gallows             100000   \n",
       "\n",
       "      domestic_ROI    intl_ROI  \n",
       "5677   1799.000000   -1.000000  \n",
       "5691    290.560000   -0.856000  \n",
       "5546    238.819578  190.698276  \n",
       "5509    233.231832  178.601502  \n",
       "1540    226.644100  187.920640  "
      ]
     },
     "execution_count": 87,
     "metadata": {},
     "output_type": "execute_result"
    }
   ],
   "source": [
    "df_ROI.sort_values('domestic_ROI', ascending=False).head()"
   ]
  },
  {
   "cell_type": "code",
   "execution_count": 88,
   "metadata": {},
   "outputs": [],
   "source": [
    "df_ROI = df_ROI.set_index('movie')"
   ]
  },
  {
   "cell_type": "code",
   "execution_count": 92,
   "metadata": {},
   "outputs": [],
   "source": [
    "df_ROI.drop('Deep Throat', inplace=True)"
   ]
  },
  {
   "cell_type": "code",
   "execution_count": 93,
   "metadata": {},
   "outputs": [
    {
     "data": {
      "text/html": [
       "<div>\n",
       "<style scoped>\n",
       "    .dataframe tbody tr th:only-of-type {\n",
       "        vertical-align: middle;\n",
       "    }\n",
       "\n",
       "    .dataframe tbody tr th {\n",
       "        vertical-align: top;\n",
       "    }\n",
       "\n",
       "    .dataframe thead th {\n",
       "        text-align: right;\n",
       "    }\n",
       "</style>\n",
       "<table border=\"1\" class=\"dataframe\">\n",
       "  <thead>\n",
       "    <tr style=\"text-align: right;\">\n",
       "      <th></th>\n",
       "      <th>genres</th>\n",
       "      <th>production_budget</th>\n",
       "      <th>domestic_ROI</th>\n",
       "      <th>intl_ROI</th>\n",
       "    </tr>\n",
       "    <tr>\n",
       "      <th>movie</th>\n",
       "      <th></th>\n",
       "      <th></th>\n",
       "      <th></th>\n",
       "      <th></th>\n",
       "    </tr>\n",
       "  </thead>\n",
       "  <tbody>\n",
       "    <tr>\n",
       "      <td>El Mariachi</td>\n",
       "      <td>NaN</td>\n",
       "      <td>7000</td>\n",
       "      <td>290.560000</td>\n",
       "      <td>-0.856000</td>\n",
       "    </tr>\n",
       "    <tr>\n",
       "      <td>Paranormal Activity</td>\n",
       "      <td>NaN</td>\n",
       "      <td>450000</td>\n",
       "      <td>238.819578</td>\n",
       "      <td>190.698276</td>\n",
       "    </tr>\n",
       "    <tr>\n",
       "      <td>The Blair Witch Project</td>\n",
       "      <td>NaN</td>\n",
       "      <td>600000</td>\n",
       "      <td>233.231832</td>\n",
       "      <td>178.601502</td>\n",
       "    </tr>\n",
       "    <tr>\n",
       "      <td>The Gallows</td>\n",
       "      <td>Horror,Mystery,Thriller</td>\n",
       "      <td>100000</td>\n",
       "      <td>226.644100</td>\n",
       "      <td>187.920640</td>\n",
       "    </tr>\n",
       "    <tr>\n",
       "      <td>The Brothers McMullen</td>\n",
       "      <td>NaN</td>\n",
       "      <td>50000</td>\n",
       "      <td>207.530120</td>\n",
       "      <td>-1.000000</td>\n",
       "    </tr>\n",
       "  </tbody>\n",
       "</table>\n",
       "</div>"
      ],
      "text/plain": [
       "                                          genres  production_budget  \\\n",
       "movie                                                                 \n",
       "El Mariachi                                  NaN               7000   \n",
       "Paranormal Activity                          NaN             450000   \n",
       "The Blair Witch Project                      NaN             600000   \n",
       "The Gallows              Horror,Mystery,Thriller             100000   \n",
       "The Brothers McMullen                        NaN              50000   \n",
       "\n",
       "                         domestic_ROI    intl_ROI  \n",
       "movie                                              \n",
       "El Mariachi                290.560000   -0.856000  \n",
       "Paranormal Activity        238.819578  190.698276  \n",
       "The Blair Witch Project    233.231832  178.601502  \n",
       "The Gallows                226.644100  187.920640  \n",
       "The Brothers McMullen      207.530120   -1.000000  "
      ]
     },
     "execution_count": 93,
     "metadata": {},
     "output_type": "execute_result"
    }
   ],
   "source": [
    "df_ROI.sort_values('domestic_ROI',ascending=False).head()"
   ]
  },
  {
   "cell_type": "code",
   "execution_count": 109,
   "metadata": {},
   "outputs": [
    {
     "data": {
      "text/plain": [
       "<seaborn.axisgrid.FacetGrid at 0x1ccc4ec0d68>"
      ]
     },
     "execution_count": 109,
     "metadata": {},
     "output_type": "execute_result"
    },
    {
     "data": {
      "image/png": "[encoded data removed]",
      "text/plain": [
       "<Figure size 360x360 with 1 Axes>"
      ]
     },
     "metadata": {
      "needs_background": "light"
     },
     "output_type": "display_data"
    }
   ],
   "source": [
    "sns.relplot(x='production_budget', y='domestic_ROI', data=df_ROI, kind='scatter')\n",
    "#removed outlier, plot shows no correlation between budget size and ROI"
   ]
  },
  {
   "cell_type": "code",
   "execution_count": 110,
   "metadata": {},
   "outputs": [
    {
     "data": {
      "text/plain": [
       "<seaborn.axisgrid.FacetGrid at 0x1ccc4f23860>"
      ]
     },
     "execution_count": 110,
     "metadata": {},
     "output_type": "execute_result"
    },
    {
     "data": {
      "image/png": "[encoded data removed]",
      "text/plain": [
       "<Figure size 360x360 with 1 Axes>"
      ]
     },
     "metadata": {
      "needs_background": "light"
     },
     "output_type": "display_data"
    }
   ],
   "source": [
    "sns.relplot(x='production_budget', y='intl_ROI', data=df_ROI, kind='scatter')"
   ]
  },
  {
   "cell_type": "code",
   "execution_count": 113,
   "metadata": {},
   "outputs": [
    {
     "data": {
      "text/html": [
       "<div>\n",
       "<style scoped>\n",
       "    .dataframe tbody tr th:only-of-type {\n",
       "        vertical-align: middle;\n",
       "    }\n",
       "\n",
       "    .dataframe tbody tr th {\n",
       "        vertical-align: top;\n",
       "    }\n",
       "\n",
       "    .dataframe thead th {\n",
       "        text-align: right;\n",
       "    }\n",
       "</style>\n",
       "<table border=\"1\" class=\"dataframe\">\n",
       "  <thead>\n",
       "    <tr style=\"text-align: right;\">\n",
       "      <th></th>\n",
       "      <th>genres</th>\n",
       "      <th>production_budget</th>\n",
       "      <th>domestic_ROI</th>\n",
       "      <th>intl_ROI</th>\n",
       "      <th>domestic_ROI_log</th>\n",
       "    </tr>\n",
       "    <tr>\n",
       "      <th>movie</th>\n",
       "      <th></th>\n",
       "      <th></th>\n",
       "      <th></th>\n",
       "      <th></th>\n",
       "      <th></th>\n",
       "    </tr>\n",
       "  </thead>\n",
       "  <tbody>\n",
       "    <tr>\n",
       "      <td>Mad Max</td>\n",
       "      <td>NaN</td>\n",
       "      <td>200000</td>\n",
       "      <td>42.750000</td>\n",
       "      <td>454.000000</td>\n",
       "      <td>3.755369</td>\n",
       "    </tr>\n",
       "    <tr>\n",
       "      <td>Bambi</td>\n",
       "      <td>Biography,Documentary</td>\n",
       "      <td>858000</td>\n",
       "      <td>118.810023</td>\n",
       "      <td>191.544289</td>\n",
       "      <td>4.777526</td>\n",
       "    </tr>\n",
       "    <tr>\n",
       "      <td>Paranormal Activity</td>\n",
       "      <td>NaN</td>\n",
       "      <td>450000</td>\n",
       "      <td>238.819578</td>\n",
       "      <td>190.698276</td>\n",
       "      <td>5.475708</td>\n",
       "    </tr>\n",
       "    <tr>\n",
       "      <td>The Gallows</td>\n",
       "      <td>Horror,Mystery,Thriller</td>\n",
       "      <td>100000</td>\n",
       "      <td>226.644100</td>\n",
       "      <td>187.920640</td>\n",
       "      <td>5.423381</td>\n",
       "    </tr>\n",
       "    <tr>\n",
       "      <td>The Blair Witch Project</td>\n",
       "      <td>NaN</td>\n",
       "      <td>600000</td>\n",
       "      <td>233.231832</td>\n",
       "      <td>178.601502</td>\n",
       "      <td>5.452033</td>\n",
       "    </tr>\n",
       "  </tbody>\n",
       "</table>\n",
       "</div>"
      ],
      "text/plain": [
       "                                          genres  production_budget  \\\n",
       "movie                                                                 \n",
       "Mad Max                                      NaN             200000   \n",
       "Bambi                      Biography,Documentary             858000   \n",
       "Paranormal Activity                          NaN             450000   \n",
       "The Gallows              Horror,Mystery,Thriller             100000   \n",
       "The Blair Witch Project                      NaN             600000   \n",
       "\n",
       "                         domestic_ROI    intl_ROI  domestic_ROI_log  \n",
       "movie                                                                \n",
       "Mad Max                     42.750000  454.000000          3.755369  \n",
       "Bambi                      118.810023  191.544289          4.777526  \n",
       "Paranormal Activity        238.819578  190.698276          5.475708  \n",
       "The Gallows                226.644100  187.920640          5.423381  \n",
       "The Blair Witch Project    233.231832  178.601502          5.452033  "
      ]
     },
     "execution_count": 113,
     "metadata": {},
     "output_type": "execute_result"
    }
   ],
   "source": [
    "df_ROI.sort_values('intl_ROI', ascending=False).head()"
   ]
  },
  {
   "cell_type": "code",
   "execution_count": 115,
   "metadata": {},
   "outputs": [],
   "source": [
    "df_ROI.drop('domestic_ROI_log', axis=1, inplace=True)"
   ]
  },
  {
   "cell_type": "code",
   "execution_count": 116,
   "metadata": {},
   "outputs": [],
   "source": [
    "df_ROI['production_budget_log'] = np.log(df_ROI['production_budget'])"
   ]
  },
  {
   "cell_type": "code",
   "execution_count": 118,
   "metadata": {},
   "outputs": [
    {
     "data": {
      "text/html": [
       "<div>\n",
       "<style scoped>\n",
       "    .dataframe tbody tr th:only-of-type {\n",
       "        vertical-align: middle;\n",
       "    }\n",
       "\n",
       "    .dataframe tbody tr th {\n",
       "        vertical-align: top;\n",
       "    }\n",
       "\n",
       "    .dataframe thead th {\n",
       "        text-align: right;\n",
       "    }\n",
       "</style>\n",
       "<table border=\"1\" class=\"dataframe\">\n",
       "  <thead>\n",
       "    <tr style=\"text-align: right;\">\n",
       "      <th></th>\n",
       "      <th>genres</th>\n",
       "      <th>production_budget</th>\n",
       "      <th>domestic_ROI</th>\n",
       "      <th>intl_ROI</th>\n",
       "      <th>production_budget_log</th>\n",
       "    </tr>\n",
       "    <tr>\n",
       "      <th>movie</th>\n",
       "      <th></th>\n",
       "      <th></th>\n",
       "      <th></th>\n",
       "      <th></th>\n",
       "      <th></th>\n",
       "    </tr>\n",
       "  </thead>\n",
       "  <tbody>\n",
       "    <tr>\n",
       "      <td>The Legend of Hercules</td>\n",
       "      <td>Action,Adventure,Fantasy</td>\n",
       "      <td>70000000</td>\n",
       "      <td>-0.730735</td>\n",
       "      <td>-0.427075</td>\n",
       "      <td>18.064006</td>\n",
       "    </tr>\n",
       "    <tr>\n",
       "      <td>The Hammer</td>\n",
       "      <td>Biography,Drama,Sport</td>\n",
       "      <td>850000</td>\n",
       "      <td>-0.479249</td>\n",
       "      <td>-1.000000</td>\n",
       "      <td>13.652992</td>\n",
       "    </tr>\n",
       "    <tr>\n",
       "      <td>Baggage Claim</td>\n",
       "      <td>Comedy</td>\n",
       "      <td>8500000</td>\n",
       "      <td>1.537589</td>\n",
       "      <td>-0.845138</td>\n",
       "      <td>15.955577</td>\n",
       "    </tr>\n",
       "    <tr>\n",
       "      <td>Moneyball</td>\n",
       "      <td>Biography,Drama,Sport</td>\n",
       "      <td>50000000</td>\n",
       "      <td>0.512110</td>\n",
       "      <td>-0.286093</td>\n",
       "      <td>17.727534</td>\n",
       "    </tr>\n",
       "    <tr>\n",
       "      <td>Hereafter</td>\n",
       "      <td>Drama,Fantasy,Romance</td>\n",
       "      <td>50000000</td>\n",
       "      <td>-0.345061</td>\n",
       "      <td>0.518267</td>\n",
       "      <td>17.727534</td>\n",
       "    </tr>\n",
       "  </tbody>\n",
       "</table>\n",
       "</div>"
      ],
      "text/plain": [
       "                                          genres  production_budget  \\\n",
       "movie                                                                 \n",
       "The Legend of Hercules  Action,Adventure,Fantasy           70000000   \n",
       "The Hammer                 Biography,Drama,Sport             850000   \n",
       "Baggage Claim                             Comedy            8500000   \n",
       "Moneyball                  Biography,Drama,Sport           50000000   \n",
       "Hereafter                  Drama,Fantasy,Romance           50000000   \n",
       "\n",
       "                        domestic_ROI  intl_ROI  production_budget_log  \n",
       "movie                                                                  \n",
       "The Legend of Hercules     -0.730735 -0.427075              18.064006  \n",
       "The Hammer                 -0.479249 -1.000000              13.652992  \n",
       "Baggage Claim               1.537589 -0.845138              15.955577  \n",
       "Moneyball                   0.512110 -0.286093              17.727534  \n",
       "Hereafter                  -0.345061  0.518267              17.727534  "
      ]
     },
     "execution_count": 118,
     "metadata": {},
     "output_type": "execute_result"
    }
   ],
   "source": [
    "df_ROI.head()"
   ]
  },
  {
   "cell_type": "code",
   "execution_count": 119,
   "metadata": {},
   "outputs": [
    {
     "data": {
      "text/plain": [
       "<seaborn.axisgrid.FacetGrid at 0x1ccc3ddf320>"
      ]
     },
     "execution_count": 119,
     "metadata": {},
     "output_type": "execute_result"
    },
    {
     "data": {
      "image/png": "[encoded data removed]",
      "text/plain": [
       "<Figure size 360x360 with 1 Axes>"
      ]
     },
     "metadata": {
      "needs_background": "light"
     },
     "output_type": "display_data"
    }
   ],
   "source": [
    "sns.relplot(x='production_budget_log', y='domestic_ROI', data=df_ROI, kind='scatter')"
   ]
  },
  {
   "cell_type": "code",
   "execution_count": 117,
   "metadata": {
    "scrolled": true
   },
   "outputs": [
    {
     "data": {
      "text/plain": [
       "<seaborn.axisgrid.FacetGrid at 0x1ccc4db6d30>"
      ]
     },
     "execution_count": 117,
     "metadata": {},
     "output_type": "execute_result"
    },
    {
     "data": {
      "image/png": "[encoded data removed]",
      "text/plain": [
       "<Figure size 360x360 with 1 Axes>"
      ]
     },
     "metadata": {
      "needs_background": "light"
     },
     "output_type": "display_data"
    }
   ],
   "source": [
    "sns.relplot(x='production_budget_log', y='intl_ROI', data=df_ROI, kind='scatter')"
   ]
  },
  {
   "cell_type": "code",
   "execution_count": 124,
   "metadata": {},
   "outputs": [
    {
     "data": {
      "text/plain": [
       "<seaborn.axisgrid.FacetGrid at 0x1ccc4dd8940>"
      ]
     },
     "execution_count": 124,
     "metadata": {},
     "output_type": "execute_result"
    },
    {
     "data": {
      "image/png": "[encoded data removed]",
      "text/plain": [
       "<Figure size 360x360 with 1 Axes>"
      ]
     },
     "metadata": {
      "needs_background": "light"
     },
     "output_type": "display_data"
    }
   ],
   "source": [
    "sns.catplot(y='production_budget', data=df_ROI, kind='box')"
   ]
  },
  {
   "cell_type": "code",
   "execution_count": 125,
   "metadata": {},
   "outputs": [
    {
     "data": {
      "text/html": [
       "<div>\n",
       "<style scoped>\n",
       "    .dataframe tbody tr th:only-of-type {\n",
       "        vertical-align: middle;\n",
       "    }\n",
       "\n",
       "    .dataframe tbody tr th {\n",
       "        vertical-align: top;\n",
       "    }\n",
       "\n",
       "    .dataframe thead th {\n",
       "        text-align: right;\n",
       "    }\n",
       "</style>\n",
       "<table border=\"1\" class=\"dataframe\">\n",
       "  <thead>\n",
       "    <tr style=\"text-align: right;\">\n",
       "      <th></th>\n",
       "      <th>production_budget</th>\n",
       "      <th>domestic_ROI</th>\n",
       "      <th>intl_ROI</th>\n",
       "      <th>production_budget_log</th>\n",
       "    </tr>\n",
       "  </thead>\n",
       "  <tbody>\n",
       "    <tr>\n",
       "      <td>count</td>\n",
       "      <td>5.697000e+03</td>\n",
       "      <td>5697.000000</td>\n",
       "      <td>5697.000000</td>\n",
       "      <td>5697.000000</td>\n",
       "    </tr>\n",
       "    <tr>\n",
       "      <td>mean</td>\n",
       "      <td>3.181981e+07</td>\n",
       "      <td>1.516621</td>\n",
       "      <td>0.741498</td>\n",
       "      <td>16.328577</td>\n",
       "    </tr>\n",
       "    <tr>\n",
       "      <td>std</td>\n",
       "      <td>4.197892e+07</td>\n",
       "      <td>10.407707</td>\n",
       "      <td>9.070512</td>\n",
       "      <td>1.724688</td>\n",
       "    </tr>\n",
       "    <tr>\n",
       "      <td>min</td>\n",
       "      <td>1.100000e+03</td>\n",
       "      <td>-1.000000</td>\n",
       "      <td>-1.000000</td>\n",
       "      <td>7.003065</td>\n",
       "    </tr>\n",
       "    <tr>\n",
       "      <td>25%</td>\n",
       "      <td>5.000000e+06</td>\n",
       "      <td>-0.795814</td>\n",
       "      <td>-1.000000</td>\n",
       "      <td>15.424948</td>\n",
       "    </tr>\n",
       "    <tr>\n",
       "      <td>50%</td>\n",
       "      <td>1.700000e+07</td>\n",
       "      <td>-0.126556</td>\n",
       "      <td>-0.582759</td>\n",
       "      <td>16.648724</td>\n",
       "    </tr>\n",
       "    <tr>\n",
       "      <td>75%</td>\n",
       "      <td>4.000000e+07</td>\n",
       "      <td>1.034641</td>\n",
       "      <td>0.600000</td>\n",
       "      <td>17.504390</td>\n",
       "    </tr>\n",
       "    <tr>\n",
       "      <td>max</td>\n",
       "      <td>4.250000e+08</td>\n",
       "      <td>290.560000</td>\n",
       "      <td>454.000000</td>\n",
       "      <td>19.867600</td>\n",
       "    </tr>\n",
       "  </tbody>\n",
       "</table>\n",
       "</div>"
      ],
      "text/plain": [
       "       production_budget  domestic_ROI     intl_ROI  production_budget_log\n",
       "count       5.697000e+03   5697.000000  5697.000000            5697.000000\n",
       "mean        3.181981e+07      1.516621     0.741498              16.328577\n",
       "std         4.197892e+07     10.407707     9.070512               1.724688\n",
       "min         1.100000e+03     -1.000000    -1.000000               7.003065\n",
       "25%         5.000000e+06     -0.795814    -1.000000              15.424948\n",
       "50%         1.700000e+07     -0.126556    -0.582759              16.648724\n",
       "75%         4.000000e+07      1.034641     0.600000              17.504390\n",
       "max         4.250000e+08    290.560000   454.000000              19.867600"
      ]
     },
     "execution_count": 125,
     "metadata": {},
     "output_type": "execute_result"
    }
   ],
   "source": [
    "df_ROI.describe()"
   ]
  },
  {
   "cell_type": "code",
   "execution_count": 126,
   "metadata": {},
   "outputs": [],
   "source": [
    "Q1 = df['production_budget'].quantile(0.25)\n",
    "Q3 = df['production_budget'].quantile(0.75)"
   ]
  },
  {
   "cell_type": "code",
   "execution_count": 131,
   "metadata": {},
   "outputs": [],
   "source": [
    "IQR = (df_ROI['production_budget'] >= Q1) & (df_ROI['production_budget'] <= Q3)"
   ]
  },
  {
   "cell_type": "code",
   "execution_count": 134,
   "metadata": {},
   "outputs": [],
   "source": [
    "df_IQR = df_ROI[IQR]"
   ]
  },
  {
   "cell_type": "code",
   "execution_count": 135,
   "metadata": {},
   "outputs": [
    {
     "data": {
      "text/html": [
       "<div>\n",
       "<style scoped>\n",
       "    .dataframe tbody tr th:only-of-type {\n",
       "        vertical-align: middle;\n",
       "    }\n",
       "\n",
       "    .dataframe tbody tr th {\n",
       "        vertical-align: top;\n",
       "    }\n",
       "\n",
       "    .dataframe thead th {\n",
       "        text-align: right;\n",
       "    }\n",
       "</style>\n",
       "<table border=\"1\" class=\"dataframe\">\n",
       "  <thead>\n",
       "    <tr style=\"text-align: right;\">\n",
       "      <th></th>\n",
       "      <th>genres</th>\n",
       "      <th>production_budget</th>\n",
       "      <th>domestic_ROI</th>\n",
       "      <th>intl_ROI</th>\n",
       "      <th>production_budget_log</th>\n",
       "    </tr>\n",
       "    <tr>\n",
       "      <th>movie</th>\n",
       "      <th></th>\n",
       "      <th></th>\n",
       "      <th></th>\n",
       "      <th></th>\n",
       "      <th></th>\n",
       "    </tr>\n",
       "  </thead>\n",
       "  <tbody>\n",
       "    <tr>\n",
       "      <td>Baggage Claim</td>\n",
       "      <td>Comedy</td>\n",
       "      <td>8500000</td>\n",
       "      <td>1.537589</td>\n",
       "      <td>-0.845138</td>\n",
       "      <td>15.955577</td>\n",
       "    </tr>\n",
       "    <tr>\n",
       "      <td>Aloha</td>\n",
       "      <td>Comedy,Drama,Romance</td>\n",
       "      <td>37000000</td>\n",
       "      <td>-0.431026</td>\n",
       "      <td>-0.882836</td>\n",
       "      <td>17.426428</td>\n",
       "    </tr>\n",
       "    <tr>\n",
       "      <td>Hawaii</td>\n",
       "      <td>Comedy,Drama,Romance</td>\n",
       "      <td>15000000</td>\n",
       "      <td>1.304148</td>\n",
       "      <td>-1.000000</td>\n",
       "      <td>16.523561</td>\n",
       "    </tr>\n",
       "    <tr>\n",
       "      <td>Don't Be Afraid of the Dark</td>\n",
       "      <td>Fantasy,Horror,Thriller</td>\n",
       "      <td>25000000</td>\n",
       "      <td>-0.038133</td>\n",
       "      <td>-0.396810</td>\n",
       "      <td>17.034386</td>\n",
       "    </tr>\n",
       "    <tr>\n",
       "      <td>Going the Distance</td>\n",
       "      <td>Comedy,Romance</td>\n",
       "      <td>32000000</td>\n",
       "      <td>-0.443616</td>\n",
       "      <td>-0.193760</td>\n",
       "      <td>17.281246</td>\n",
       "    </tr>\n",
       "  </tbody>\n",
       "</table>\n",
       "</div>"
      ],
      "text/plain": [
       "                                              genres  production_budget  \\\n",
       "movie                                                                     \n",
       "Baggage Claim                                 Comedy            8500000   \n",
       "Aloha                           Comedy,Drama,Romance           37000000   \n",
       "Hawaii                          Comedy,Drama,Romance           15000000   \n",
       "Don't Be Afraid of the Dark  Fantasy,Horror,Thriller           25000000   \n",
       "Going the Distance                    Comedy,Romance           32000000   \n",
       "\n",
       "                             domestic_ROI  intl_ROI  production_budget_log  \n",
       "movie                                                                       \n",
       "Baggage Claim                    1.537589 -0.845138              15.955577  \n",
       "Aloha                           -0.431026 -0.882836              17.426428  \n",
       "Hawaii                           1.304148 -1.000000              16.523561  \n",
       "Don't Be Afraid of the Dark     -0.038133 -0.396810              17.034386  \n",
       "Going the Distance              -0.443616 -0.193760              17.281246  "
      ]
     },
     "execution_count": 135,
     "metadata": {},
     "output_type": "execute_result"
    }
   ],
   "source": [
    "df_IQR.head()"
   ]
  },
  {
   "cell_type": "code",
   "execution_count": 140,
   "metadata": {},
   "outputs": [
    {
     "data": {
      "text/plain": [
       "<seaborn.axisgrid.FacetGrid at 0x1ccc5a30a90>"
      ]
     },
     "execution_count": 140,
     "metadata": {},
     "output_type": "execute_result"
    },
    {
     "data": {
      "image/png": "[encoded data removed]",
      "text/plain": [
       "<Figure size 360x360 with 1 Axes>"
      ]
     },
     "metadata": {
      "needs_background": "light"
     },
     "output_type": "display_data"
    }
   ],
   "source": [
    "sns.catplot(y='production_budget', data=df_IQR, kind='box')"
   ]
  },
  {
   "cell_type": "code",
   "execution_count": 144,
   "metadata": {},
   "outputs": [
    {
     "data": {
      "text/plain": [
       "<seaborn.axisgrid.FacetGrid at 0x1ccc5ecb1d0>"
      ]
     },
     "execution_count": 144,
     "metadata": {},
     "output_type": "execute_result"
    },
    {
     "data": {
      "image/png": "[encoded data removed]",
      "text/plain": [
       "<Figure size 360x360 with 1 Axes>"
      ]
     },
     "metadata": {
      "needs_background": "light"
     },
     "output_type": "display_data"
    }
   ],
   "source": [
    "sns.relplot(x='production_budget', y='domestic_ROI', data=df_IQR, kind='scatter')"
   ]
  },
  {
   "cell_type": "code",
   "execution_count": 143,
   "metadata": {},
   "outputs": [
    {
     "data": {
      "text/plain": [
       "<seaborn.axisgrid.FacetGrid at 0x1ccc5d10470>"
      ]
     },
     "execution_count": 143,
     "metadata": {},
     "output_type": "execute_result"
    },
    {
     "data": {
      "image/png": "[encoded data removed]",
      "text/plain": [
       "<Figure size 360x360 with 1 Axes>"
      ]
     },
     "metadata": {
      "needs_background": "light"
     },
     "output_type": "display_data"
    }
   ],
   "source": [
    "sns.relplot(x='production_budget', y='intl_ROI', data=df_IQR, kind='scatter')"
   ]
  },
  {
   "cell_type": "code",
   "execution_count": 145,
   "metadata": {},
   "outputs": [
    {
     "data": {
      "text/plain": [
       "Index(['tconst', 'averagerating', 'numvotes', 'nconst', 'primary_name',\n",
       "       'primary_profession', 'known_for_titles', 'ordering_x', 'category',\n",
       "       'primary_title', 'start_year', 'runtime_minutes', 'genres',\n",
       "       'Unnamed: 0', 'genre_ids', 'original_language', 'original_title_y',\n",
       "       'popularity', 'release_date_x', 'title', 'vote_average', 'vote_count',\n",
       "       'directors', 'writers', 'title_id', 'ordering_y', 'region', 'types',\n",
       "       'id_y', 'release_date_y', 'movie', 'production_budget',\n",
       "       'domestic_gross', 'worldwide_gross', '_merge', 'domestic_ROI',\n",
       "       'intl_gross', 'intl_ROI'],\n",
       "      dtype='object')"
      ]
     },
     "execution_count": 145,
     "metadata": {},
     "output_type": "execute_result"
    }
   ],
   "source": [
    "df.columns"
   ]
  },
  {
   "cell_type": "code",
   "execution_count": 148,
   "metadata": {},
   "outputs": [
    {
     "data": {
      "text/plain": [
       "0               producer\n",
       "1                 editor\n",
       "2    production_designer\n",
       "3               producer\n",
       "4                 editor\n",
       "Name: category, dtype: object"
      ]
     },
     "execution_count": 148,
     "metadata": {},
     "output_type": "execute_result"
    }
   ],
   "source": [
    "df['category'].head()"
   ]
  },
  {
   "cell_type": "code",
   "execution_count": 149,
   "metadata": {},
   "outputs": [],
   "source": [
    "df_features = df.loc[:,['category', 'primary_name', 'start_year','genres', 'averagerating','numvotes','runtime_minutes','movie', 'production_budget', 'domestic_gross', 'worldwide_gross']]"
   ]
  },
  {
   "cell_type": "code",
   "execution_count": 150,
   "metadata": {},
   "outputs": [
    {
     "data": {
      "text/html": [
       "<div>\n",
       "<style scoped>\n",
       "    .dataframe tbody tr th:only-of-type {\n",
       "        vertical-align: middle;\n",
       "    }\n",
       "\n",
       "    .dataframe tbody tr th {\n",
       "        vertical-align: top;\n",
       "    }\n",
       "\n",
       "    .dataframe thead th {\n",
       "        text-align: right;\n",
       "    }\n",
       "</style>\n",
       "<table border=\"1\" class=\"dataframe\">\n",
       "  <thead>\n",
       "    <tr style=\"text-align: right;\">\n",
       "      <th></th>\n",
       "      <th>category</th>\n",
       "      <th>primary_name</th>\n",
       "      <th>start_year</th>\n",
       "      <th>genres</th>\n",
       "      <th>averagerating</th>\n",
       "      <th>numvotes</th>\n",
       "      <th>runtime_minutes</th>\n",
       "      <th>movie</th>\n",
       "      <th>production_budget</th>\n",
       "      <th>domestic_gross</th>\n",
       "      <th>worldwide_gross</th>\n",
       "    </tr>\n",
       "  </thead>\n",
       "  <tbody>\n",
       "    <tr>\n",
       "      <td>0</td>\n",
       "      <td>producer</td>\n",
       "      <td>NaN</td>\n",
       "      <td>2014.0</td>\n",
       "      <td>Action,Adventure,Fantasy</td>\n",
       "      <td>4.2</td>\n",
       "      <td>50352.0</td>\n",
       "      <td>99.0</td>\n",
       "      <td>The Legend of Hercules</td>\n",
       "      <td>70000000</td>\n",
       "      <td>18848538</td>\n",
       "      <td>58953319</td>\n",
       "    </tr>\n",
       "    <tr>\n",
       "      <td>1</td>\n",
       "      <td>editor</td>\n",
       "      <td>Jacquelyn Karambelas</td>\n",
       "      <td>2010.0</td>\n",
       "      <td>Biography,Drama,Sport</td>\n",
       "      <td>7.0</td>\n",
       "      <td>1613.0</td>\n",
       "      <td>108.0</td>\n",
       "      <td>The Hammer</td>\n",
       "      <td>850000</td>\n",
       "      <td>442638</td>\n",
       "      <td>442638</td>\n",
       "    </tr>\n",
       "    <tr>\n",
       "      <td>2</td>\n",
       "      <td>production_designer</td>\n",
       "      <td>Dina Lipton</td>\n",
       "      <td>2013.0</td>\n",
       "      <td>Comedy</td>\n",
       "      <td>5.1</td>\n",
       "      <td>8296.0</td>\n",
       "      <td>96.0</td>\n",
       "      <td>Baggage Claim</td>\n",
       "      <td>8500000</td>\n",
       "      <td>21569509</td>\n",
       "      <td>22885836</td>\n",
       "    </tr>\n",
       "    <tr>\n",
       "      <td>3</td>\n",
       "      <td>producer</td>\n",
       "      <td>Michael De Luca</td>\n",
       "      <td>2011.0</td>\n",
       "      <td>Biography,Drama,Sport</td>\n",
       "      <td>7.6</td>\n",
       "      <td>326657.0</td>\n",
       "      <td>133.0</td>\n",
       "      <td>Moneyball</td>\n",
       "      <td>50000000</td>\n",
       "      <td>75605492</td>\n",
       "      <td>111300835</td>\n",
       "    </tr>\n",
       "    <tr>\n",
       "      <td>4</td>\n",
       "      <td>editor</td>\n",
       "      <td>Joel Cox</td>\n",
       "      <td>2010.0</td>\n",
       "      <td>Drama,Fantasy,Romance</td>\n",
       "      <td>6.5</td>\n",
       "      <td>87288.0</td>\n",
       "      <td>129.0</td>\n",
       "      <td>Hereafter</td>\n",
       "      <td>50000000</td>\n",
       "      <td>32746941</td>\n",
       "      <td>108660270</td>\n",
       "    </tr>\n",
       "  </tbody>\n",
       "</table>\n",
       "</div>"
      ],
      "text/plain": [
       "              category          primary_name  start_year  \\\n",
       "0             producer                   NaN      2014.0   \n",
       "1               editor  Jacquelyn Karambelas      2010.0   \n",
       "2  production_designer           Dina Lipton      2013.0   \n",
       "3             producer       Michael De Luca      2011.0   \n",
       "4               editor              Joel Cox      2010.0   \n",
       "\n",
       "                     genres  averagerating  numvotes  runtime_minutes  \\\n",
       "0  Action,Adventure,Fantasy            4.2   50352.0             99.0   \n",
       "1     Biography,Drama,Sport            7.0    1613.0            108.0   \n",
       "2                    Comedy            5.1    8296.0             96.0   \n",
       "3     Biography,Drama,Sport            7.6  326657.0            133.0   \n",
       "4     Drama,Fantasy,Romance            6.5   87288.0            129.0   \n",
       "\n",
       "                    movie  production_budget  domestic_gross  worldwide_gross  \n",
       "0  The Legend of Hercules           70000000        18848538         58953319  \n",
       "1              The Hammer             850000          442638           442638  \n",
       "2           Baggage Claim            8500000        21569509         22885836  \n",
       "3               Moneyball           50000000        75605492        111300835  \n",
       "4               Hereafter           50000000        32746941        108660270  "
      ]
     },
     "execution_count": 150,
     "metadata": {},
     "output_type": "execute_result"
    }
   ],
   "source": [
    "df_features.head()"
   ]
  },
  {
   "cell_type": "code",
   "execution_count": 153,
   "metadata": {},
   "outputs": [
    {
     "name": "stdout",
     "output_type": "stream",
     "text": [
      "<class 'pandas.core.frame.DataFrame'>\n",
      "Int64Index: 5698 entries, 0 to 5697\n",
      "Data columns (total 11 columns):\n",
      "category             2436 non-null object\n",
      "primary_name         2388 non-null object\n",
      "start_year           2440 non-null float64\n",
      "genres               2431 non-null object\n",
      "averagerating        2235 non-null float64\n",
      "numvotes             2235 non-null float64\n",
      "runtime_minutes      2305 non-null float64\n",
      "movie                5698 non-null object\n",
      "production_budget    5698 non-null int64\n",
      "domestic_gross       5698 non-null int64\n",
      "worldwide_gross      5698 non-null int64\n",
      "dtypes: float64(4), int64(3), object(4)\n",
      "memory usage: 694.2+ KB\n"
     ]
    }
   ],
   "source": [
    "df_features.info()"
   ]
  },
  {
   "cell_type": "code",
   "execution_count": 160,
   "metadata": {},
   "outputs": [],
   "source": [
    "df_features['genres'].fillna(value='unknown', inplace=True)"
   ]
  },
  {
   "cell_type": "code",
   "execution_count": 161,
   "metadata": {},
   "outputs": [
    {
     "data": {
      "text/plain": [
       "unknown                      3267\n",
       "Drama                         204\n",
       "Comedy                         87\n",
       "Documentary                    80\n",
       "Comedy,Drama                   80\n",
       "                             ... \n",
       "Action,Crime,Documentary        1\n",
       "Biography,Documentary,War       1\n",
       "Drama,Fantasy,Music             1\n",
       "Action,Biography,Comedy         1\n",
       "Animation,Family                1\n",
       "Name: genres, Length: 308, dtype: int64"
      ]
     },
     "execution_count": 161,
     "metadata": {},
     "output_type": "execute_result"
    }
   ],
   "source": [
    "df_features['genres'].value_counts()"
   ]
  },
  {
   "cell_type": "code",
   "execution_count": 162,
   "metadata": {
    "scrolled": true
   },
   "outputs": [],
   "source": [
    "df_features['genres'] = df_features['genres'].apply(lambda x: split(x))"
   ]
  },
  {
   "cell_type": "code",
   "execution_count": 163,
   "metadata": {},
   "outputs": [
    {
     "data": {
      "text/plain": [
       "0    [Action, Adventure, Fantasy]\n",
       "1       [Biography, Drama, Sport]\n",
       "2                        [Comedy]\n",
       "3       [Biography, Drama, Sport]\n",
       "4       [Drama, Fantasy, Romance]\n",
       "Name: genres, dtype: object"
      ]
     },
     "execution_count": 163,
     "metadata": {},
     "output_type": "execute_result"
    }
   ],
   "source": [
    "df_features.genres.head()"
   ]
  },
  {
   "cell_type": "code",
   "execution_count": 165,
   "metadata": {},
   "outputs": [
    {
     "data": {
      "text/plain": [
       "'Action'"
      ]
     },
     "execution_count": 165,
     "metadata": {},
     "output_type": "execute_result"
    }
   ],
   "source": [
    "def primary(x):\n",
    "    return x[0]\n",
    "primary(df_features['genres'][0])"
   ]
  },
  {
   "cell_type": "code",
   "execution_count": 166,
   "metadata": {},
   "outputs": [],
   "source": [
    "df_features['primary_genres'] = df_features['genres'].apply(lambda x: primary(x))"
   ]
  },
  {
   "cell_type": "code",
   "execution_count": 168,
   "metadata": {},
   "outputs": [
    {
     "data": {
      "text/plain": [
       "unknown        3267\n",
       "Action          581\n",
       "Drama           520\n",
       "Comedy          454\n",
       "Adventure       224\n",
       "Biography       153\n",
       "Horror          149\n",
       "Crime           127\n",
       "Documentary     118\n",
       "Thriller         34\n",
       "Animation        20\n",
       "Sci-Fi           11\n",
       "Mystery          10\n",
       "Fantasy           8\n",
       "Family            8\n",
       "Romance           5\n",
       "Music             4\n",
       "Musical           3\n",
       "Western           1\n",
       "War               1\n",
       "Name: primary_genres, dtype: int64"
      ]
     },
     "execution_count": 168,
     "metadata": {},
     "output_type": "execute_result"
    }
   ],
   "source": [
    "df_features.primary_genres.value_counts()"
   ]
  },
  {
   "cell_type": "code",
   "execution_count": 171,
   "metadata": {},
   "outputs": [
    {
     "data": {
      "text/plain": [
       "<seaborn.axisgrid.FacetGrid at 0x1ccc6a74400>"
      ]
     },
     "execution_count": 171,
     "metadata": {},
     "output_type": "execute_result"
    },
    {
     "data": {
      "image/png": "[encoded data removed]",
      "text/plain": [
       "<Figure size 360x360 with 1 Axes>"
      ]
     },
     "metadata": {
      "needs_background": "light"
     },
     "output_type": "display_data"
    }
   ],
   "source": [
    "sns.catplot(x='primary_genres', data=df_features, kind='count')"
   ]
  },
  {
   "cell_type": "code",
   "execution_count": 202,
   "metadata": {},
   "outputs": [],
   "source": [
    "genre = df_features.copy()"
   ]
  },
  {
   "cell_type": "code",
   "execution_count": 203,
   "metadata": {},
   "outputs": [],
   "source": [
    "mask = genre['primary_genres'] == 'unknown'"
   ]
  },
  {
   "cell_type": "code",
   "execution_count": 204,
   "metadata": {},
   "outputs": [],
   "source": [
    "primary_genre = genre[~mask]"
   ]
  },
  {
   "cell_type": "code",
   "execution_count": 181,
   "metadata": {},
   "outputs": [
    {
     "data": {
      "text/plain": [
       "<seaborn.axisgrid.FacetGrid at 0x1ccc5f7f080>"
      ]
     },
     "execution_count": 181,
     "metadata": {},
     "output_type": "execute_result"
    },
    {
     "data": {
      "image/png": "[encoded data removed]",
      "text/plain": [
       "<Figure size 360x360 with 1 Axes>"
      ]
     },
     "metadata": {
      "needs_background": "light"
     },
     "output_type": "display_data"
    }
   ],
   "source": [
    "g = sns.catplot(x='primary_genres', data=primary_genre, kind='count')\n",
    "g.set_xticklabels(rotation = 90)"
   ]
  },
  {
   "cell_type": "code",
   "execution_count": 246,
   "metadata": {},
   "outputs": [
    {
     "data": {
      "text/plain": [
       "<seaborn.axisgrid.FacetGrid at 0x1ccc69db828>"
      ]
     },
     "execution_count": 246,
     "metadata": {},
     "output_type": "execute_result"
    },
    {
     "data": {
      "image/png": "[encoded data removed]",
      "text/plain": [
       "<Figure size 360x360 with 1 Axes>"
      ]
     },
     "metadata": {
      "needs_background": "light"
     },
     "output_type": "display_data"
    }
   ],
   "source": [
    "h = sns.catplot(x='primary_genres', y='worldwide_gross', data=primary_genre, kind='point', hue='primary_genres',join=None)\n",
    "h.set_xticklabels(rotation = 90)"
   ]
  },
  {
   "cell_type": "code",
   "execution_count": 189,
   "metadata": {},
   "outputs": [
    {
     "data": {
      "text/html": [
       "<div>\n",
       "<style scoped>\n",
       "    .dataframe tbody tr th:only-of-type {\n",
       "        vertical-align: middle;\n",
       "    }\n",
       "\n",
       "    .dataframe tbody tr th {\n",
       "        vertical-align: top;\n",
       "    }\n",
       "\n",
       "    .dataframe thead th {\n",
       "        text-align: right;\n",
       "    }\n",
       "</style>\n",
       "<table border=\"1\" class=\"dataframe\">\n",
       "  <thead>\n",
       "    <tr style=\"text-align: right;\">\n",
       "      <th></th>\n",
       "      <th>category</th>\n",
       "      <th>primary_name</th>\n",
       "      <th>start_year</th>\n",
       "      <th>genres</th>\n",
       "      <th>averagerating</th>\n",
       "      <th>numvotes</th>\n",
       "      <th>runtime_minutes</th>\n",
       "      <th>movie</th>\n",
       "      <th>production_budget</th>\n",
       "      <th>domestic_gross</th>\n",
       "      <th>worldwide_gross</th>\n",
       "      <th>primary_genres</th>\n",
       "      <th>global_ROI</th>\n",
       "    </tr>\n",
       "  </thead>\n",
       "  <tbody>\n",
       "    <tr>\n",
       "      <td>0</td>\n",
       "      <td>producer</td>\n",
       "      <td>NaN</td>\n",
       "      <td>2014.0</td>\n",
       "      <td>[Action, Adventure, Fantasy]</td>\n",
       "      <td>4.2</td>\n",
       "      <td>50352.0</td>\n",
       "      <td>99.0</td>\n",
       "      <td>The Legend of Hercules</td>\n",
       "      <td>70000000</td>\n",
       "      <td>18848538</td>\n",
       "      <td>58953319</td>\n",
       "      <td>Action</td>\n",
       "      <td>-0.157810</td>\n",
       "    </tr>\n",
       "    <tr>\n",
       "      <td>1</td>\n",
       "      <td>editor</td>\n",
       "      <td>Jacquelyn Karambelas</td>\n",
       "      <td>2010.0</td>\n",
       "      <td>[Biography, Drama, Sport]</td>\n",
       "      <td>7.0</td>\n",
       "      <td>1613.0</td>\n",
       "      <td>108.0</td>\n",
       "      <td>The Hammer</td>\n",
       "      <td>850000</td>\n",
       "      <td>442638</td>\n",
       "      <td>442638</td>\n",
       "      <td>Biography</td>\n",
       "      <td>-0.479249</td>\n",
       "    </tr>\n",
       "    <tr>\n",
       "      <td>2</td>\n",
       "      <td>production_designer</td>\n",
       "      <td>Dina Lipton</td>\n",
       "      <td>2013.0</td>\n",
       "      <td>[Comedy]</td>\n",
       "      <td>5.1</td>\n",
       "      <td>8296.0</td>\n",
       "      <td>96.0</td>\n",
       "      <td>Baggage Claim</td>\n",
       "      <td>8500000</td>\n",
       "      <td>21569509</td>\n",
       "      <td>22885836</td>\n",
       "      <td>Comedy</td>\n",
       "      <td>1.692451</td>\n",
       "    </tr>\n",
       "    <tr>\n",
       "      <td>3</td>\n",
       "      <td>producer</td>\n",
       "      <td>Michael De Luca</td>\n",
       "      <td>2011.0</td>\n",
       "      <td>[Biography, Drama, Sport]</td>\n",
       "      <td>7.6</td>\n",
       "      <td>326657.0</td>\n",
       "      <td>133.0</td>\n",
       "      <td>Moneyball</td>\n",
       "      <td>50000000</td>\n",
       "      <td>75605492</td>\n",
       "      <td>111300835</td>\n",
       "      <td>Biography</td>\n",
       "      <td>1.226017</td>\n",
       "    </tr>\n",
       "    <tr>\n",
       "      <td>4</td>\n",
       "      <td>editor</td>\n",
       "      <td>Joel Cox</td>\n",
       "      <td>2010.0</td>\n",
       "      <td>[Drama, Fantasy, Romance]</td>\n",
       "      <td>6.5</td>\n",
       "      <td>87288.0</td>\n",
       "      <td>129.0</td>\n",
       "      <td>Hereafter</td>\n",
       "      <td>50000000</td>\n",
       "      <td>32746941</td>\n",
       "      <td>108660270</td>\n",
       "      <td>Drama</td>\n",
       "      <td>1.173205</td>\n",
       "    </tr>\n",
       "  </tbody>\n",
       "</table>\n",
       "</div>"
      ],
      "text/plain": [
       "              category          primary_name  start_year  \\\n",
       "0             producer                   NaN      2014.0   \n",
       "1               editor  Jacquelyn Karambelas      2010.0   \n",
       "2  production_designer           Dina Lipton      2013.0   \n",
       "3             producer       Michael De Luca      2011.0   \n",
       "4               editor              Joel Cox      2010.0   \n",
       "\n",
       "                         genres  averagerating  numvotes  runtime_minutes  \\\n",
       "0  [Action, Adventure, Fantasy]            4.2   50352.0             99.0   \n",
       "1     [Biography, Drama, Sport]            7.0    1613.0            108.0   \n",
       "2                      [Comedy]            5.1    8296.0             96.0   \n",
       "3     [Biography, Drama, Sport]            7.6  326657.0            133.0   \n",
       "4     [Drama, Fantasy, Romance]            6.5   87288.0            129.0   \n",
       "\n",
       "                    movie  production_budget  domestic_gross  worldwide_gross  \\\n",
       "0  The Legend of Hercules           70000000        18848538         58953319   \n",
       "1              The Hammer             850000          442638           442638   \n",
       "2           Baggage Claim            8500000        21569509         22885836   \n",
       "3               Moneyball           50000000        75605492        111300835   \n",
       "4               Hereafter           50000000        32746941        108660270   \n",
       "\n",
       "  primary_genres  global_ROI  \n",
       "0         Action   -0.157810  \n",
       "1      Biography   -0.479249  \n",
       "2         Comedy    1.692451  \n",
       "3      Biography    1.226017  \n",
       "4          Drama    1.173205  "
      ]
     },
     "execution_count": 189,
     "metadata": {},
     "output_type": "execute_result"
    }
   ],
   "source": [
    "genre['global_ROI'] = (genre['worldwide_gross'] - genre['production_budget']) / genre['production_budget']\n",
    "genre.head()"
   ]
  },
  {
   "cell_type": "code",
   "execution_count": 190,
   "metadata": {},
   "outputs": [
    {
     "name": "stderr",
     "output_type": "stream",
     "text": [
      "C:\\Users\\achil\\Anaconda3\\envs\\learn-env\\lib\\site-packages\\ipykernel_launcher.py:1: SettingWithCopyWarning: \n",
      "A value is trying to be set on a copy of a slice from a DataFrame.\n",
      "Try using .loc[row_indexer,col_indexer] = value instead\n",
      "\n",
      "See the caveats in the documentation: http://pandas.pydata.org/pandas-docs/stable/user_guide/indexing.html#returning-a-view-versus-a-copy\n",
      "  \"\"\"Entry point for launching an IPython kernel.\n"
     ]
    },
    {
     "data": {
      "text/html": [
       "<div>\n",
       "<style scoped>\n",
       "    .dataframe tbody tr th:only-of-type {\n",
       "        vertical-align: middle;\n",
       "    }\n",
       "\n",
       "    .dataframe tbody tr th {\n",
       "        vertical-align: top;\n",
       "    }\n",
       "\n",
       "    .dataframe thead th {\n",
       "        text-align: right;\n",
       "    }\n",
       "</style>\n",
       "<table border=\"1\" class=\"dataframe\">\n",
       "  <thead>\n",
       "    <tr style=\"text-align: right;\">\n",
       "      <th></th>\n",
       "      <th>category</th>\n",
       "      <th>primary_name</th>\n",
       "      <th>start_year</th>\n",
       "      <th>genres</th>\n",
       "      <th>averagerating</th>\n",
       "      <th>numvotes</th>\n",
       "      <th>runtime_minutes</th>\n",
       "      <th>movie</th>\n",
       "      <th>production_budget</th>\n",
       "      <th>domestic_gross</th>\n",
       "      <th>worldwide_gross</th>\n",
       "      <th>primary_genres</th>\n",
       "      <th>global_ROI</th>\n",
       "    </tr>\n",
       "  </thead>\n",
       "  <tbody>\n",
       "    <tr>\n",
       "      <td>0</td>\n",
       "      <td>producer</td>\n",
       "      <td>NaN</td>\n",
       "      <td>2014.0</td>\n",
       "      <td>[Action, Adventure, Fantasy]</td>\n",
       "      <td>4.2</td>\n",
       "      <td>50352.0</td>\n",
       "      <td>99.0</td>\n",
       "      <td>The Legend of Hercules</td>\n",
       "      <td>70000000</td>\n",
       "      <td>18848538</td>\n",
       "      <td>58953319</td>\n",
       "      <td>Action</td>\n",
       "      <td>-0.157810</td>\n",
       "    </tr>\n",
       "    <tr>\n",
       "      <td>1</td>\n",
       "      <td>editor</td>\n",
       "      <td>Jacquelyn Karambelas</td>\n",
       "      <td>2010.0</td>\n",
       "      <td>[Biography, Drama, Sport]</td>\n",
       "      <td>7.0</td>\n",
       "      <td>1613.0</td>\n",
       "      <td>108.0</td>\n",
       "      <td>The Hammer</td>\n",
       "      <td>850000</td>\n",
       "      <td>442638</td>\n",
       "      <td>442638</td>\n",
       "      <td>Biography</td>\n",
       "      <td>-0.479249</td>\n",
       "    </tr>\n",
       "    <tr>\n",
       "      <td>2</td>\n",
       "      <td>production_designer</td>\n",
       "      <td>Dina Lipton</td>\n",
       "      <td>2013.0</td>\n",
       "      <td>[Comedy]</td>\n",
       "      <td>5.1</td>\n",
       "      <td>8296.0</td>\n",
       "      <td>96.0</td>\n",
       "      <td>Baggage Claim</td>\n",
       "      <td>8500000</td>\n",
       "      <td>21569509</td>\n",
       "      <td>22885836</td>\n",
       "      <td>Comedy</td>\n",
       "      <td>1.692451</td>\n",
       "    </tr>\n",
       "    <tr>\n",
       "      <td>3</td>\n",
       "      <td>producer</td>\n",
       "      <td>Michael De Luca</td>\n",
       "      <td>2011.0</td>\n",
       "      <td>[Biography, Drama, Sport]</td>\n",
       "      <td>7.6</td>\n",
       "      <td>326657.0</td>\n",
       "      <td>133.0</td>\n",
       "      <td>Moneyball</td>\n",
       "      <td>50000000</td>\n",
       "      <td>75605492</td>\n",
       "      <td>111300835</td>\n",
       "      <td>Biography</td>\n",
       "      <td>1.226017</td>\n",
       "    </tr>\n",
       "    <tr>\n",
       "      <td>4</td>\n",
       "      <td>editor</td>\n",
       "      <td>Joel Cox</td>\n",
       "      <td>2010.0</td>\n",
       "      <td>[Drama, Fantasy, Romance]</td>\n",
       "      <td>6.5</td>\n",
       "      <td>87288.0</td>\n",
       "      <td>129.0</td>\n",
       "      <td>Hereafter</td>\n",
       "      <td>50000000</td>\n",
       "      <td>32746941</td>\n",
       "      <td>108660270</td>\n",
       "      <td>Drama</td>\n",
       "      <td>1.173205</td>\n",
       "    </tr>\n",
       "  </tbody>\n",
       "</table>\n",
       "</div>"
      ],
      "text/plain": [
       "              category          primary_name  start_year  \\\n",
       "0             producer                   NaN      2014.0   \n",
       "1               editor  Jacquelyn Karambelas      2010.0   \n",
       "2  production_designer           Dina Lipton      2013.0   \n",
       "3             producer       Michael De Luca      2011.0   \n",
       "4               editor              Joel Cox      2010.0   \n",
       "\n",
       "                         genres  averagerating  numvotes  runtime_minutes  \\\n",
       "0  [Action, Adventure, Fantasy]            4.2   50352.0             99.0   \n",
       "1     [Biography, Drama, Sport]            7.0    1613.0            108.0   \n",
       "2                      [Comedy]            5.1    8296.0             96.0   \n",
       "3     [Biography, Drama, Sport]            7.6  326657.0            133.0   \n",
       "4     [Drama, Fantasy, Romance]            6.5   87288.0            129.0   \n",
       "\n",
       "                    movie  production_budget  domestic_gross  worldwide_gross  \\\n",
       "0  The Legend of Hercules           70000000        18848538         58953319   \n",
       "1              The Hammer             850000          442638           442638   \n",
       "2           Baggage Claim            8500000        21569509         22885836   \n",
       "3               Moneyball           50000000        75605492        111300835   \n",
       "4               Hereafter           50000000        32746941        108660270   \n",
       "\n",
       "  primary_genres  global_ROI  \n",
       "0         Action   -0.157810  \n",
       "1      Biography   -0.479249  \n",
       "2         Comedy    1.692451  \n",
       "3      Biography    1.226017  \n",
       "4          Drama    1.173205  "
      ]
     },
     "execution_count": 190,
     "metadata": {},
     "output_type": "execute_result"
    }
   ],
   "source": [
    "primary_genre['global_ROI'] = (primary_genre['worldwide_gross'] - primary_genre['production_budget']) / primary_genre['production_budget']\n",
    "genre.head()"
   ]
  },
  {
   "cell_type": "code",
   "execution_count": 205,
   "metadata": {},
   "outputs": [
    {
     "data": {
      "text/html": [
       "<div>\n",
       "<style scoped>\n",
       "    .dataframe tbody tr th:only-of-type {\n",
       "        vertical-align: middle;\n",
       "    }\n",
       "\n",
       "    .dataframe tbody tr th {\n",
       "        vertical-align: top;\n",
       "    }\n",
       "\n",
       "    .dataframe thead th {\n",
       "        text-align: right;\n",
       "    }\n",
       "</style>\n",
       "<table border=\"1\" class=\"dataframe\">\n",
       "  <thead>\n",
       "    <tr style=\"text-align: right;\">\n",
       "      <th></th>\n",
       "      <th>category</th>\n",
       "      <th>primary_name</th>\n",
       "      <th>start_year</th>\n",
       "      <th>genres</th>\n",
       "      <th>averagerating</th>\n",
       "      <th>numvotes</th>\n",
       "      <th>runtime_minutes</th>\n",
       "      <th>movie</th>\n",
       "      <th>production_budget</th>\n",
       "      <th>domestic_gross</th>\n",
       "      <th>worldwide_gross</th>\n",
       "      <th>primary_genres</th>\n",
       "    </tr>\n",
       "  </thead>\n",
       "  <tbody>\n",
       "    <tr>\n",
       "      <td>0</td>\n",
       "      <td>producer</td>\n",
       "      <td>NaN</td>\n",
       "      <td>2014.0</td>\n",
       "      <td>[Action, Adventure, Fantasy]</td>\n",
       "      <td>4.2</td>\n",
       "      <td>50352.0</td>\n",
       "      <td>99.0</td>\n",
       "      <td>The Legend of Hercules</td>\n",
       "      <td>70000000</td>\n",
       "      <td>18848538</td>\n",
       "      <td>58953319</td>\n",
       "      <td>Action</td>\n",
       "    </tr>\n",
       "    <tr>\n",
       "      <td>1</td>\n",
       "      <td>editor</td>\n",
       "      <td>Jacquelyn Karambelas</td>\n",
       "      <td>2010.0</td>\n",
       "      <td>[Biography, Drama, Sport]</td>\n",
       "      <td>7.0</td>\n",
       "      <td>1613.0</td>\n",
       "      <td>108.0</td>\n",
       "      <td>The Hammer</td>\n",
       "      <td>850000</td>\n",
       "      <td>442638</td>\n",
       "      <td>442638</td>\n",
       "      <td>Biography</td>\n",
       "    </tr>\n",
       "    <tr>\n",
       "      <td>2</td>\n",
       "      <td>production_designer</td>\n",
       "      <td>Dina Lipton</td>\n",
       "      <td>2013.0</td>\n",
       "      <td>[Comedy]</td>\n",
       "      <td>5.1</td>\n",
       "      <td>8296.0</td>\n",
       "      <td>96.0</td>\n",
       "      <td>Baggage Claim</td>\n",
       "      <td>8500000</td>\n",
       "      <td>21569509</td>\n",
       "      <td>22885836</td>\n",
       "      <td>Comedy</td>\n",
       "    </tr>\n",
       "    <tr>\n",
       "      <td>3</td>\n",
       "      <td>producer</td>\n",
       "      <td>Michael De Luca</td>\n",
       "      <td>2011.0</td>\n",
       "      <td>[Biography, Drama, Sport]</td>\n",
       "      <td>7.6</td>\n",
       "      <td>326657.0</td>\n",
       "      <td>133.0</td>\n",
       "      <td>Moneyball</td>\n",
       "      <td>50000000</td>\n",
       "      <td>75605492</td>\n",
       "      <td>111300835</td>\n",
       "      <td>Biography</td>\n",
       "    </tr>\n",
       "    <tr>\n",
       "      <td>4</td>\n",
       "      <td>editor</td>\n",
       "      <td>Joel Cox</td>\n",
       "      <td>2010.0</td>\n",
       "      <td>[Drama, Fantasy, Romance]</td>\n",
       "      <td>6.5</td>\n",
       "      <td>87288.0</td>\n",
       "      <td>129.0</td>\n",
       "      <td>Hereafter</td>\n",
       "      <td>50000000</td>\n",
       "      <td>32746941</td>\n",
       "      <td>108660270</td>\n",
       "      <td>Drama</td>\n",
       "    </tr>\n",
       "  </tbody>\n",
       "</table>\n",
       "</div>"
      ],
      "text/plain": [
       "              category          primary_name  start_year  \\\n",
       "0             producer                   NaN      2014.0   \n",
       "1               editor  Jacquelyn Karambelas      2010.0   \n",
       "2  production_designer           Dina Lipton      2013.0   \n",
       "3             producer       Michael De Luca      2011.0   \n",
       "4               editor              Joel Cox      2010.0   \n",
       "\n",
       "                         genres  averagerating  numvotes  runtime_minutes  \\\n",
       "0  [Action, Adventure, Fantasy]            4.2   50352.0             99.0   \n",
       "1     [Biography, Drama, Sport]            7.0    1613.0            108.0   \n",
       "2                      [Comedy]            5.1    8296.0             96.0   \n",
       "3     [Biography, Drama, Sport]            7.6  326657.0            133.0   \n",
       "4     [Drama, Fantasy, Romance]            6.5   87288.0            129.0   \n",
       "\n",
       "                    movie  production_budget  domestic_gross  worldwide_gross  \\\n",
       "0  The Legend of Hercules           70000000        18848538         58953319   \n",
       "1              The Hammer             850000          442638           442638   \n",
       "2           Baggage Claim            8500000        21569509         22885836   \n",
       "3               Moneyball           50000000        75605492        111300835   \n",
       "4               Hereafter           50000000        32746941        108660270   \n",
       "\n",
       "  primary_genres  \n",
       "0         Action  \n",
       "1      Biography  \n",
       "2         Comedy  \n",
       "3      Biography  \n",
       "4          Drama  "
      ]
     },
     "execution_count": 205,
     "metadata": {},
     "output_type": "execute_result"
    }
   ],
   "source": [
    "primary_genre.head()"
   ]
  },
  {
   "cell_type": "code",
   "execution_count": 200,
   "metadata": {},
   "outputs": [
    {
     "data": {
      "text/html": [
       "<div>\n",
       "<style scoped>\n",
       "    .dataframe tbody tr th:only-of-type {\n",
       "        vertical-align: middle;\n",
       "    }\n",
       "\n",
       "    .dataframe tbody tr th {\n",
       "        vertical-align: top;\n",
       "    }\n",
       "\n",
       "    .dataframe thead th {\n",
       "        text-align: right;\n",
       "    }\n",
       "</style>\n",
       "<table border=\"1\" class=\"dataframe\">\n",
       "  <thead>\n",
       "    <tr style=\"text-align: right;\">\n",
       "      <th></th>\n",
       "      <th>category</th>\n",
       "      <th>primary_name</th>\n",
       "      <th>start_year</th>\n",
       "      <th>genres</th>\n",
       "      <th>averagerating</th>\n",
       "      <th>numvotes</th>\n",
       "      <th>runtime_minutes</th>\n",
       "      <th>movie</th>\n",
       "      <th>production_budget</th>\n",
       "      <th>domestic_gross</th>\n",
       "      <th>worldwide_gross</th>\n",
       "      <th>primary_genres</th>\n",
       "      <th>global_ROI</th>\n",
       "    </tr>\n",
       "  </thead>\n",
       "  <tbody>\n",
       "    <tr>\n",
       "      <td>0</td>\n",
       "      <td>producer</td>\n",
       "      <td>NaN</td>\n",
       "      <td>1970-01-01 00:00:00.000002014</td>\n",
       "      <td>[Action, Adventure, Fantasy]</td>\n",
       "      <td>4.2</td>\n",
       "      <td>50352.0</td>\n",
       "      <td>99.0</td>\n",
       "      <td>The Legend of Hercules</td>\n",
       "      <td>70000000</td>\n",
       "      <td>18848538</td>\n",
       "      <td>58953319</td>\n",
       "      <td>Action</td>\n",
       "      <td>-0.157810</td>\n",
       "    </tr>\n",
       "    <tr>\n",
       "      <td>1</td>\n",
       "      <td>editor</td>\n",
       "      <td>Jacquelyn Karambelas</td>\n",
       "      <td>1970-01-01 00:00:00.000002010</td>\n",
       "      <td>[Biography, Drama, Sport]</td>\n",
       "      <td>7.0</td>\n",
       "      <td>1613.0</td>\n",
       "      <td>108.0</td>\n",
       "      <td>The Hammer</td>\n",
       "      <td>850000</td>\n",
       "      <td>442638</td>\n",
       "      <td>442638</td>\n",
       "      <td>Biography</td>\n",
       "      <td>-0.479249</td>\n",
       "    </tr>\n",
       "    <tr>\n",
       "      <td>2</td>\n",
       "      <td>production_designer</td>\n",
       "      <td>Dina Lipton</td>\n",
       "      <td>1970-01-01 00:00:00.000002013</td>\n",
       "      <td>[Comedy]</td>\n",
       "      <td>5.1</td>\n",
       "      <td>8296.0</td>\n",
       "      <td>96.0</td>\n",
       "      <td>Baggage Claim</td>\n",
       "      <td>8500000</td>\n",
       "      <td>21569509</td>\n",
       "      <td>22885836</td>\n",
       "      <td>Comedy</td>\n",
       "      <td>1.692451</td>\n",
       "    </tr>\n",
       "    <tr>\n",
       "      <td>3</td>\n",
       "      <td>producer</td>\n",
       "      <td>Michael De Luca</td>\n",
       "      <td>1970-01-01 00:00:00.000002011</td>\n",
       "      <td>[Biography, Drama, Sport]</td>\n",
       "      <td>7.6</td>\n",
       "      <td>326657.0</td>\n",
       "      <td>133.0</td>\n",
       "      <td>Moneyball</td>\n",
       "      <td>50000000</td>\n",
       "      <td>75605492</td>\n",
       "      <td>111300835</td>\n",
       "      <td>Biography</td>\n",
       "      <td>1.226017</td>\n",
       "    </tr>\n",
       "    <tr>\n",
       "      <td>4</td>\n",
       "      <td>editor</td>\n",
       "      <td>Joel Cox</td>\n",
       "      <td>1970-01-01 00:00:00.000002010</td>\n",
       "      <td>[Drama, Fantasy, Romance]</td>\n",
       "      <td>6.5</td>\n",
       "      <td>87288.0</td>\n",
       "      <td>129.0</td>\n",
       "      <td>Hereafter</td>\n",
       "      <td>50000000</td>\n",
       "      <td>32746941</td>\n",
       "      <td>108660270</td>\n",
       "      <td>Drama</td>\n",
       "      <td>1.173205</td>\n",
       "    </tr>\n",
       "  </tbody>\n",
       "</table>\n",
       "</div>"
      ],
      "text/plain": [
       "              category          primary_name                    start_year  \\\n",
       "0             producer                   NaN 1970-01-01 00:00:00.000002014   \n",
       "1               editor  Jacquelyn Karambelas 1970-01-01 00:00:00.000002010   \n",
       "2  production_designer           Dina Lipton 1970-01-01 00:00:00.000002013   \n",
       "3             producer       Michael De Luca 1970-01-01 00:00:00.000002011   \n",
       "4               editor              Joel Cox 1970-01-01 00:00:00.000002010   \n",
       "\n",
       "                         genres  averagerating  numvotes  runtime_minutes  \\\n",
       "0  [Action, Adventure, Fantasy]            4.2   50352.0             99.0   \n",
       "1     [Biography, Drama, Sport]            7.0    1613.0            108.0   \n",
       "2                      [Comedy]            5.1    8296.0             96.0   \n",
       "3     [Biography, Drama, Sport]            7.6  326657.0            133.0   \n",
       "4     [Drama, Fantasy, Romance]            6.5   87288.0            129.0   \n",
       "\n",
       "                    movie  production_budget  domestic_gross  worldwide_gross  \\\n",
       "0  The Legend of Hercules           70000000        18848538         58953319   \n",
       "1              The Hammer             850000          442638           442638   \n",
       "2           Baggage Claim            8500000        21569509         22885836   \n",
       "3               Moneyball           50000000        75605492        111300835   \n",
       "4               Hereafter           50000000        32746941        108660270   \n",
       "\n",
       "  primary_genres  global_ROI  \n",
       "0         Action   -0.157810  \n",
       "1      Biography   -0.479249  \n",
       "2         Comedy    1.692451  \n",
       "3      Biography    1.226017  \n",
       "4          Drama    1.173205  "
      ]
     },
     "execution_count": 200,
     "metadata": {},
     "output_type": "execute_result"
    }
   ],
   "source": []
  },
  {
   "cell_type": "code",
   "execution_count": 252,
   "metadata": {},
   "outputs": [
    {
     "data": {
      "text/plain": [
       "<seaborn.axisgrid.FacetGrid at 0x1ccd5721240>"
      ]
     },
     "execution_count": 252,
     "metadata": {},
     "output_type": "execute_result"
    },
    {
     "data": {
      "image/png": "[encoded data removed]",
      "text/plain": [
       "<Figure size 474.375x360 with 1 Axes>"
      ]
     },
     "metadata": {
      "needs_background": "light"
     },
     "output_type": "display_data"
    }
   ],
   "source": [
    "sns.relplot(x='start_year', y='worldwide_gross', data=primary_genre, kind='scatter', hue='primary_genres')"
   ]
  },
  {
   "cell_type": "code",
   "execution_count": 213,
   "metadata": {},
   "outputs": [],
   "source": [
    "missing_rating = primary_genre['averagerating'].isna()"
   ]
  },
  {
   "cell_type": "code",
   "execution_count": 215,
   "metadata": {},
   "outputs": [
    {
     "data": {
      "text/plain": [
       "False    0.918963\n",
       "True     0.081037\n",
       "Name: averagerating, dtype: float64"
      ]
     },
     "execution_count": 215,
     "metadata": {},
     "output_type": "execute_result"
    }
   ],
   "source": [
    "missing_rating.value_counts(normalize=True)"
   ]
  },
  {
   "cell_type": "code",
   "execution_count": 216,
   "metadata": {},
   "outputs": [
    {
     "name": "stderr",
     "output_type": "stream",
     "text": [
      "C:\\Users\\achil\\Anaconda3\\envs\\learn-env\\lib\\site-packages\\pandas\\core\\generic.py:6287: SettingWithCopyWarning: \n",
      "A value is trying to be set on a copy of a slice from a DataFrame\n",
      "\n",
      "See the caveats in the documentation: http://pandas.pydata.org/pandas-docs/stable/user_guide/indexing.html#returning-a-view-versus-a-copy\n",
      "  self._update_inplace(new_data)\n"
     ]
    }
   ],
   "source": [
    "primary_genre.averagerating.fillna(primary_genre.averagerating.median(), inplace=True)"
   ]
  },
  {
   "cell_type": "code",
   "execution_count": 217,
   "metadata": {},
   "outputs": [],
   "source": [
    "primary_genre.runtime_minutes.fillna(primary_genre.runtime_minutes.median(), inplace=True)"
   ]
  },
  {
   "cell_type": "code",
   "execution_count": 238,
   "metadata": {},
   "outputs": [],
   "source": [
    "start = primary_genre.groupby(['start_year', 'primary_genres'])['worldwide_gross'].median()"
   ]
  },
  {
   "cell_type": "code",
   "execution_count": 243,
   "metadata": {},
   "outputs": [
    {
     "data": {
      "text/html": [
       "<div>\n",
       "<style scoped>\n",
       "    .dataframe tbody tr th:only-of-type {\n",
       "        vertical-align: middle;\n",
       "    }\n",
       "\n",
       "    .dataframe tbody tr th {\n",
       "        vertical-align: top;\n",
       "    }\n",
       "\n",
       "    .dataframe thead th {\n",
       "        text-align: right;\n",
       "    }\n",
       "</style>\n",
       "<table border=\"1\" class=\"dataframe\">\n",
       "  <thead>\n",
       "    <tr style=\"text-align: right;\">\n",
       "      <th></th>\n",
       "      <th></th>\n",
       "      <th>Worldwide_gross</th>\n",
       "    </tr>\n",
       "    <tr>\n",
       "      <th>start_year</th>\n",
       "      <th>primary_genres</th>\n",
       "      <th></th>\n",
       "    </tr>\n",
       "  </thead>\n",
       "  <tbody>\n",
       "    <tr>\n",
       "      <td rowspan=\"5\" valign=\"top\">2010.0</td>\n",
       "      <td>Action</td>\n",
       "      <td>67255916.0</td>\n",
       "    </tr>\n",
       "    <tr>\n",
       "      <td>Adventure</td>\n",
       "      <td>211739043.0</td>\n",
       "    </tr>\n",
       "    <tr>\n",
       "      <td>Animation</td>\n",
       "      <td>83792062.0</td>\n",
       "    </tr>\n",
       "    <tr>\n",
       "      <td>Biography</td>\n",
       "      <td>18115927.0</td>\n",
       "    </tr>\n",
       "    <tr>\n",
       "      <td>Comedy</td>\n",
       "      <td>21867665.0</td>\n",
       "    </tr>\n",
       "  </tbody>\n",
       "</table>\n",
       "</div>"
      ],
      "text/plain": [
       "                           Worldwide_gross\n",
       "start_year primary_genres                 \n",
       "2010.0     Action               67255916.0\n",
       "           Adventure           211739043.0\n",
       "           Animation            83792062.0\n",
       "           Biography            18115927.0\n",
       "           Comedy               21867665.0"
      ]
     },
     "execution_count": 243,
     "metadata": {},
     "output_type": "execute_result"
    }
   ],
   "source": [
    "genre_by_year = start.to_frame(name='Worldwide_gross')\n",
    "genre_by_year.head()"
   ]
  },
  {
   "cell_type": "code",
   "execution_count": 250,
   "metadata": {},
   "outputs": [
    {
     "data": {
      "text/plain": [
       "<pandas.core.groupby.generic.SeriesGroupBy object at 0x000001CCD56E0A58>"
      ]
     },
     "execution_count": 250,
     "metadata": {},
     "output_type": "execute_result"
    }
   ],
   "source": []
  },
  {
   "cell_type": "code",
   "execution_count": null,
   "metadata": {},
   "outputs": [],
   "source": []
  }
 ],
 "metadata": {
  "kernelspec": {
   "display_name": "Python 3",
   "language": "python",
   "name": "python3"
  },
  "language_info": {
   "codemirror_mode": {
    "name": "ipython",
    "version": 3
   },
   "file_extension": ".py",
   "mimetype": "text/x-python",
   "name": "python",
   "nbconvert_exporter": "python",
   "pygments_lexer": "ipython3",
   "version": "3.6.9"
  }
 },
 "nbformat": 4,
 "nbformat_minor": 2
}
