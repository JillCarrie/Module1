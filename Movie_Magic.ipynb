{
 "cells": [
  {
   "cell_type": "markdown",
   "metadata": {},
   "source": [
    "# Microsoft Movie Magic \n",
    "\n",
    "Data Analysis: Aaron Childress & Jill Carrie\n",
    "Date: Dec 4 2019\n",
    "\n",
    "Data Sources: IMDB (https://www.imdb.com/interfaces/), TheMovieDB.org (https://www.the-numbers.com/movie/budgets/all) & Box Office Mojo (https://www.boxofficemojo.com/yearly/chart/?view2=worldwide&yr=2010&p=.htm) \n",
    "The data folder in this repository contains all our raw data files, including form our additional EDA source Rotten Tomatoes."
   ]
  },
  {
   "cell_type": "markdown",
   "metadata": {},
   "source": [
    "**Problem: \"What type of films are currently doing the best at the box office?\"**\n",
    " \n",
    "        (Seaborn PLOT - Gross(genre) vs Time - scatter and regression line)"
   ]
  },
  {
   "cell_type": "code",
   "execution_count": 2,
   "metadata": {},
   "outputs": [
    {
     "ename": "SyntaxError",
     "evalue": "invalid syntax (<ipython-input-2-1ae2c6b446ff>, line 7)",
     "output_type": "error",
     "traceback": [
      "\u001b[0;36m  File \u001b[0;32m\"<ipython-input-2-1ae2c6b446ff>\"\u001b[0;36m, line \u001b[0;32m7\u001b[0m\n\u001b[0;31m    from data/project1 import *\u001b[0m\n\u001b[0m             ^\u001b[0m\n\u001b[0;31mSyntaxError\u001b[0m\u001b[0;31m:\u001b[0m invalid syntax\n"
     ]
    }
   ],
   "source": [
    "import pandas as pd\n",
    "import numpy as np\n",
    "import matplotlib.pyplot as plt\n",
    "import seaborn as sns\n",
    "import datetime as dt\n",
    "%matplotlib inline\n",
    "from data/project1 import *"
   ]
  },
  {
   "cell_type": "markdown",
   "metadata": {},
   "source": [
    "(Note: For access to our long form detailed data evaluation, cleaning and data set merging steps, please see the project1 jupyter notebook inside the data folder)"
   ]
  },
  {
   "cell_type": "markdown",
   "metadata": {},
   "source": [
    "Let's start by looking at how much money movies are making grose over time?"
   ]
  },
  {
   "cell_type": "code",
   "execution_count": null,
   "metadata": {},
   "outputs": [],
   "source": [
    "gross=sns.relplot(x='release_date', y=\"worldwide_gross\", data=df, kind='scatter', palette = 'gray')\n",
    "gross.set(xlabel='Release Date', ylabel='Worldwide Gross')\n",
    "gross.fig.suptitle('Industry Revenue Over Time', y=1.03)"
   ]
  },
  {
   "cell_type": "markdown",
   "metadata": {},
   "source": [
    "This graph isn't the most helpful, but it does tell us that movie industry as a whole has an upwards trend for the top end of grose! Which supports the Microsoft decision to start making movies.\n",
    "\n",
    "### Looking at Return on Investment (ROI)\n",
    "\n",
    "Instead of looking at film grose, let's look at return on investment by Genre, as we believe ROI is the best measure of a movies success and profitability. "
   ]
  },
  {
   "cell_type": "code",
   "execution_count": null,
   "metadata": {},
   "outputs": [],
   "source": [
    "z = sns.catplot(x='start_year', y='global_ROI', data=primary_genre, kind='point', hue='broad_genres', join=None, \n",
    "                palette=palette2, ci=False)\n",
    "z.set(xlabel='Release Year', ylabel='Global ROI(%)')\n",
    "z.set_xticklabels(rotation=45)\n",
    "z.fig.suptitle('ROI trends over time', y=1.03)"
   ]
  },
  {
   "cell_type": "markdown",
   "metadata": {},
   "source": []
  },
  {
   "cell_type": "code",
   "execution_count": null,
   "metadata": {},
   "outputs": [],
   "source": [
    "t = sns.catplot(x='broad_genres', y='global_ROI', data=primary_genre, kind='point', \n",
    "                palette=palette2, hue='broad_genres',join=None)\n",
    "t.set(xlabel='Genre', ylabel='Global ROI(%)')\n",
    "t.set_xticklabels(rotation = 90)\n",
    "t.fig.suptitle('Global ROI by genre', y=1.03)"
   ]
  },
  {
   "cell_type": "markdown",
   "metadata": {},
   "source": [
    "### Make Horror Movies!!\n",
    "\n",
    "Whoa! This data clearly shows that horror movies are very profitable! The Return on Investment is much higher than for any other genre!\n",
    "\n",
    "### Competition \n",
    "\n",
    "Let's have a look to see how many movies have been made in each genre?"
   ]
  },
  {
   "cell_type": "code",
   "execution_count": null,
   "metadata": {},
   "outputs": [],
   "source": [
    "c = sns.catplot(x='broad_genres', data=primary_genre, kind='count', palette=palette2)\n",
    "c.set(xlabel='Genre', ylabel='Movies Produced')\n",
    "c.set_xticklabels(rotation = 90)\n",
    "c.fig.suptitle('Genre popularity with studios', y=1.03)"
   ]
  },
  {
   "cell_type": "code",
   "execution_count": null,
   "metadata": {},
   "outputs": [],
   "source": [
    "b = sns.relplot(x='production_budget_log', y='global_ROI_log', data=primary_genre, hue='broad_genres', \n",
    "            palette=palette2, kind='scatter')\n",
    "b.set(xlabel='Production Budget (logscale)', ylabel='Global ROI (logscale)')\n",
    "b.fig.suptitle('ROI vs Production Budget', y=1.15)\n",
    "b._legend.texts[0].set_text('Genre')\n",
    "plt.axvline(15.4, color=\"#696969\", linestyle=\"--\")\n",
    "plt.text(15.1,7,'Q1',rotation=None)\n",
    "plt.axvline(16.7, color=\"#696969\", linestyle=\"-\")\n",
    "plt.text(16.4,7,'Q2',rotation=None)\n",
    "plt.axvline(17.6, color=\"#696969\", linestyle=\"--\")\n",
    "plt.text(17.3,7,'Q3',rotation=None)\n",
    "plt.text(11.7,8.5,'Q1:5m, Q2:18m, Q3:45m, Max:425m',rotation=None)"
   ]
  },
  {
   "cell_type": "code",
   "execution_count": null,
   "metadata": {},
   "outputs": [],
   "source": [
    "b = sns.relplot(x='production_budget_log', y='global_ROI_log', data=primary_genre, hue='broad_genres', \n",
    "            palette=palette3, kind='scatter')\n",
    "b.set(xlabel='Production Budget (logscale)', ylabel='Global ROI (logscale)')\n",
    "b.fig.suptitle('ROI vs Production Budget', y=1.15)\n",
    "b._legend.texts[0].set_text('Genre')\n",
    "plt.axvline(15.4, color=\"#696969\", linestyle=\"--\")\n",
    "plt.text(15.1,7,'Q1',rotation=None)\n",
    "plt.axvline(16.7, color=\"#696969\", linestyle=\"-\")\n",
    "plt.text(16.4,7,'Q2',rotation=None)\n",
    "plt.axvline(17.6, color=\"#696969\", linestyle=\"--\")\n",
    "plt.text(17.3,7,'Q3',rotation=None)\n",
    "plt.text(11.7,8.5,'Q1:5m, Q2:18m, Q3:45m, Max:425m',rotation=None)"
   ]
  },
  {
   "cell_type": "markdown",
   "metadata": {},
   "source": [
    "\n",
    "### Recommendations Review: \n",
    "\n",
    "> Horror films produce significantly higher ROIs, than other genres.\n",
    ">\n",
    "> There is less competition in the horror genre and thus it will be easier to make your film stands out. \n",
    ">\n",
    "> Make low-mid budget films, for a higher ROI.\n",
    ">\n",
    "> Distribute your investment risk across several films and you will increase your chances of a hit!\n",
    "\n",
    "\n"
   ]
  },
  {
   "cell_type": "markdown",
   "metadata": {},
   "source": []
  }
 ],
 "metadata": {
  "kernelspec": {
   "display_name": "Python 3",
   "language": "python",
   "name": "python3"
  },
  "language_info": {
   "codemirror_mode": {
    "name": "ipython",
    "version": 3
   },
   "file_extension": ".py",
   "mimetype": "text/x-python",
   "name": "python",
   "nbconvert_exporter": "python",
   "pygments_lexer": "ipython3",
   "version": "3.7.4"
  }
 },
 "nbformat": 4,
 "nbformat_minor": 2
}
